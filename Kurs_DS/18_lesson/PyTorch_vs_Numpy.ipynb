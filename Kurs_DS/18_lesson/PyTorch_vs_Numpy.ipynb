{
 "cells": [
  {
   "cell_type": "code",
   "execution_count": 1,
   "metadata": {
    "id": "EDcYDdXLSqc7"
   },
   "outputs": [],
   "source": [
    "import torch"
   ]
  },
  {
   "cell_type": "code",
   "execution_count": 2,
   "metadata": {
    "id": "ygeQQ46TTAyF"
   },
   "outputs": [],
   "source": [
    "import numpy as np"
   ]
  },
  {
   "cell_type": "code",
   "execution_count": 3,
   "metadata": {
    "id": "8Srf7oOCTD2I"
   },
   "outputs": [],
   "source": [
    "zeros_np  = np.zeros((4, 4))\n",
    "ones_np   = np.ones((4, 4))\n",
    "random_np = np.random.random((4, 4))"
   ]
  },
  {
   "cell_type": "code",
   "execution_count": 4,
   "metadata": {
    "id": "oc-dUzgHTEgc"
   },
   "outputs": [],
   "source": [
    "zeros_t  = torch.zeros(4, 4)\n",
    "ones_t   = torch.ones(4, 4)\n",
    "random_t = torch.rand(4, 4)"
   ]
  },
  {
   "cell_type": "code",
   "execution_count": 5,
   "metadata": {},
   "outputs": [
    {
     "data": {
      "text/plain": [
       "array([[0.37597887, 0.17202816, 0.25832523, 0.26990816],\n",
       "       [0.45269147, 0.94498271, 0.88581974, 0.80011193],\n",
       "       [0.27420219, 0.13362536, 0.95157235, 0.14139861],\n",
       "       [0.2155063 , 0.19352795, 0.97766469, 0.67500553]])"
      ]
     },
     "execution_count": 5,
     "metadata": {},
     "output_type": "execute_result"
    }
   ],
   "source": [
    "random_np"
   ]
  },
  {
   "cell_type": "code",
   "execution_count": 6,
   "metadata": {},
   "outputs": [
    {
     "data": {
      "text/plain": [
       "tensor([[0.1092, 0.8031, 0.2359, 0.4994],\n",
       "        [0.0421, 0.2664, 0.1589, 0.0808],\n",
       "        [0.3358, 0.3256, 0.2824, 0.1196],\n",
       "        [0.4112, 0.0952, 0.2323, 0.8964]])"
      ]
     },
     "execution_count": 6,
     "metadata": {},
     "output_type": "execute_result"
    }
   ],
   "source": [
    "random_t"
   ]
  },
  {
   "cell_type": "code",
   "execution_count": 9,
   "metadata": {},
   "outputs": [
    {
     "name": "stdout",
     "output_type": "stream",
     "text": [
      "None\n"
     ]
    }
   ],
   "source": [
    "print(random_t.grad)\n"
   ]
  },
  {
   "cell_type": "code",
   "execution_count": 12,
   "metadata": {
    "id": "apEJfsttTBXZ"
   },
   "outputs": [],
   "source": [
    "# Numpy -> PyTorch\n",
    "tensor = torch.from_numpy(random_np)\n",
    "\n",
    "# PyTorch -> Numpy\n",
    "# random_np_t = tensor.numpy()\n",
    "#отсоединение графа градиентов\n",
    "random_np_t = tensor.detach().numpy()"
   ]
  },
  {
   "cell_type": "code",
   "execution_count": 15,
   "metadata": {},
   "outputs": [],
   "source": [
    "tt = torch.sin(random_t + tensor)"
   ]
  },
  {
   "cell_type": "code",
   "execution_count": 16,
   "metadata": {},
   "outputs": [
    {
     "data": {
      "text/plain": [
       "False"
      ]
     },
     "execution_count": 16,
     "metadata": {},
     "output_type": "execute_result"
    }
   ],
   "source": [
    "tensor.requires_grad"
   ]
  },
  {
   "cell_type": "code",
   "execution_count": 17,
   "metadata": {},
   "outputs": [
    {
     "ename": "RuntimeError",
     "evalue": "Can't call numpy() on Variable that requires grad. Use var.detach().numpy() instead.",
     "output_type": "error",
     "traceback": [
      "\u001b[1;31m---------------------------------------------------------------------------\u001b[0m",
      "\u001b[1;31mRuntimeError\u001b[0m                              Traceback (most recent call last)",
      "\u001b[1;32m<ipython-input-17-7963537b6077>\u001b[0m in \u001b[0;36m<module>\u001b[1;34m()\u001b[0m\n\u001b[0;32m      3\u001b[0m \u001b[0mtensor\u001b[0m\u001b[1;33m.\u001b[0m\u001b[0mrequires_grad\u001b[0m \u001b[1;33m=\u001b[0m \u001b[1;32mTrue\u001b[0m\u001b[1;33m\u001b[0m\u001b[0m\n\u001b[0;32m      4\u001b[0m \u001b[1;31m# PyTorch -> Numpy\u001b[0m\u001b[1;33m\u001b[0m\u001b[1;33m\u001b[0m\u001b[0m\n\u001b[1;32m----> 5\u001b[1;33m \u001b[0mrandom_np_t\u001b[0m \u001b[1;33m=\u001b[0m \u001b[0mtensor\u001b[0m\u001b[1;33m.\u001b[0m\u001b[0mnumpy\u001b[0m\u001b[1;33m(\u001b[0m\u001b[1;33m)\u001b[0m\u001b[1;33m\u001b[0m\u001b[0m\n\u001b[0m\u001b[0;32m      6\u001b[0m \u001b[1;31m#отсоединение графа градиентов\u001b[0m\u001b[1;33m\u001b[0m\u001b[1;33m\u001b[0m\u001b[0m\n\u001b[0;32m      7\u001b[0m \u001b[1;31m# random_np_t = tensor.detach().numpy()\u001b[0m\u001b[1;33m\u001b[0m\u001b[1;33m\u001b[0m\u001b[0m\n",
      "\u001b[1;31mRuntimeError\u001b[0m: Can't call numpy() on Variable that requires grad. Use var.detach().numpy() instead."
     ]
    }
   ],
   "source": [
    "# Numpy -> PyTorch\n",
    "tensor = torch.from_numpy(random_np)\n",
    "tensor.requires_grad = True\n",
    "# PyTorch -> Numpy\n",
    "random_np_t = tensor.numpy()\n",
    "#отсоединение графа градиентов\n",
    "# random_np_t = tensor.detach().numpy()"
   ]
  },
  {
   "cell_type": "markdown",
   "metadata": {
    "id": "EBcFaoYMTsB0"
   },
   "source": [
    "Индексация"
   ]
  },
  {
   "cell_type": "code",
   "execution_count": null,
   "metadata": {
    "id": "5soVuOkUTUZP"
   },
   "outputs": [],
   "source": [
    "# Index item\n",
    "print(random_np[0, 0]) # returns a float\n",
    "\n",
    "# Index row\n",
    "print(random_np[0, :]) # returns an array"
   ]
  },
  {
   "cell_type": "code",
   "execution_count": null,
   "metadata": {
    "id": "OGx06gJdTd7W"
   },
   "outputs": [],
   "source": [
    "# Index item\n",
    "print(random_t[0, 0]) # returns a float\n",
    "\n",
    "# Index row\n",
    "print(random_t[0, :]) # returns an array"
   ]
  },
  {
   "cell_type": "markdown",
   "metadata": {
    "id": "LpeOKkLUTvu-"
   },
   "source": [
    "Поэлементное сложение и вычитание\n"
   ]
  },
  {
   "cell_type": "code",
   "execution_count": null,
   "metadata": {
    "id": "8O-tyoLiTy-x"
   },
   "outputs": [],
   "source": [
    "print(random_np - ones_np)\n",
    "print(random_np + ones_np)"
   ]
  },
  {
   "cell_type": "code",
   "execution_count": null,
   "metadata": {
    "id": "JVQElzdXT6ax"
   },
   "outputs": [],
   "source": [
    "print(random_t - ones_t)\n",
    "print(random_t + ones_t)"
   ]
  },
  {
   "cell_type": "markdown",
   "metadata": {
    "id": "jaGLsEmtUJxy"
   },
   "source": [
    "Умножение"
   ]
  },
  {
   "cell_type": "code",
   "execution_count": null,
   "metadata": {
    "id": "HsqURqvqUYMk"
   },
   "outputs": [],
   "source": [
    "print(random_np*ones_np) ##Elementwise\n",
    "print(random_np@ones_np) ## Matrix"
   ]
  },
  {
   "cell_type": "code",
   "execution_count": null,
   "metadata": {
    "id": "zVyY2X9cUAES"
   },
   "outputs": [],
   "source": [
    "print(random_t*ones_t) ##Elementwise\n",
    "print(random_t@ones_t) ## Matrix"
   ]
  },
  {
   "cell_type": "markdown",
   "metadata": {
    "id": "ZietDgKRUeLu"
   },
   "source": [
    "Размерность"
   ]
  },
  {
   "cell_type": "code",
   "execution_count": 18,
   "metadata": {
    "id": "r5JRJUszUWxf"
   },
   "outputs": [
    {
     "name": "stdout",
     "output_type": "stream",
     "text": [
      "(4, 4)\n",
      "2\n"
     ]
    }
   ],
   "source": [
    "print(random_np.shape)\n",
    "print(random_np.ndim)"
   ]
  },
  {
   "cell_type": "code",
   "execution_count": 22,
   "metadata": {
    "id": "YQQat3m6Umrt"
   },
   "outputs": [
    {
     "name": "stdout",
     "output_type": "stream",
     "text": [
      "torch.Size([4, 4])\n",
      "torch.Size([4, 4])\n",
      "2\n"
     ]
    }
   ],
   "source": [
    "print(random_t.shape)\n",
    "print(random_t.size()) \n",
    "assert random_t.shape==random_t.size()\n",
    "print(random_t.dim())"
   ]
  },
  {
   "cell_type": "markdown",
   "metadata": {
    "id": "1iw9NbKRU6SS"
   },
   "source": [
    "Решейпинг"
   ]
  },
  {
   "cell_type": "code",
   "execution_count": null,
   "metadata": {
    "id": "q37nfaPdU5jz"
   },
   "outputs": [],
   "source": [
    "print(random_np.shape, (random_np.reshape((8,2)).shape))"
   ]
  },
  {
   "cell_type": "code",
   "execution_count": null,
   "metadata": {
    "id": "LxRlPlxIUwAE"
   },
   "outputs": [],
   "source": [
    "print(random_t.shape, (random_t.view(8, 2).shape))"
   ]
  },
  {
   "cell_type": "markdown",
   "metadata": {
    "id": "M82HWXbcVcrc"
   },
   "source": [
    "Детерминанта"
   ]
  },
  {
   "cell_type": "code",
   "execution_count": null,
   "metadata": {
    "id": "1IrcoQUZVa1o"
   },
   "outputs": [],
   "source": [
    "np.linalg.det(ones_np)"
   ]
  },
  {
   "cell_type": "code",
   "execution_count": null,
   "metadata": {
    "id": "seCsjl3NViLv"
   },
   "outputs": [],
   "source": [
    "#Не поддерживается "
   ]
  },
  {
   "cell_type": "markdown",
   "metadata": {
    "id": "YZc9QkoLVs-g"
   },
   "source": [
    "Sum/mean/std"
   ]
  },
  {
   "cell_type": "code",
   "execution_count": 23,
   "metadata": {
    "id": "EChAC6BLVw32"
   },
   "outputs": [
    {
     "name": "stdout",
     "output_type": "stream",
     "text": [
      "16.0 1.0 0.0\n",
      "tensor(16.) tensor(1.) tensor([0., 0., 0., 0.])\n"
     ]
    }
   ],
   "source": [
    "print(ones_np.sum(), ones_np.mean(), ones_np.std())\n",
    "print(ones_t.sum(), ones_t.mean(), ones_t.std(1))"
   ]
  },
  {
   "cell_type": "markdown",
   "metadata": {
    "id": "lbJeFJjlWLW-"
   },
   "source": [
    "Транспонирование"
   ]
  },
  {
   "cell_type": "code",
   "execution_count": null,
   "metadata": {
    "id": "ncSCaiq8WIBY"
   },
   "outputs": [],
   "source": [
    "print(random_np)\n",
    "print(random_np.T)"
   ]
  },
  {
   "cell_type": "code",
   "execution_count": null,
   "metadata": {
    "id": "VkGISD-MWCPM"
   },
   "outputs": [],
   "source": [
    "print(random_t)\n",
    "print(random_t.t())"
   ]
  },
  {
   "cell_type": "markdown",
   "metadata": {
    "id": "lrwlxZ4JWsuo"
   },
   "source": [
    "Сохранение данных"
   ]
  },
  {
   "cell_type": "code",
   "execution_count": null,
   "metadata": {
    "id": "tMXB4OMhWiBA"
   },
   "outputs": [],
   "source": [
    "np.save('file.npy', random_np)\n",
    "np.load('file.npy')"
   ]
  },
  {
   "cell_type": "code",
   "execution_count": null,
   "metadata": {
    "id": "AMAB-pW1WzAX"
   },
   "outputs": [],
   "source": [
    "torch.save(random_t, 'file')\n",
    "torch.load('file')"
   ]
  },
  {
   "cell_type": "code",
   "execution_count": null,
   "metadata": {
    "id": "URytu91BW4gt"
   },
   "outputs": [],
   "source": []
  }
 ],
 "metadata": {
  "colab": {
   "collapsed_sections": [],
   "private_outputs": true,
   "provenance": []
  },
  "kernelspec": {
   "display_name": "Python 3",
   "language": "python",
   "name": "python3"
  },
  "language_info": {
   "codemirror_mode": {
    "name": "ipython",
    "version": 3
   },
   "file_extension": ".py",
   "mimetype": "text/x-python",
   "name": "python",
   "nbconvert_exporter": "python",
   "pygments_lexer": "ipython3",
   "version": "3.6.5"
  }
 },
 "nbformat": 4,
 "nbformat_minor": 1
}
