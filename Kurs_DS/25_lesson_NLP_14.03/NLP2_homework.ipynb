{
  "cells": [
    {
      "cell_type": "markdown",
      "metadata": {
        "id": "OYZRf1ncz-sT"
      },
      "source": [
        "NLP2_1\n",
        "https://www.hackerrank.com/challenges/detect-the-email-addresses/problem?isFullScreen=true"
      ]
    },
    {
      "cell_type": "code",
      "execution_count": null,
      "metadata": {},
      "outputs": [],
      "source": [
        "import re\n",
        "emails=[]\n",
        "emails = re.findall(\"([a-zA-Z0-9_]+@[a-zA-Z0-9-]+.[a-zA-Z0-9-.]+)\", text)\n",
        "print(\";\".join(emails))"
      ]
    },
    {
      "cell_type": "markdown",
      "metadata": {
        "id": "jKzbIfdq0CKr"
      },
      "source": [
        "NLP2_2 https://www.hackerrank.com/challenges/detect-the-domain-name/problem?isFullScreen=true"
      ]
    },
    {
      "cell_type": "code",
      "execution_count": null,
      "metadata": {},
      "outputs": [],
      "source": []
    },
    {
      "cell_type": "markdown",
      "metadata": {
        "id": "Op8qPHa8J68_"
      },
      "source": [
        "NLP2_3 (дз1): Реализовать stemming, lemmatization & BoW на следующем датасете: https://cloud.mail.ru/public/Z4L3/vB8GcgTtK (Russian Toxic-abuse comments)"
      ]
    },
    {
      "cell_type": "markdown",
      "metadata": {
        "id": "b5DQQnoU1bXY"
      },
      "source": [
        "NLP2_4 Реализовать классификатор токсичных комментариев tfidf на базе датасета\n",
        "https://www.kaggle.com/datasets/blackmoon/russian-language-toxic-comments  \n",
        "\n",
        "Дубликат файла: https://cloud.mail.ru/public/Z4L3/vB8GcgTtK\n",
        "\n"
      ]
    },
    {
      "cell_type": "code",
      "execution_count": 65,
      "metadata": {},
      "outputs": [],
      "source": [
        "text = '''\n",
        " 10\n",
        "<div class=\"reflist\" style=\"list-style-type: decimal;\">\n",
        "<ol class=\"references\">\n",
        "<li id=\"cite_note-1\"><span class=\"mw-cite-backlink\"><b>^ [\"Train (noun)\"](https://www.askoxford.com/concise_oed/train?view=uk). <i>(definition – Compact OED)</i>. Oxford University Press<span class=\"reference-accessdate\">. Retrieved 2008-03-18</span>.</span><span title=\"ctx_ver=Z39.88-2004&rfr_id=info%3Asid%2Fen.wikipedia.org%3ATrain&rft.atitle=Train+%28noun%29&rft.genre=article&rft_id=http%3A%2F%2Fwww.askoxford.com%2Fconcise_oed%2Ftrain%3Fview%3Duk&rft.jtitle=%28definition+%E2%80%93+Compact+OED%29&rft.pub=Oxford+University+Press&rft_val_fmt=info%3Aofi%2Ffmt%3Akev%3Amtx%3Ajournal\" class=\"Z3988\"><span style=\"display:none;\"> </span></span></span></li>\n",
        "<li id=\"cite_note-2\"><span class=\"mw-cite-backlink\"><b>^</b></span> <span class=\"reference-text\"><span class=\"citation book\">Atchison, Topeka and Santa Fe Railway (1948). <i>Rules: Operating Department</i>. p. 7.</span><span title=\"ctx_ver=Z39.88-2004&rfr_id=info%3Asid%2Fen.wikipedia.org%3ATrain&rft.au=Atchison%2C+Topeka+and+Santa+Fe+Railway&rft.aulast=Atchison%2C+Topeka+and+Santa+Fe+Railway&rft.btitle=Rules%3A+Operating+Department&rft.date=1948&rft.genre=book&rft.pages=7&rft_val_fmt=info%3Aofi%2Ffmt%3Akev%3Amtx%3Abook\" class=\"Z3988\"><span style=\"display:none;\"> </span></span></span></li>\n",
        "<li id=\"cite_note-3\"><span class=\"mw-cite-backlink\"><b>^ [Hydrogen trains](http://www.hydrogencarsnow.com/blog2/index.php/hydrogen-vehicles/i-hear-the-hydrogen-train-a-comin-its-rolling-round-the-bend/)</span></li>\n",
        "<li id=\"cite_note-4\"><span class=\"mw-cite-backlink\"><b>^ [Vehicle Projects Inc. Fuel cell locomotive](http://www.bnsf.com/media/news/articles/2008/01/2008-01-09a.html)</span></li>\n",
        "<li id=\"cite_note-5\"><span class=\"mw-cite-backlink\"><b>^</b></span> <span class=\"reference-text\"><span class=\"citation book\">Central Japan Railway (2006). <i>Central Japan Railway Data Book 2006</i>. p. 16.</span><span title=\"ctx_ver=Z39.88-2004&rfr_id=info%3Asid%2Fen.wikipedia.org%3ATrain&rft.au=Central+Japan+Railway&rft.aulast=Central+Japan+Railway&rft.btitle=Central+Japan+Railway+Data+Book+2006&rft.date=2006&rft.genre=book&rft.pages=16&rft_val_fmt=info%3Aofi%2Ffmt%3Akev%3Amtx%3Abook\" class=\"Z3988\"><span style=\"display:none;\"> </span></span></span></li>\n",
        "<li id=\"cite_note-6\"><span class=\"mw-cite-backlink\"><b>^ [\"Overview Of the existing Mumbai Suburban Railway\"](http://web.archive.org/web/20080620033027/http://www.mrvc.indianrail.gov.in/overview.htm). _Official webpage of Mumbai Railway Vikas Corporation_. Archived from [the original](http://www.mrvc.indianrail.gov.in/overview.htm) on 2008-06-20<span class=\"reference-accessdate\">. Retrieved 2008-12-11</span>.</span><span title=\"ctx_ver=Z39.88-2004&rfr_id=info%3Asid%2Fen.wikipedia.org%3ATrain&rft.atitle=Overview+Of+the+existing+Mumbai+Suburban+Railway&rft.genre=article&rft_id=http%3A%2F%2Fwww.mrvc.indianrail.gov.in%2Foverview.htm&rft.jtitle=Official+webpage+of+Mumbai+Railway+Vikas+Corporation&rft_val_fmt=info%3Aofi%2Ffmt%3Akev%3Amtx%3Ajournal\" class=\"Z3988\"><span style=\"display:none;\"> </span></span></span></li>\n",
        "</ol>\n",
        "</div>'''\n",
        "\n",
        "#askoxford.com;bnsf.com;hydrogencarsnow.com;mrvc.indianrail.gov.in;web.archive.org\n",
        "\n",
        "# Enter your code here. Read input from STDIN. Print output to STDOUT\n"
      ]
    },
    {
      "cell_type": "code",
      "execution_count": 98,
      "metadata": {},
      "outputs": [
        {
          "data": {
            "text/plain": [
              "['www.hydrogencarsnow.com', 'www.bnsf.com', 'web.archive.org']"
            ]
          },
          "execution_count": 98,
          "metadata": {},
          "output_type": "execute_result"
        }
      ],
      "source": [
        "m = re.findall('http://([A-Za-z_0-9.-]+).*', text)\n",
        "m\n",
        "#if m:\n",
        "#    print(m.group(0))"
      ]
    },
    {
      "cell_type": "code",
      "execution_count": 32,
      "metadata": {},
      "outputs": [
        {
          "name": "stdout",
          "output_type": "stream",
          "text": [
            "customerservice@tnmbonline.com;nricell@tnmbonline.com;bd@tnmbonline.com;ttn_tmbankhi@sancharnet.in;ibd@tnmbonline.com\n"
          ]
        }
      ],
      "source": [
        "import re\n",
        "emails=[]\n",
        "emails = re.findall(\"([a-zA-Z0-9_]+@[a-zA-Z0-9-]+.[a-zA-Z0-9-.]+)\", text)\n",
        "print(\";\".join(emails))\n",
        "#text\n"
      ]
    },
    {
      "cell_type": "code",
      "execution_count": 18,
      "metadata": {
        "id": "0BRC1-k81pIW"
      },
      "outputs": [
        {
          "name": "stdout",
          "output_type": "stream",
          "text": [
            "None\n"
          ]
        }
      ],
      "source": [
        "import re\n",
        "import itertools\n",
        "import string\n",
        "\n",
        "import numpy as np\n",
        "import umap\n",
        "from nltk.tokenize import WordPunctTokenizer\n",
        "\n",
        "\n",
        "text = '''\n",
        "19\n",
        "HackerRank is more than just a company\n",
        "    We are a tight group of hackers, bootstrappers, entrepreneurial thinkers and innovators. We are building an engaged community of problem solvers. Imagine the intelligence and value that a room would hold if it contained hackers/problem solvers from around the world? We're building this online.\n",
        "Hypothesis: Every hacker loves a particular type of challenge presented in a certain set of difficulty. If we build a large collection of real world challenges in different domains with an engaging interface, it is going to be incredible! Join us to create history.\n",
        "Available Positions\n",
        "Product Hacker product@hackerrank.com\n",
        "Challenge Curator\n",
        "Product Evangelist\n",
        "Product Designer\n",
        "Content Creator\n",
        "ACM World Finals Hacker\n",
        "Backend C++ Hacker\n",
        "Mail us at hackers@hackerrank.com to chat more. Or you can write to us at interviewstreet@hackerrank.com!\n",
        "HACKERRANK PERKS\n",
        "Working for a startup is hard work, but there are plenty of benefits of working for a small, fun, growing team.\n",
        "[Image] Perk: Get tools for the jobAll the Right ToolsWe know that everyone's perfect workspace is unique to them. We will get you set up with whatever equipment you need to start hacking - a new 15” Macbook Pro or iMac, or a computer of your choice plus a display if you need it. Additionally, if you require any software or other tools, we've got it covered.[Image] Perk: Flexible HoursFlexible HoursBecause we work so hard, we encourage our employees to keep flexible hours and don't require them to track their time. A morning scrum and open communication ensures that the job gets done on time, and we rely on the honor system so that you can work on your own pace.[Image] Perk: HealthcareWellness SupportTo work hard, you have to be healthy. We will cover your health, dental, and visual insurance with no wait period. That means instant benefits from the day you're hired.[Image] Perk: Choice of LocationLocation, Location, LocationWe are the first Indian company to be backed by Y-Combinator, and as a result we have a thriving office in Bangalore and a growing office in Mountain View, CA. Depending on your residency or visa status, we will get you situated in one of our two offices, both of which are located in the heart of their country's tech industry.[Image] Perk: Choice of LocationCreative SupportIf you have a cool side project that you want to launch, we will pay for EC2/heroku servers to get it off the ground. Side projects fuel creativity and learning, which are crucial to the HackerRank culture.\n",
        "CULTURE\n",
        "The culture of a startup is reflective of the founders’ DNA. Larry Page & Sergey Brin were PhD’s from Stanford and that’s why Google is filled with high scoring graders from top schools and is very hard to get in if you’re not a CS major. Similarly, the hacker culture at Facebook is inspired by Zuckerberg, a hacker, the design culture by Steve Jobs and so on.\n",
        "The adjective to describe the environment/founders here is relentless hardworkers. It might be a general trait of a startup but I’m pretty sure it’s a notch higher here and defines the culture. This is what has taken us this far. It’s not working in weekends or allnighters that count, but the effort that goes into building something intellectually engaging for hackers and making it fun is high.\n",
        "You’ll have to embrace randomness and chaos. There’s some level of discipline (eg: daily scrums) but only so much. We push boundaries everyday, stretch our limits but no one complains because there’s a feeling of doing something great at the end of the day, every single day.\n",
        "'''\n",
        "\n",
        "text = text.split()\n",
        "tokenizer = WordPunctTokenizer()\n",
        "data_tok = []\n",
        "for x in range(len(text)):\n",
        "    data_tok.append(tokenizer.tokenize(text[x]))\n",
        "\n",
        "pattern = 'more'\n",
        "r = 'e4'\n",
        "#for i in range(len(data_tok)):\n",
        "#    print(re.match(pattern, data_tok[i]))\n",
        "#pattern = 'more'\n",
        "#re.match(pattern, data_tok[1])\n",
        "\n",
        "#print(str(bool(re.search(pattern, text))).lower())\n",
        "#print(list(data_tok[1])) \n",
        "print(re.match(pattern, r))\n",
        "#type(pattern)"
      ]
    },
    {
      "cell_type": "code",
      "execution_count": null,
      "metadata": {},
      "outputs": [],
      "source": [
        "pattern = 'more'\n",
        "itog = []\n",
        "for w in data_tok:\n",
        "    if re.match(pattern, w):\n",
        "       itog = itog.append(w)\n",
        "\n",
        "itog"
      ]
    },
    {
      "cell_type": "code",
      "execution_count": 22,
      "metadata": {},
      "outputs": [],
      "source": [
        "text = '''\n",
        "36\n",
        "Finally this phone is testimony to our quest and ever open ears for hearing from our customers since 1921. We look forward to hearing from you today.\n",
        "All India National Toll Free Number: 180 0425 0426\n",
        "Working Hours: 10:00 am to 6:00 pm (Monday ~ Friday),\n",
        "10:00 am to 2:00 pm (Saturday). To report ATM Card Lost, Kindly contact: +91 (44) 2622 3106 / 2622 3109.\n",
        "TMB Customer Care: +91 9842 461 461\n",
        "For all your queries, on any of our services in any branch in India, you can now SMS пїЅпїЅпїЅhelpпїЅпїЅпїЅ or call +91 9842 461 461. TMBпїЅпїЅпїЅs Customer Care team is at your service (10:00am to 5:30pm) & will address your concerns immediately. You can also email us at: customerservice@tnmbonline.com\n",
        "NRI Help Desk:\n",
        "Non Resident Indians / Persons of Indian Origin can write to us for priority response to this separate email id for any queries, questions and banking solutions. Email: nricell@tnmbonline.com\n",
        "TMB Head Office Static Map (Click for Live Map)\n",
        "Head Office:\n",
        "Static Location Map (Pointer A) and the contact address of our Registered and Administrative Office:\n",
        "Tamilnad Mercantile Bank Limited\n",
        "(A Scheduled Commercial Bank & Authorized Dealers in Foreign Exchange)\n",
        "57, V.E. Road, Tuticorin, Tamilnadu, India. Zip: 628 002.\n",
        "Phone: +91 (461) 232 1382 / 232 1929 / 232 1932.\n",
        "Email: bd@tnmbonline.com\n",
        "Email: ttn_tmbankhi@sancharnet.in\n",
        "Global Network of Branch / ATMпїЅпїЅпїЅs / Points of Presence:\n",
        "Click the Branch Network to find out more about the current branches / atms / pop network anwhere in India.\n",
        "TMB IBD Office Static Map (Click for Live Map)\n",
        "International Banking Division (IBD / Forex):\n",
        "Static Location Map of Chennai (Gopalpuram Area - Pointer A) and the complete contact address of our international banking division which takes care of all the overseas and forex activities:\n",
        "Tamilnad Mercantile Bank Limited\n",
        "269/2-4, Avvai Shanmugham Road, Royapettah,\n",
        "Chennai, Tamilnadu, India. Zip: 600 014.\n",
        "Phone: +91 (44) 2813 1028 / 2813 1029.\n",
        "Email: ibd@tnmbonline.com\n",
        "Other Non Banking Administrative Offices:\n",
        "Click the Non Banking Administrative Offices Network to find out more about the other offices / departments of TMB.\n",
        "- See more at: http://www.tmb.in/contact_us/our_contact_info_email_and_postal_mail_address.html#sthash.u7R69pmj.dpuf\n",
        "whymandesign 3 Nov\n",
        "Can we help eg @WEBiversity @davos: @Delhi listens to @citizens #India @learn #transparency #gov? http://wef.ch/m1ZAW #WEF @NextBillion\n",
        "Followed by edutopia\n",
        "Expand\n",
        " Trustlibrary.org пїЅпїЅпїЅ@TRUSTlibrary 3 Nov\n",
        "Can we help eg @WEBiversity @davos: @Delhi listens to @citizens #India @learn #transparency #gov? http://wef.ch/m1ZAW #WEF @NextBillion\n",
        "'''\n"
      ]
    },
    {
      "cell_type": "code",
      "execution_count": 11,
      "metadata": {},
      "outputs": [
        {
          "name": "stdout",
          "output_type": "stream",
          "text": [
            "customerservice@tnmbonline.com;nricell@tnmbonline.com;bd@tnmbonline.com;ttn_tmbankhi@sancharnet.in;ibd@tnmbonline.com\n"
          ]
        }
      ],
      "source": [
        "\n",
        "\n"
      ]
    },
    {
      "cell_type": "code",
      "execution_count": null,
      "metadata": {},
      "outputs": [],
      "source": [
        "bd@tnmbonline.com;customerservice@tnmbonline.com;ibd@tnmbonline.com;nricell@tnmbonline.com;ttn_tmbankhi@sancharnet.in"
      ]
    },
    {
      "cell_type": "code",
      "execution_count": 3,
      "metadata": {},
      "outputs": [
        {
          "ename": "NameError",
          "evalue": "name 'emails' is not defined",
          "output_type": "error",
          "traceback": [
            "\u001b[1;31m---------------------------------------------------------------------------\u001b[0m",
            "\u001b[1;31mNameError\u001b[0m                                 Traceback (most recent call last)",
            "Cell \u001b[1;32mIn[3], line 3\u001b[0m\n\u001b[0;32m      1\u001b[0m \u001b[38;5;28;01mimport\u001b[39;00m \u001b[38;5;21;01mre\u001b[39;00m\n\u001b[0;32m      2\u001b[0m mail_full \u001b[38;5;241m=\u001b[39m []\n\u001b[1;32m----> 3\u001b[0m \u001b[38;5;28;01mfor\u001b[39;00m mail \u001b[38;5;129;01min\u001b[39;00m \u001b[43memails\u001b[49m:\n\u001b[0;32m      4\u001b[0m     mail_full\u001b[38;5;241m.\u001b[39mappend(mail)\n\u001b[0;32m      5\u001b[0m \u001b[38;5;28mprint\u001b[39m(mail_full)\n",
            "\u001b[1;31mNameError\u001b[0m: name 'emails' is not defined"
          ]
        }
      ],
      "source": [
        "import re\n",
        "mail_full = []\n",
        "for mail in emails:\n",
        "    mail_full.append(mail)\n",
        "print(mail_full)"
      ]
    }
  ],
  "metadata": {
    "colab": {
      "collapsed_sections": [],
      "provenance": []
    },
    "kernelspec": {
      "display_name": "Python 3",
      "name": "python3"
    },
    "language_info": {
      "codemirror_mode": {
        "name": "ipython",
        "version": 3
      },
      "file_extension": ".py",
      "mimetype": "text/x-python",
      "name": "python",
      "nbconvert_exporter": "python",
      "pygments_lexer": "ipython3",
      "version": "3.12.0"
    }
  },
  "nbformat": 4,
  "nbformat_minor": 0
}
