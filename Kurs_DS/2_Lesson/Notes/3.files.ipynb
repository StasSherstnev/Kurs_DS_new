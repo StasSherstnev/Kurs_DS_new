{
 "cells": [
  {
   "cell_type": "markdown",
   "metadata": {},
   "source": [
    "### Работа с файлами в Python\n",
    "  * Чтение и запись текстовых файлов\n",
    "  * Чтение и запись бинарных файлов\n",
    "  * Обработка данных в формате JSON\n",
    "  * Сериализация объектов pickle\n",
    "  * Чтение и запись сжатых файлов\n",
    "  * Библиотеки os и shutil\n",
    "  * Проверка существования файлов\n",
    "#### Чтение и запись текстовых файлов"
   ]
  },
  {
   "cell_type": "code",
   "execution_count": 2,
   "metadata": {},
   "outputs": [
    {
     "name": "stdout",
     "output_type": "stream",
     "text": [
      "Overwriting somefile.txt\n"
     ]
    }
   ],
   "source": [
    "%%writefile somefile.txt\n",
    "some text"
   ]
  },
  {
   "cell_type": "code",
   "execution_count": 4,
   "metadata": {},
   "outputs": [
    {
     "data": {
      "text/plain": [
       "'some text\\n'"
      ]
     },
     "execution_count": 4,
     "metadata": {},
     "output_type": "execute_result"
    }
   ],
   "source": [
    "# Чтение файлов\n",
    "f = open('somefile.txt', 'r')\n",
    "data = f.read()\n",
    "f.close()\n",
    "data"
   ]
  },
  {
   "cell_type": "code",
   "execution_count": 5,
   "metadata": {},
   "outputs": [],
   "source": [
    "# Запись файлов с помощью write \n",
    "# write принимает на вход строку\n",
    "text1 = 'Blah-Blah-Blah'\n",
    "f = open('somefile_new.txt', 'w')\n",
    "f.write(text1)\n",
    "f.close()"
   ]
  },
  {
   "cell_type": "code",
   "execution_count": 6,
   "metadata": {},
   "outputs": [],
   "source": [
    "#  Запись файлов с помощью writelines\n",
    "# writelines принимает список\n",
    "text1 = 'Blah-Blah-Blah'\n",
    "text2 = 'Blah-Blah-Blah'\n",
    "texts = [text1,text2]\n",
    "f = open('somefile_new.txt', 'w')\n",
    "f.writelines(texts)\n",
    "f.close()"
   ]
  },
  {
   "cell_type": "code",
   "execution_count": 7,
   "metadata": {},
   "outputs": [
    {
     "name": "stderr",
     "output_type": "stream",
     "text": [
      "\"cat\" �� ���� ����७��� ��� ���譥�\n",
      "��������, �ᯮ��塞�� �ணࠬ��� ��� ������ 䠩���.\n"
     ]
    }
   ],
   "source": [
    "!cat somefile_new.txt"
   ]
  },
  {
   "cell_type": "code",
   "execution_count": 8,
   "metadata": {},
   "outputs": [],
   "source": [
    "# Важно! Разделители нужно ставить самостоятельно :)\n",
    "texts = [text1,text2]\n",
    "f = open('somefile_new.txt', 'w')\n",
    "f.writelines([t + '\\n' for  t in texts])\n",
    "f.close()"
   ]
  },
  {
   "cell_type": "code",
   "execution_count": 9,
   "metadata": {},
   "outputs": [
    {
     "name": "stderr",
     "output_type": "stream",
     "text": [
      "\"cat\" �� ���� ����७��� ��� ���譥�\n",
      "��������, �ᯮ��塞�� �ணࠬ��� ��� ������ 䠩���.\n"
     ]
    }
   ],
   "source": [
    "# проверим что внутри somefile_new.txt\n",
    "!cat somefile_new.txt"
   ]
  },
  {
   "cell_type": "code",
   "execution_count": 10,
   "metadata": {},
   "outputs": [
    {
     "data": {
      "text/plain": [
       "['some text\\n']"
      ]
     },
     "execution_count": 10,
     "metadata": {},
     "output_type": "execute_result"
    }
   ],
   "source": [
    "lines = []\n",
    "with open('somefile.txt', 'rt') as f: \n",
    "    for line in f:\n",
    "        lines.append(line)\n",
    "lines"
   ]
  },
  {
   "cell_type": "code",
   "execution_count": 11,
   "metadata": {},
   "outputs": [],
   "source": [
    "# Пишем кусочки текстовых данных\n",
    "text1 = 'Blah-Blah-Blah'\n",
    "text2 = text1 * 2\n",
    "with open('somefile_new.txt', 'wt') as f:\n",
    "    f.write(text1)\n",
    "    f.write(text2)"
   ]
  },
  {
   "cell_type": "code",
   "execution_count": 12,
   "metadata": {},
   "outputs": [],
   "source": [
    "# Добавляем текст в файл\n",
    "with open('somefile_new.txt', 'a') as f:\n",
    "    f.write(text1)\n",
    "    f.write(text2)"
   ]
  },
  {
   "cell_type": "code",
   "execution_count": 13,
   "metadata": {},
   "outputs": [],
   "source": [
    "# Записываем текст в файл\n",
    "with open('somefile_new.txt', 'wt') as f:\n",
    "    f.write(text1)\n",
    "    f.write(text2)"
   ]
  },
  {
   "cell_type": "code",
   "execution_count": 14,
   "metadata": {},
   "outputs": [],
   "source": [
    "# Перенаправленная инструкция print для записи в файл\n",
    "line1 = text1 \n",
    "line2 = text2 \n",
    "with open('somefile_new.txt', 'wt') as f:\n",
    "    print(line1, file=f)\n",
    "    print(line2, file=f)"
   ]
  },
  {
   "cell_type": "code",
   "execution_count": 15,
   "metadata": {},
   "outputs": [],
   "source": [
    "# Перенаправленная инструкция print с разделителем\n",
    "with open('somefile_new.txt', 'wt') as f:\n",
    "    print(line1, 90, 20, sep=',', file=f)\n",
    "    print(line1, 90, 20, sep=',', file=f)"
   ]
  },
  {
   "cell_type": "code",
   "execution_count": 16,
   "metadata": {},
   "outputs": [
    {
     "name": "stderr",
     "output_type": "stream",
     "text": [
      "\"cat\" �� ���� ����७��� ��� ���譥�\n",
      "��������, �ᯮ��塞�� �ணࠬ��� ��� ������ 䠩���.\n"
     ]
    }
   ],
   "source": [
    "!cat somefile_new.txt"
   ]
  },
  {
   "cell_type": "code",
   "execution_count": 17,
   "metadata": {},
   "outputs": [
    {
     "name": "stdout",
     "output_type": "stream",
     "text": [
      "0\n",
      "1\n",
      "2\n",
      "3\n",
      "4\n"
     ]
    }
   ],
   "source": [
    "# В print можно менять знаки окончания строки\n",
    "for i in range(5): \n",
    "    print(i)\n",
    "#     print(i , end='\\n')"
   ]
  },
  {
   "cell_type": "code",
   "execution_count": 18,
   "metadata": {},
   "outputs": [
    {
     "name": "stdout",
     "output_type": "stream",
     "text": [
      "0 1 2 3 4 "
     ]
    }
   ],
   "source": [
    "for i in range(5): \n",
    "    print(i, end=' ')"
   ]
  },
  {
   "cell_type": "markdown",
   "metadata": {},
   "source": [
    "### Чтение и запись бинарных файлов"
   ]
  },
  {
   "cell_type": "code",
   "execution_count": 19,
   "metadata": {},
   "outputs": [],
   "source": [
    "# Записать бинарные данные в файл\n",
    "with open('somefile.bin', 'wb') as f:\n",
    "    f.write(b'Hello World')"
   ]
  },
  {
   "cell_type": "code",
   "execution_count": 20,
   "metadata": {},
   "outputs": [
    {
     "name": "stdout",
     "output_type": "stream",
     "text": [
      "72\n",
      "101\n",
      "108\n",
      "108\n",
      "111\n",
      "32\n",
      "87\n",
      "111\n",
      "114\n",
      "108\n",
      "100\n"
     ]
    }
   ],
   "source": [
    "# Прочесть весь файл как одну байтовую строку\n",
    "with open('somefile.bin', 'rb') as f: \n",
    "    data = f.read()\n",
    "for el in data:\n",
    "    print(el)"
   ]
  },
  {
   "cell_type": "markdown",
   "metadata": {},
   "source": [
    "### Pickle"
   ]
  },
  {
   "cell_type": "code",
   "execution_count": 21,
   "metadata": {},
   "outputs": [],
   "source": [
    "\n",
    "# пикл сериализует объекты python в бинарные файлы\n",
    "import pickle\n",
    "very_important_list = [1,3,4,5,6]\n",
    "fpath = 'vil.pkl'\n",
    "with open(fpath, 'wb') as f:\n",
    "    pickle.dump(very_important_list,f)"
   ]
  },
  {
   "cell_type": "code",
   "execution_count": 22,
   "metadata": {},
   "outputs": [
    {
     "name": "stderr",
     "output_type": "stream",
     "text": [
      "\"ls\" �� ���� ����७��� ��� ���譥�\n",
      "��������, �ᯮ��塞�� �ணࠬ��� ��� ������ 䠩���.\n"
     ]
    }
   ],
   "source": [
    "!ls"
   ]
  },
  {
   "cell_type": "code",
   "execution_count": 23,
   "metadata": {},
   "outputs": [
    {
     "data": {
      "text/plain": [
       "[1, 3, 4, 5, 6]"
      ]
     },
     "execution_count": 23,
     "metadata": {},
     "output_type": "execute_result"
    }
   ],
   "source": [
    "with open(fpath, 'rb') as f:\n",
    "    new_very_important_list = pickle.load(f)\n",
    "new_very_important_list"
   ]
  },
  {
   "cell_type": "markdown",
   "metadata": {},
   "source": [
    "### Чтение и запись сжатых файлов"
   ]
  },
  {
   "cell_type": "code",
   "execution_count": 24,
   "metadata": {},
   "outputs": [
    {
     "data": {
      "text/plain": [
       "'bla-bla-bla bla-bla-bla bla-bla-bla bla-bla-bla bla-bla-bla '"
      ]
     },
     "execution_count": 24,
     "metadata": {},
     "output_type": "execute_result"
    }
   ],
   "source": [
    "import gzip\n",
    "import bz2\n",
    "# Сжатие с помощью gzip\n",
    "text = 'bla-bla-bla ' * 5\n",
    "with gzip.open('somefile.gz', 'wt') as f:\n",
    "    f.write(text)\n",
    "# Распаковка\n",
    "with gzip.open('somefile.gz', 'rt') as f:\n",
    "    newtext = f.read()\n",
    "newtext"
   ]
  },
  {
   "cell_type": "code",
   "execution_count": 25,
   "metadata": {},
   "outputs": [],
   "source": [
    "# Сжатие с помощью bz2\n",
    "text = 'bla-bla-bla ' * 3\n",
    "with bz2.open('somefile.bz2', 'wt') as f:\n",
    "    f.write(text)"
   ]
  },
  {
   "cell_type": "code",
   "execution_count": 26,
   "metadata": {},
   "outputs": [
    {
     "data": {
      "text/plain": [
       "'bla-bla-bla bla-bla-bla bla-bla-bla '"
      ]
     },
     "execution_count": 26,
     "metadata": {},
     "output_type": "execute_result"
    }
   ],
   "source": [
    "# Распаковка\n",
    "with bz2.open('somefile.bz2', 'rt') as f:\n",
    "    new_text = f.read()\n",
    "new_text"
   ]
  },
  {
   "cell_type": "code",
   "execution_count": 27,
   "metadata": {},
   "outputs": [],
   "source": [
    "# Для ZIP архивов можно использовать библиотеку zipfile\n",
    "\n",
    "import zipfile\n",
    "zf = zipfile.ZipFile('somefile.zip', 'w')\n",
    "zf.write('somefile.txt')\n",
    "zf.close()"
   ]
  },
  {
   "cell_type": "code",
   "execution_count": 28,
   "metadata": {},
   "outputs": [],
   "source": [
    "# Архивируем\n",
    "with zipfile.ZipFile('somefile2.zip', 'w') as zf:\n",
    "    zf.write('somefile.txt')"
   ]
  },
  {
   "cell_type": "code",
   "execution_count": 29,
   "metadata": {},
   "outputs": [],
   "source": [
    "# Извлекаем из архива\n",
    "fzip = zipfile.ZipFile('somefile2.zip')\n",
    "fzip.extract(fzip.namelist()[0])\n",
    "fzip.close()"
   ]
  },
  {
   "cell_type": "markdown",
   "metadata": {},
   "source": [
    "### JSON\n",
    "  * сын Джея\n",
    "  * java script object notation"
   ]
  },
  {
   "cell_type": "code",
   "execution_count": 31,
   "metadata": {},
   "outputs": [
    {
     "data": {
      "text/plain": [
       "'{\"name\": \"Vasya\", \"age\": 50, \"sex\": \"M\", \"status\": true}'"
      ]
     },
     "execution_count": 31,
     "metadata": {},
     "output_type": "execute_result"
    }
   ],
   "source": [
    "# JSON - это формат для передачи данных из разных систем\n",
    "import json\n",
    "data = {\n",
    "    'name' : 'Vasya',\n",
    "    'age' : 50,\n",
    "    'sex' : 'M',\n",
    "    'status':True\n",
    "    }\n",
    "json_str = json.dumps(data)\n",
    "json_str"
   ]
  },
  {
   "cell_type": "code",
   "execution_count": 32,
   "metadata": {},
   "outputs": [],
   "source": [
    "# Запись JSON-данных\n",
    "with open('data.json', 'w') as f:\n",
    "    json.dump(data, f)"
   ]
  },
  {
   "cell_type": "code",
   "execution_count": 36,
   "metadata": {},
   "outputs": [
    {
     "name": "stderr",
     "output_type": "stream",
     "text": [
      "\"ls\" �� ���� ����७��� ��� ���譥�\n",
      "��������, �ᯮ��塞�� �ணࠬ��� ��� ������ 䠩���.\n"
     ]
    }
   ],
   "source": [
    "!ls"
   ]
  },
  {
   "cell_type": "code",
   "execution_count": 34,
   "metadata": {},
   "outputs": [],
   "source": [
    "# Чтение данных\n",
    "with open('data.json', 'r') as f:\n",
    "    data = json.load(f)"
   ]
  },
  {
   "cell_type": "code",
   "execution_count": null,
   "metadata": {},
   "outputs": [],
   "source": [
    "# Синтаксис JSON очень похож синтаксис в Python\n",
    "# True при отображении меняется на true, False – на false,а None – на null."
   ]
  },
  {
   "cell_type": "markdown",
   "metadata": {},
   "source": [
    "### os и shutil"
   ]
  },
  {
   "cell_type": "code",
   "execution_count": 35,
   "metadata": {},
   "outputs": [
    {
     "data": {
      "text/plain": [
       "['1.intro.ipynb',\n",
       " '2.loops.ipynb',\n",
       " '3.files.ipynb',\n",
       " 'data.json',\n",
       " 'somefile.bin',\n",
       " 'somefile.bz2',\n",
       " 'somefile.gz',\n",
       " 'somefile.txt',\n",
       " 'somefile.zip',\n",
       " 'somefile2.zip',\n",
       " 'somefile_new.txt',\n",
       " 'vil.pkl']"
      ]
     },
     "execution_count": 35,
     "metadata": {},
     "output_type": "execute_result"
    }
   ],
   "source": [
    "import os\n",
    "# Выдает список содержимого директории\n",
    "os.listdir()"
   ]
  },
  {
   "cell_type": "code",
   "execution_count": 37,
   "metadata": {},
   "outputs": [],
   "source": [
    "# Создает директорию\n",
    "os.mkdir('test')"
   ]
  },
  {
   "cell_type": "code",
   "execution_count": 38,
   "metadata": {},
   "outputs": [],
   "source": [
    "# Удаляет директорию\n",
    "os.rmdir('test')"
   ]
  },
  {
   "cell_type": "code",
   "execution_count": null,
   "metadata": {},
   "outputs": [],
   "source": [
    "# Если нужно пройтись по дереву каталога можно использовать os.walk\n",
    "# for el in os.walk('test'):\n",
    "#     print(el)"
   ]
  },
  {
   "cell_type": "code",
   "execution_count": 39,
   "metadata": {},
   "outputs": [
    {
     "data": {
      "text/plain": [
       "'..\\\\img\\\\file.txt'"
      ]
     },
     "execution_count": 39,
     "metadata": {},
     "output_type": "execute_result"
    }
   ],
   "source": [
    "\n",
    "# Если нужно склеить путь к файлу или директории\n",
    "os.path.join('..','img','file.txt')"
   ]
  },
  {
   "cell_type": "code",
   "execution_count": 40,
   "metadata": {},
   "outputs": [
    {
     "data": {
      "text/plain": [
       "False"
      ]
     },
     "execution_count": 40,
     "metadata": {},
     "output_type": "execute_result"
    }
   ],
   "source": [
    "# Используйте os.path, чтобы проверить, существует ли файл или каталог. Например:\n",
    "os.path.exists('img') \n",
    "os.path.exists('img/spam')"
   ]
  },
  {
   "cell_type": "code",
   "execution_count": 41,
   "metadata": {},
   "outputs": [
    {
     "data": {
      "text/plain": [
       "False"
      ]
     },
     "execution_count": 41,
     "metadata": {},
     "output_type": "execute_result"
    }
   ],
   "source": [
    "# Вы можете выполнить дополнительные тесты, чтобы проверить тип файла. Эти проверки возвращают False, если файл не существует:\n",
    "# Это обычный файл?\n",
    "os.path.isfile('img')"
   ]
  },
  {
   "cell_type": "code",
   "execution_count": 42,
   "metadata": {},
   "outputs": [
    {
     "data": {
      "text/plain": [
       "False"
      ]
     },
     "execution_count": 42,
     "metadata": {},
     "output_type": "execute_result"
    }
   ],
   "source": [
    "# Это каталог?\n",
    "os.path.isdir('img')"
   ]
  },
  {
   "cell_type": "code",
   "execution_count": 43,
   "metadata": {},
   "outputs": [
    {
     "ename": "FileNotFoundError",
     "evalue": "[WinError 3] Системе не удается найти указанный путь: 'img/jay.jpeg'",
     "output_type": "error",
     "traceback": [
      "\u001b[1;31m---------------------------------------------------------------------------\u001b[0m",
      "\u001b[1;31mFileNotFoundError\u001b[0m                         Traceback (most recent call last)",
      "\u001b[1;32md:\\Project\\Git\\Kurs_DS\\2_Lesson\\Notes\\3.files.ipynb Cell 47\u001b[0m line \u001b[0;36m3\n\u001b[0;32m      <a href='vscode-notebook-cell:/d%3A/Project/Git/Kurs_DS/2_Lesson/Notes/3.files.ipynb#X64sZmlsZQ%3D%3D?line=0'>1</a>\u001b[0m \u001b[39m# Если вам нужно получить метаданные (например, размер или дату изменения файла)\u001b[39;00m\n\u001b[0;32m      <a href='vscode-notebook-cell:/d%3A/Project/Git/Kurs_DS/2_Lesson/Notes/3.files.ipynb#X64sZmlsZQ%3D%3D?line=1'>2</a>\u001b[0m \u001b[39m# это тоже можно сделать с помощью модуля os.path:\u001b[39;00m\n\u001b[1;32m----> <a href='vscode-notebook-cell:/d%3A/Project/Git/Kurs_DS/2_Lesson/Notes/3.files.ipynb#X64sZmlsZQ%3D%3D?line=2'>3</a>\u001b[0m os\u001b[39m.\u001b[39;49mpath\u001b[39m.\u001b[39;49mgetsize(\u001b[39m'\u001b[39;49m\u001b[39mimg/jay.jpeg\u001b[39;49m\u001b[39m'\u001b[39;49m)\n",
      "File \u001b[1;32m<frozen genericpath>:62\u001b[0m, in \u001b[0;36mgetsize\u001b[1;34m(filename)\u001b[0m\n",
      "\u001b[1;31mFileNotFoundError\u001b[0m: [WinError 3] Системе не удается найти указанный путь: 'img/jay.jpeg'"
     ]
    }
   ],
   "source": [
    "# Если вам нужно получить метаданные (например, размер или дату изменения файла)\n",
    "# это тоже можно сделать с помощью модуля os.path:\n",
    "os.path.getsize('img/jay.jpeg')"
   ]
  },
  {
   "cell_type": "code",
   "execution_count": 44,
   "metadata": {},
   "outputs": [
    {
     "ename": "FileNotFoundError",
     "evalue": "[WinError 2] Не удается найти указанный файл: 'img'",
     "output_type": "error",
     "traceback": [
      "\u001b[1;31m---------------------------------------------------------------------------\u001b[0m",
      "\u001b[1;31mFileNotFoundError\u001b[0m                         Traceback (most recent call last)",
      "\u001b[1;32md:\\Project\\Git\\Kurs_DS\\2_Lesson\\Notes\\3.files.ipynb Cell 48\u001b[0m line \u001b[0;36m1\n\u001b[1;32m----> <a href='vscode-notebook-cell:/d%3A/Project/Git/Kurs_DS/2_Lesson/Notes/3.files.ipynb#X65sZmlsZQ%3D%3D?line=0'>1</a>\u001b[0m os\u001b[39m.\u001b[39;49mpath\u001b[39m.\u001b[39;49mgetmtime(\u001b[39m'\u001b[39;49m\u001b[39mimg\u001b[39;49m\u001b[39m'\u001b[39;49m)\n",
      "File \u001b[1;32m<frozen genericpath>:67\u001b[0m, in \u001b[0;36mgetmtime\u001b[1;34m(filename)\u001b[0m\n",
      "\u001b[1;31mFileNotFoundError\u001b[0m: [WinError 2] Не удается найти указанный файл: 'img'"
     ]
    }
   ],
   "source": [
    "os.path.getmtime('img')"
   ]
  },
  {
   "cell_type": "code",
   "execution_count": 45,
   "metadata": {},
   "outputs": [
    {
     "ename": "FileNotFoundError",
     "evalue": "[WinError 2] Не удается найти указанный файл: 'img'",
     "output_type": "error",
     "traceback": [
      "\u001b[1;31m---------------------------------------------------------------------------\u001b[0m",
      "\u001b[1;31mFileNotFoundError\u001b[0m                         Traceback (most recent call last)",
      "\u001b[1;32md:\\Project\\Git\\Kurs_DS\\2_Lesson\\Notes\\3.files.ipynb Cell 49\u001b[0m line \u001b[0;36m2\n\u001b[0;32m      <a href='vscode-notebook-cell:/d%3A/Project/Git/Kurs_DS/2_Lesson/Notes/3.files.ipynb#X66sZmlsZQ%3D%3D?line=0'>1</a>\u001b[0m \u001b[39mimport\u001b[39;00m \u001b[39mtime\u001b[39;00m\n\u001b[1;32m----> <a href='vscode-notebook-cell:/d%3A/Project/Git/Kurs_DS/2_Lesson/Notes/3.files.ipynb#X66sZmlsZQ%3D%3D?line=1'>2</a>\u001b[0m time\u001b[39m.\u001b[39mctime(os\u001b[39m.\u001b[39;49mpath\u001b[39m.\u001b[39;49mgetmtime(\u001b[39m'\u001b[39;49m\u001b[39mimg\u001b[39;49m\u001b[39m'\u001b[39;49m))\n",
      "File \u001b[1;32m<frozen genericpath>:67\u001b[0m, in \u001b[0;36mgetmtime\u001b[1;34m(filename)\u001b[0m\n",
      "\u001b[1;31mFileNotFoundError\u001b[0m: [WinError 2] Не удается найти указанный файл: 'img'"
     ]
    }
   ],
   "source": [
    "import time\n",
    "time.ctime(os.path.getmtime('img'))"
   ]
  },
  {
   "cell_type": "markdown",
   "metadata": {},
   "source": [
    "### shutil"
   ]
  },
  {
   "cell_type": "code",
   "execution_count": 49,
   "metadata": {},
   "outputs": [],
   "source": [
    "import shutil\n",
    "# Для премещения файлов можно использовать shutil.move\n",
    "# shutil.move(src, dst)\n",
    "# Для компирования можно воспользоваться одной из нескольких функций\n",
    "# shutil.copy(src, dst)  - копирует содержимое файла\n",
    "# shutil.copytree(src, dst)  - копирует содержимое директории\n",
    "# Если директория не пуста, то для ее удаления лучше использовать rmtree из shutil\n",
    "# shutil.rmtree('test')"
   ]
  },
  {
   "cell_type": "code",
   "execution_count": 50,
   "metadata": {},
   "outputs": [
    {
     "name": "stderr",
     "output_type": "stream",
     "text": [
      "\"ls\" �� ���� ����७��� ��� ���譥�\n",
      "��������, �ᯮ��塞�� �ணࠬ��� ��� ������ 䠩���.\n"
     ]
    }
   ],
   "source": [
    "!ls"
   ]
  },
  {
   "cell_type": "code",
   "execution_count": 51,
   "metadata": {},
   "outputs": [
    {
     "ename": "FileExistsError",
     "evalue": "[WinError 183] Невозможно создать файл, так как он уже существует: 'test_dir1'",
     "output_type": "error",
     "traceback": [
      "\u001b[1;31m---------------------------------------------------------------------------\u001b[0m",
      "\u001b[1;31mFileExistsError\u001b[0m                           Traceback (most recent call last)",
      "\u001b[1;32md:\\Project\\Git\\Kurs_DS\\2_Lesson\\Notes\\3.files.ipynb Cell 53\u001b[0m line \u001b[0;36m2\n\u001b[0;32m      <a href='vscode-notebook-cell:/d%3A/Project/Git/Kurs_DS/2_Lesson/Notes/3.files.ipynb#Y103sZmlsZQ%3D%3D?line=0'>1</a>\u001b[0m \u001b[39m# Создадим директории\u001b[39;00m\n\u001b[1;32m----> <a href='vscode-notebook-cell:/d%3A/Project/Git/Kurs_DS/2_Lesson/Notes/3.files.ipynb#Y103sZmlsZQ%3D%3D?line=1'>2</a>\u001b[0m os\u001b[39m.\u001b[39;49mmkdir(\u001b[39m'\u001b[39;49m\u001b[39mtest_dir1\u001b[39;49m\u001b[39m'\u001b[39;49m)\n\u001b[0;32m      <a href='vscode-notebook-cell:/d%3A/Project/Git/Kurs_DS/2_Lesson/Notes/3.files.ipynb#Y103sZmlsZQ%3D%3D?line=2'>3</a>\u001b[0m os\u001b[39m.\u001b[39mmkdir(\u001b[39m'\u001b[39m\u001b[39mtest_dir2\u001b[39m\u001b[39m'\u001b[39m)\n\u001b[0;32m      <a href='vscode-notebook-cell:/d%3A/Project/Git/Kurs_DS/2_Lesson/Notes/3.files.ipynb#Y103sZmlsZQ%3D%3D?line=3'>4</a>\u001b[0m \u001b[39m# Перенесем файл\u001b[39;00m\n",
      "\u001b[1;31mFileExistsError\u001b[0m: [WinError 183] Невозможно создать файл, так как он уже существует: 'test_dir1'"
     ]
    }
   ],
   "source": [
    "# Создадим директории\n",
    "os.mkdir('test_dir1')\n",
    "os.mkdir('test_dir2')\n",
    "# Перенесем файл\n",
    "shutil.move('somefile_new.txt', 'test_dir1/somefile_new.txt')"
   ]
  },
  {
   "cell_type": "code",
   "execution_count": 52,
   "metadata": {},
   "outputs": [
    {
     "ename": "FileNotFoundError",
     "evalue": "[Errno 2] No such file or directory: 'test_dir1/somefile_new.txt'",
     "output_type": "error",
     "traceback": [
      "\u001b[1;31m---------------------------------------------------------------------------\u001b[0m",
      "\u001b[1;31mFileNotFoundError\u001b[0m                         Traceback (most recent call last)",
      "\u001b[1;32md:\\Project\\Git\\Kurs_DS\\2_Lesson\\Notes\\3.files.ipynb Cell 54\u001b[0m line \u001b[0;36m2\n\u001b[0;32m      <a href='vscode-notebook-cell:/d%3A/Project/Git/Kurs_DS/2_Lesson/Notes/3.files.ipynb#Y104sZmlsZQ%3D%3D?line=0'>1</a>\u001b[0m \u001b[39m# Скопируем файл\u001b[39;00m\n\u001b[1;32m----> <a href='vscode-notebook-cell:/d%3A/Project/Git/Kurs_DS/2_Lesson/Notes/3.files.ipynb#Y104sZmlsZQ%3D%3D?line=1'>2</a>\u001b[0m shutil\u001b[39m.\u001b[39;49mcopy(\u001b[39m'\u001b[39;49m\u001b[39mtest_dir1/somefile_new.txt\u001b[39;49m\u001b[39m'\u001b[39;49m, \u001b[39m'\u001b[39;49m\u001b[39mtest_dir2/somefile_new.txt\u001b[39;49m\u001b[39m'\u001b[39;49m) \n",
      "File \u001b[1;32mc:\\Users\\Stas\\AppData\\Local\\Programs\\Python\\Python312\\Lib\\shutil.py:423\u001b[0m, in \u001b[0;36mcopy\u001b[1;34m(src, dst, follow_symlinks)\u001b[0m\n\u001b[0;32m    421\u001b[0m \u001b[39mif\u001b[39;00m os\u001b[39m.\u001b[39mpath\u001b[39m.\u001b[39misdir(dst):\n\u001b[0;32m    422\u001b[0m     dst \u001b[39m=\u001b[39m os\u001b[39m.\u001b[39mpath\u001b[39m.\u001b[39mjoin(dst, os\u001b[39m.\u001b[39mpath\u001b[39m.\u001b[39mbasename(src))\n\u001b[1;32m--> 423\u001b[0m copyfile(src, dst, follow_symlinks\u001b[39m=\u001b[39;49mfollow_symlinks)\n\u001b[0;32m    424\u001b[0m copymode(src, dst, follow_symlinks\u001b[39m=\u001b[39mfollow_symlinks)\n\u001b[0;32m    425\u001b[0m \u001b[39mreturn\u001b[39;00m dst\n",
      "File \u001b[1;32mc:\\Users\\Stas\\AppData\\Local\\Programs\\Python\\Python312\\Lib\\shutil.py:260\u001b[0m, in \u001b[0;36mcopyfile\u001b[1;34m(src, dst, follow_symlinks)\u001b[0m\n\u001b[0;32m    258\u001b[0m     os\u001b[39m.\u001b[39msymlink(os\u001b[39m.\u001b[39mreadlink(src), dst)\n\u001b[0;32m    259\u001b[0m \u001b[39melse\u001b[39;00m:\n\u001b[1;32m--> 260\u001b[0m     \u001b[39mwith\u001b[39;00m \u001b[39mopen\u001b[39;49m(src, \u001b[39m'\u001b[39;49m\u001b[39mrb\u001b[39;49m\u001b[39m'\u001b[39;49m) \u001b[39mas\u001b[39;00m fsrc:\n\u001b[0;32m    261\u001b[0m         \u001b[39mtry\u001b[39;00m:\n\u001b[0;32m    262\u001b[0m             \u001b[39mwith\u001b[39;00m \u001b[39mopen\u001b[39m(dst, \u001b[39m'\u001b[39m\u001b[39mwb\u001b[39m\u001b[39m'\u001b[39m) \u001b[39mas\u001b[39;00m fdst:\n\u001b[0;32m    263\u001b[0m                 \u001b[39m# macOS\u001b[39;00m\n",
      "\u001b[1;31mFileNotFoundError\u001b[0m: [Errno 2] No such file or directory: 'test_dir1/somefile_new.txt'"
     ]
    }
   ],
   "source": [
    "\n",
    "# Скопируем файл\n",
    "shutil.copy('test_dir1/somefile_new.txt', 'test_dir2/somefile_new.txt') "
   ]
  },
  {
   "cell_type": "code",
   "execution_count": 53,
   "metadata": {},
   "outputs": [
    {
     "data": {
      "text/plain": [
       "'test_dir3'"
      ]
     },
     "execution_count": 53,
     "metadata": {},
     "output_type": "execute_result"
    }
   ],
   "source": [
    "# Скопируем директорию и ее содержимое\n",
    "shutil.copytree('test_dir2', 'test_dir3') "
   ]
  },
  {
   "cell_type": "code",
   "execution_count": 54,
   "metadata": {},
   "outputs": [],
   "source": [
    "# Удалим то, что мы создали\n",
    "shutil.rmtree('test_dir1')\n",
    "shutil.rmtree('test_dir2')\n",
    "shutil.rmtree('test_dir3')"
   ]
  },
  {
   "cell_type": "markdown",
   "metadata": {},
   "source": [
    "### Практическая часть"
   ]
  },
  {
   "cell_type": "code",
   "execution_count": 59,
   "metadata": {},
   "outputs": [],
   "source": [
    "# 1. Создайте директорию poems\n",
    "os.mkdir('poems')"
   ]
  },
  {
   "cell_type": "code",
   "execution_count": 61,
   "metadata": {},
   "outputs": [
    {
     "name": "stdout",
     "output_type": "stream",
     "text": [
      "Writing poems/pushkin.txt\n"
     ]
    }
   ],
   "source": [
    "%%writefile poems/pushkin.txt\n"
   ]
  },
  {
   "cell_type": "code",
   "execution_count": 63,
   "metadata": {},
   "outputs": [],
   "source": [
    "# 2. Создайте в ней файл pushkin.txt, в который запишите text_task\n",
    "text_task = \"\"\"\n",
    "Я помню чудное мгновенье:\n",
    "Передо мной явилась ты,\n",
    "Как мимолетное виденье,\n",
    "Как гений чистой красоты.\n",
    "\"\"\"\n",
    "f = open('poems/pushkin.txt', 'w')\n",
    "f.write(text_task)\n",
    "f.close()\n"
   ]
  },
  {
   "cell_type": "code",
   "execution_count": null,
   "metadata": {},
   "outputs": [],
   "source": [
    "# 3. Удалите директорию poems\n",
    "shutil.rmtree('poems')"
   ]
  }
 ],
 "metadata": {
  "kernelspec": {
   "display_name": "Python 3",
   "language": "python",
   "name": "python3"
  },
  "language_info": {
   "codemirror_mode": {
    "name": "ipython",
    "version": 3
   },
   "file_extension": ".py",
   "mimetype": "text/x-python",
   "name": "python",
   "nbconvert_exporter": "python",
   "pygments_lexer": "ipython3",
   "version": "3.12.0"
  }
 },
 "nbformat": 4,
 "nbformat_minor": 2
}
