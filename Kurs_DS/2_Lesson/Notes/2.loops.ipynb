{
 "cells": [
  {
   "cell_type": "markdown",
   "metadata": {},
   "source": [
    "### Циклы, тернарные операторы, функции\n",
    "#### Логические операторы\n",
    "  * and\n",
    "  * or\n",
    "  * not\n",
    "  * in\n",
    "  * not in\n",
    "  * Выполняется ли равенство ==\n",
    "  * Выполняется ли неравенство !=\n",
    "  * Больше или меньше >< >= <=\n"
   ]
  },
  {
   "cell_type": "code",
   "execution_count": 1,
   "metadata": {},
   "outputs": [
    {
     "data": {
      "text/plain": [
       "[('шампанское', 1), ('водка', 5), ('пиво', 10), ('вино', 15)]"
      ]
     },
     "execution_count": 1,
     "metadata": {},
     "output_type": "execute_result"
    }
   ],
   "source": [
    "alco = {'пиво':10, 'вино':15, 'водка':5, 'шампанское':1}\n",
    "sorted(alco.items(), key=lambda x:x[1], reverse=False)"
   ]
  },
  {
   "cell_type": "code",
   "execution_count": 2,
   "metadata": {},
   "outputs": [
    {
     "data": {
      "text/plain": [
       "['шампанское', 'водка', 'пиво', 'вино']"
      ]
     },
     "execution_count": 2,
     "metadata": {},
     "output_type": "execute_result"
    }
   ],
   "source": [
    "\n",
    "alcolist = ['шампанское','водка','пиво','вино']\n",
    "sorted(alcolist, key=lambda x: len(x) , reverse=True)"
   ]
  },
  {
   "cell_type": "code",
   "execution_count": 3,
   "metadata": {},
   "outputs": [
    {
     "data": {
      "text/plain": [
       "[(1, 'шампанское'), (2, 'водка'), (3, 'пиво'), (4, 'вино')]"
      ]
     },
     "execution_count": 3,
     "metadata": {},
     "output_type": "execute_result"
    }
   ],
   "source": [
    "alconames = ['шампанское','водка','пиво','вино']\n",
    "alcovalues = [1,2,3,4,5]\n",
    "list(zip(alcovalues, alconames))"
   ]
  },
  {
   "cell_type": "code",
   "execution_count": 4,
   "metadata": {},
   "outputs": [
    {
     "name": "stdout",
     "output_type": "stream",
     "text": [
      "0 шампанское\n",
      "1 водка\n",
      "2 пиво\n",
      "3 вино\n"
     ]
    }
   ],
   "source": [
    "for i, alco in enumerate(alconames):\n",
    "    print(i, alco)"
   ]
  },
  {
   "cell_type": "code",
   "execution_count": 5,
   "metadata": {},
   "outputs": [
    {
     "name": "stdout",
     "output_type": "stream",
     "text": [
      "число\n"
     ]
    }
   ],
   "source": [
    "x = 1\n",
    "if isinstance(x, int):\n",
    "    print('число')\n",
    "elif isinstance(x, str):\n",
    "    print('строка')\n",
    "else:\n",
    "    print('другой тип')"
   ]
  },
  {
   "cell_type": "code",
   "execution_count": 6,
   "metadata": {},
   "outputs": [
    {
     "data": {
      "text/plain": [
       "[1, 0, 0, 1]"
      ]
     },
     "execution_count": 6,
     "metadata": {},
     "output_type": "execute_result"
    }
   ],
   "source": [
    "[1 if isinstance(x, int) else 0 for x in [1,'sdf','2',1]]"
   ]
  },
  {
   "cell_type": "markdown",
   "metadata": {},
   "source": [
    "### Тернарные операторы"
   ]
  },
  {
   "cell_type": "code",
   "execution_count": 7,
   "metadata": {},
   "outputs": [
    {
     "data": {
      "text/plain": [
       "False"
      ]
     },
     "execution_count": 7,
     "metadata": {},
     "output_type": "execute_result"
    }
   ],
   "source": [
    "# проверят выполняется ли условие\n",
    "True != True"
   ]
  },
  {
   "cell_type": "code",
   "execution_count": 8,
   "metadata": {},
   "outputs": [
    {
     "name": "stdout",
     "output_type": "stream",
     "text": [
      "-\n"
     ]
    }
   ],
   "source": [
    "# Дополнительное условие elif\n",
    "a = -8\n",
    "if a > 0:\n",
    "    print('+')\n",
    "elif -10 < a < -5 :\n",
    "    print('-')"
   ]
  },
  {
   "cell_type": "code",
   "execution_count": 9,
   "metadata": {},
   "outputs": [
    {
     "name": "stdout",
     "output_type": "stream",
     "text": [
      "---\n"
     ]
    }
   ],
   "source": [
    "\n",
    "# Еще одно дополнительное условие elif\n",
    "a = -10\n",
    "if a > 0:\n",
    "    print('+')\n",
    "elif -10 < a < -5 :\n",
    "    print('-')\n",
    "elif -15 < a <= -10  :\n",
    "    print('---')"
   ]
  },
  {
   "cell_type": "code",
   "execution_count": 10,
   "metadata": {},
   "outputs": [
    {
     "name": "stdout",
     "output_type": "stream",
     "text": [
      "...\n"
     ]
    }
   ],
   "source": [
    "# Альтернативное условие else\n",
    "a = 0\n",
    "if a > 0:\n",
    "    print('+')\n",
    "elif -10 < a < -5 :\n",
    "    print('-')\n",
    "elif -15 < a <= -10  :\n",
    "    print('---')\n",
    "else :\n",
    "    print('...')"
   ]
  },
  {
   "cell_type": "code",
   "execution_count": 11,
   "metadata": {},
   "outputs": [
    {
     "name": "stdout",
     "output_type": "stream",
     "text": [
      "Bavaria - Ой не забыть быть чипсоны\n",
      "Corona - Ой надо купить буррито!\n",
      "Ragegast - Ой не забыть быть чипсоны\n",
      "Lambic - Ой не забыть быть чипсоны\n",
      "Perroni - Ой надо взять пиццу\n"
     ]
    }
   ],
   "source": [
    "# пример использвоания if в цикле\n",
    "beerlist = ['Bavaria', 'Corona', 'Ragegast','Lambic', 'Perroni']\n",
    "for beer in beerlist:\n",
    "    if beer == 'Corona':\n",
    "        print('{} - Ой надо купить буррито!'.format(beer,beer))\n",
    "    elif beer == 'Perroni':\n",
    "        print('{} - Ой надо взять пиццу'.format(beer))\n",
    "    else:\n",
    "        print('{} - Ой не забыть быть чипсоны'.format(beer))"
   ]
  },
  {
   "cell_type": "markdown",
   "metadata": {},
   "source": [
    "### Циклы"
   ]
  },
  {
   "cell_type": "code",
   "execution_count": 12,
   "metadata": {},
   "outputs": [
    {
     "name": "stdout",
     "output_type": "stream",
     "text": [
      "fruit =  banana\n",
      "fruit =  orange\n"
     ]
    }
   ],
   "source": [
    "\n",
    "# Для поочередного перебора элементов ЛЮБОЙ последовательности в Python есть специальный цикл\n",
    "# переменной fruit при каждой итерации(полном обороте) цикла присваиваются элементы поочереди\n",
    "fruits = ['banana', 'orange']\n",
    "for fruit in fruits:  \n",
    "    print('fruit = ', fruit)"
   ]
  },
  {
   "cell_type": "code",
   "execution_count": 13,
   "metadata": {},
   "outputs": [
    {
     "name": "stdout",
     "output_type": "stream",
     "text": [
      "el =  H\n",
      "el =  e\n",
      "el =  l\n",
      "el =  l\n",
      "el =  o\n"
     ]
    }
   ],
   "source": [
    "# со строкой тоже работает\n",
    "for el in 'Hello':  \n",
    "    print('el = ', el)"
   ]
  },
  {
   "cell_type": "code",
   "execution_count": 14,
   "metadata": {},
   "outputs": [
    {
     "name": "stdout",
     "output_type": "stream",
     "text": [
      "t_el =  1\n",
      "t_el =  2\n",
      "t_el =  3\n",
      "t_el =  4\n",
      "t_el =  5\n",
      "t_el =  10\n"
     ]
    }
   ],
   "source": [
    "\n",
    "# и с кортежем\n",
    "for t_el in 1, 2, 3, 4, 5, 10:  \n",
    "    print('t_el = ', t_el)"
   ]
  },
  {
   "cell_type": "code",
   "execution_count": 15,
   "metadata": {},
   "outputs": [
    {
     "name": "stdout",
     "output_type": "stream",
     "text": [
      "el =  1\n"
     ]
    }
   ],
   "source": [
    "#  break позволяет выйти из цикла до его завершения\n",
    "for el in [1, 2, 'Hello', 4]:\n",
    "    print('el = ', el)\n",
    "    break"
   ]
  },
  {
   "cell_type": "code",
   "execution_count": 16,
   "metadata": {},
   "outputs": [
    {
     "name": "stdout",
     "output_type": "stream",
     "text": [
      "hheellll  wwrrlldd"
     ]
    }
   ],
   "source": [
    "# continue позволяет пропустить итерацию\n",
    "for i in 'hello world':\n",
    "    if i == 'o':\n",
    "        continue\n",
    "    print(i * 2, end='')"
   ]
  },
  {
   "cell_type": "code",
   "execution_count": 19,
   "metadata": {},
   "outputs": [
    {
     "name": "stdout",
     "output_type": "stream",
     "text": [
      "Буквы a в строке нет\n"
     ]
    }
   ],
   "source": [
    "# else может проверить выход из цикла с помощью break и выполнить инструкцию в этом случае\n",
    "for i in 'hello world':\n",
    "#     print(i)\n",
    "    if i == 'a':\n",
    "        break\n",
    "else:\n",
    "    print('Буквы a в строке нет')"
   ]
  },
  {
   "cell_type": "markdown",
   "metadata": {},
   "source": [
    "### Генератор последовательности range"
   ]
  },
  {
   "cell_type": "code",
   "execution_count": 20,
   "metadata": {},
   "outputs": [
    {
     "data": {
      "text/plain": [
       "range(0, 10)"
      ]
     },
     "execution_count": 20,
     "metadata": {},
     "output_type": "execute_result"
    }
   ],
   "source": [
    "x = range(10)\n",
    "x"
   ]
  },
  {
   "cell_type": "code",
   "execution_count": 21,
   "metadata": {},
   "outputs": [
    {
     "data": {
      "text/plain": [
       "range"
      ]
     },
     "execution_count": 21,
     "metadata": {},
     "output_type": "execute_result"
    }
   ],
   "source": [
    "type(x)"
   ]
  },
  {
   "cell_type": "code",
   "execution_count": 22,
   "metadata": {},
   "outputs": [
    {
     "data": {
      "text/plain": [
       "[10, 11, 12, 13, 14, 15, 16, 17, 18, 19]"
      ]
     },
     "execution_count": 22,
     "metadata": {},
     "output_type": "execute_result"
    }
   ],
   "source": [
    "x = range(10, 20, 1)\n",
    "list(x)"
   ]
  },
  {
   "cell_type": "code",
   "execution_count": 23,
   "metadata": {},
   "outputs": [
    {
     "data": {
      "text/plain": [
       "[20, 18, 16, 14, 12]"
      ]
     },
     "execution_count": 23,
     "metadata": {},
     "output_type": "execute_result"
    }
   ],
   "source": [
    "x = range(20, 10, -2)\n",
    "list(x)"
   ]
  },
  {
   "cell_type": "code",
   "execution_count": 24,
   "metadata": {},
   "outputs": [
    {
     "name": "stdout",
     "output_type": "stream",
     "text": [
      "10\n",
      "8\n",
      "6\n",
      "4\n",
      "2\n"
     ]
    }
   ],
   "source": [
    "# for\n",
    "for i in range(10, 1, -2):\n",
    "    print(i)"
   ]
  },
  {
   "cell_type": "code",
   "execution_count": 25,
   "metadata": {},
   "outputs": [
    {
     "name": "stdout",
     "output_type": "stream",
     "text": [
      "[10, 20, 30, 40, 50]\n"
     ]
    }
   ],
   "source": [
    "alist = []\n",
    "for i in range(10,60,10):   \n",
    "    alist.append(i)\n",
    "print(alist)"
   ]
  },
  {
   "cell_type": "code",
   "execution_count": 26,
   "metadata": {},
   "outputs": [
    {
     "name": "stdout",
     "output_type": "stream",
     "text": [
      "fruit =  apple\n",
      "fruit =  banana\n",
      "fruit =  mango\n"
     ]
    }
   ],
   "source": [
    "# Перебор элементов по индексам\n",
    "fruits = ['apple', 'banana', 'mango']\n",
    "i = 0\n",
    "while len(fruits) > i:\n",
    "    print('fruit = ', fruits[i])\n",
    "    i += 1\n",
    "#     i = i + 1"
   ]
  },
  {
   "cell_type": "code",
   "execution_count": 27,
   "metadata": {},
   "outputs": [
    {
     "name": "stdout",
     "output_type": "stream",
     "text": [
      "9\n",
      "8\n",
      "7\n",
      "6\n",
      "5\n",
      "4\n",
      "3\n",
      "2\n",
      "1\n",
      "0\n"
     ]
    }
   ],
   "source": [
    "\n",
    "n = 10\n",
    "while n > 0:\n",
    "    n -= 1\n",
    "    print(n)"
   ]
  },
  {
   "cell_type": "code",
   "execution_count": 28,
   "metadata": {},
   "outputs": [
    {
     "name": "stdout",
     "output_type": "stream",
     "text": [
      "fruit =  apple\n",
      "fruit =  banana\n",
      "fruit =  mango\n"
     ]
    }
   ],
   "source": [
    "\n",
    "# переменной fruit при каждой итерации(полном обороте) цикла присваиваются элементы поочереди\n",
    "for fruit in fruits:  \n",
    "    print('fruit = ', fruit)"
   ]
  },
  {
   "cell_type": "code",
   "execution_count": 29,
   "metadata": {},
   "outputs": [
    {
     "name": "stdout",
     "output_type": "stream",
     "text": [
      "Bavaria\n",
      "Corona\n",
      "Ragegast\n",
      "Lambic\n",
      "Perroni\n"
     ]
    }
   ],
   "source": [
    "\n",
    "# С помощью цикла можно пройти по всем элементам списка\n",
    "beerlist = ['Bavaria', 'Corona', 'Ragegast','Lambic', 'Perroni']\n",
    "for beer in beerlist:\n",
    "    print(beer)"
   ]
  },
  {
   "cell_type": "code",
   "execution_count": 30,
   "metadata": {},
   "outputs": [
    {
     "name": "stdout",
     "output_type": "stream",
     "text": [
      "Bavaria\n",
      "Corona\n",
      "Ragegast\n",
      "Lambic\n",
      "Perroni\n"
     ]
    }
   ],
   "source": [
    "# В цикле можно использовать индекс для вывода элементов списка\n",
    "for i in range(len(beerlist)):\n",
    "    print(beerlist[i])"
   ]
  },
  {
   "cell_type": "code",
   "execution_count": 31,
   "metadata": {},
   "outputs": [
    {
     "name": "stdout",
     "output_type": "stream",
     "text": [
      "0 Bavaria\n",
      "1 Corona\n",
      "2 Ragegast\n",
      "3 Lambic\n",
      "4 Perroni\n"
     ]
    }
   ],
   "source": [
    "\n",
    "# Итерируясь по списку можно выводить и индекс элемента\n",
    "for i, beer in enumerate(beerlist):\n",
    "    print(i, beer)"
   ]
  },
  {
   "cell_type": "code",
   "execution_count": 32,
   "metadata": {},
   "outputs": [
    {
     "data": {
      "text/plain": [
       "[(0, 'Bavaria'), (1, 'Corona'), (2, 'Ragegast'), (3, 'Lambic'), (4, 'Perroni')]"
      ]
     },
     "execution_count": 32,
     "metadata": {},
     "output_type": "execute_result"
    }
   ],
   "source": [
    "# enumerate выводить список кортежей из элементов списка\n",
    "list(enumerate(beerlist))"
   ]
  },
  {
   "cell_type": "code",
   "execution_count": 33,
   "metadata": {},
   "outputs": [
    {
     "ename": "NameError",
     "evalue": "name 'newdict' is not defined",
     "output_type": "error",
     "traceback": [
      "\u001b[1;31m---------------------------------------------------------------------------\u001b[0m",
      "\u001b[1;31mNameError\u001b[0m                                 Traceback (most recent call last)",
      "\u001b[1;32md:\\Project\\Git\\Kurs_DS\\2_Lesson\\Notes\\2.loops.ipynb Cell 35\u001b[0m line \u001b[0;36m2\n\u001b[0;32m      <a href='vscode-notebook-cell:/d%3A/Project/Git/Kurs_DS/2_Lesson/Notes/2.loops.ipynb#X50sZmlsZQ%3D%3D?line=0'>1</a>\u001b[0m \u001b[39m# По словарю можно проходить циклом по ключам\u001b[39;00m\n\u001b[1;32m----> <a href='vscode-notebook-cell:/d%3A/Project/Git/Kurs_DS/2_Lesson/Notes/2.loops.ipynb#X50sZmlsZQ%3D%3D?line=1'>2</a>\u001b[0m \u001b[39mfor\u001b[39;00m key \u001b[39min\u001b[39;00m newdict\u001b[39m.\u001b[39mkeys():\n\u001b[0;32m      <a href='vscode-notebook-cell:/d%3A/Project/Git/Kurs_DS/2_Lesson/Notes/2.loops.ipynb#X50sZmlsZQ%3D%3D?line=2'>3</a>\u001b[0m     \u001b[39mprint\u001b[39m(\u001b[39m'\u001b[39m\u001b[39mМарка: \u001b[39m\u001b[39m{}\u001b[39;00m\u001b[39m'\u001b[39m\u001b[39m.\u001b[39mformat(key))\n",
      "\u001b[1;31mNameError\u001b[0m: name 'newdict' is not defined"
     ]
    }
   ],
   "source": [
    "# По словарю можно проходить циклом по ключам\n",
    "for key in newdict.keys():\n",
    "    print('Марка: {}'.format(key))"
   ]
  },
  {
   "cell_type": "code",
   "execution_count": 35,
   "metadata": {},
   "outputs": [
    {
     "ename": "NameError",
     "evalue": "name 'newdict' is not defined",
     "output_type": "error",
     "traceback": [
      "\u001b[1;31m---------------------------------------------------------------------------\u001b[0m",
      "\u001b[1;31mNameError\u001b[0m                                 Traceback (most recent call last)",
      "\u001b[1;32md:\\Project\\Git\\Kurs_DS\\2_Lesson\\Notes\\2.loops.ipynb Cell 36\u001b[0m line \u001b[0;36m2\n\u001b[0;32m      <a href='vscode-notebook-cell:/d%3A/Project/Git/Kurs_DS/2_Lesson/Notes/2.loops.ipynb#X52sZmlsZQ%3D%3D?line=0'>1</a>\u001b[0m \u001b[39m# По словарю можно проходить циклом по ключам и значениям\u001b[39;00m\n\u001b[1;32m----> <a href='vscode-notebook-cell:/d%3A/Project/Git/Kurs_DS/2_Lesson/Notes/2.loops.ipynb#X52sZmlsZQ%3D%3D?line=1'>2</a>\u001b[0m \u001b[39mfor\u001b[39;00m key, value \u001b[39min\u001b[39;00m newdict\u001b[39m.\u001b[39mitems():\n\u001b[0;32m      <a href='vscode-notebook-cell:/d%3A/Project/Git/Kurs_DS/2_Lesson/Notes/2.loops.ipynb#X52sZmlsZQ%3D%3D?line=2'>3</a>\u001b[0m     \u001b[39mprint\u001b[39m(\u001b[39m'\u001b[39m\u001b[39mМарка: \u001b[39m\u001b[39m{}\u001b[39;00m\u001b[39m, купить \u001b[39m\u001b[39m{}\u001b[39;00m\u001b[39m бутылок\u001b[39m\u001b[39m'\u001b[39m\u001b[39m.\u001b[39mformat(key,value))\n",
      "\u001b[1;31mNameError\u001b[0m: name 'newdict' is not defined"
     ]
    }
   ],
   "source": [
    "# По словарю можно проходить циклом по ключам и значениям\n",
    "for key, value in newdict.items():\n",
    "    print('Марка: {}, купить {} бутылок'.format(key,value))"
   ]
  },
  {
   "cell_type": "code",
   "execution_count": 34,
   "metadata": {},
   "outputs": [
    {
     "ename": "NameError",
     "evalue": "name 'newdict' is not defined",
     "output_type": "error",
     "traceback": [
      "\u001b[1;31m---------------------------------------------------------------------------\u001b[0m",
      "\u001b[1;31mNameError\u001b[0m                                 Traceback (most recent call last)",
      "\u001b[1;32md:\\Project\\Git\\Kurs_DS\\2_Lesson\\Notes\\2.loops.ipynb Cell 36\u001b[0m line \u001b[0;36m2\n\u001b[0;32m      <a href='vscode-notebook-cell:/d%3A/Project/Git/Kurs_DS/2_Lesson/Notes/2.loops.ipynb#X51sZmlsZQ%3D%3D?line=0'>1</a>\u001b[0m \u001b[39m# По словарю можно проходить циклом по значениям\u001b[39;00m\n\u001b[1;32m----> <a href='vscode-notebook-cell:/d%3A/Project/Git/Kurs_DS/2_Lesson/Notes/2.loops.ipynb#X51sZmlsZQ%3D%3D?line=1'>2</a>\u001b[0m \u001b[39mfor\u001b[39;00m val \u001b[39min\u001b[39;00m newdict\u001b[39m.\u001b[39mvalues():\n\u001b[0;32m      <a href='vscode-notebook-cell:/d%3A/Project/Git/Kurs_DS/2_Lesson/Notes/2.loops.ipynb#X51sZmlsZQ%3D%3D?line=2'>3</a>\u001b[0m     \u001b[39mprint\u001b[39m(\u001b[39m'\u001b[39m\u001b[39mкупить \u001b[39m\u001b[39m{}\u001b[39;00m\u001b[39m бутылок или...\u001b[39m\u001b[39m'\u001b[39m\u001b[39m.\u001b[39mformat(val))\n",
      "\u001b[1;31mNameError\u001b[0m: name 'newdict' is not defined"
     ]
    }
   ],
   "source": [
    "# По словарю можно проходить циклом по значениям\n",
    "for val in newdict.values():\n",
    "    print('купить {} бутылок или...'.format(val))"
   ]
  },
  {
   "cell_type": "code",
   "execution_count": 36,
   "metadata": {},
   "outputs": [
    {
     "name": "stdout",
     "output_type": "stream",
     "text": [
      "0\n",
      "1\n",
      "2\n"
     ]
    }
   ],
   "source": [
    "\n",
    "# Если мы используем круглые скобки и range, то мы создаем отдельный вид итераторов - генератор\n",
    "seq =(x for x in range(10))\n",
    "# Функция next() позволяет переходить к следующему элементу генератора\n",
    "print(next(seq))\n",
    "print(next(seq))\n",
    "print(next(seq))"
   ]
  },
  {
   "cell_type": "markdown",
   "metadata": {},
   "source": [
    "### List comprehension"
   ]
  },
  {
   "cell_type": "code",
   "execution_count": 38,
   "metadata": {},
   "outputs": [
    {
     "data": {
      "text/plain": [
       "[2, 4, 6, 8, 10]"
      ]
     },
     "execution_count": 38,
     "metadata": {},
     "output_type": "execute_result"
    }
   ],
   "source": [
    "# Допустим у нас есть список \n",
    "nums = [2, 4, 6, 8, 10]\n",
    "# Обычный цикл\n",
    "nums_new = []\n",
    "for i in range(1, 6):\n",
    "    nums_new.append(2*i)\n",
    "nums_new"
   ]
  },
  {
   "cell_type": "code",
   "execution_count": 39,
   "metadata": {},
   "outputs": [
    {
     "data": {
      "text/plain": [
       "[2, 4, 6, 8, 10]"
      ]
     },
     "execution_count": 39,
     "metadata": {},
     "output_type": "execute_result"
    }
   ],
   "source": [
    "[(2*i) for i in range(1,6)]"
   ]
  },
  {
   "cell_type": "code",
   "execution_count": 40,
   "metadata": {},
   "outputs": [
    {
     "data": {
      "text/plain": [
       "{2, 4, 6, 8, 10}"
      ]
     },
     "execution_count": 40,
     "metadata": {},
     "output_type": "execute_result"
    }
   ],
   "source": [
    "{(2*i) for i in range(1,6)}"
   ]
  },
  {
   "cell_type": "code",
   "execution_count": 41,
   "metadata": {},
   "outputs": [
    {
     "data": {
      "text/plain": [
       "[1, 2, 3, 4, 5, 6, 7, 8, 9, 10]"
      ]
     },
     "execution_count": 41,
     "metadata": {},
     "output_type": "execute_result"
    }
   ],
   "source": [
    "[num for num in range(1, 11)]"
   ]
  },
  {
   "cell_type": "code",
   "execution_count": 42,
   "metadata": {},
   "outputs": [
    {
     "data": {
      "text/plain": [
       "[2, 4, 6, 8, 10]"
      ]
     },
     "execution_count": 42,
     "metadata": {},
     "output_type": "execute_result"
    }
   ],
   "source": [
    "# Добавим условие\n",
    "[num for num in range(1, 11) if num % 2 == 0]"
   ]
  },
  {
   "cell_type": "code",
   "execution_count": 43,
   "metadata": {},
   "outputs": [
    {
     "data": {
      "text/plain": [
       "['_', 2, '_', 4, '_', 6, '_', 8, '_', 10]"
      ]
     },
     "execution_count": 43,
     "metadata": {},
     "output_type": "execute_result"
    }
   ],
   "source": [
    "# Добавим альтернативное условие\n",
    "[num if num % 2 == 0 else '_' for num in range(1, 11)]"
   ]
  },
  {
   "cell_type": "code",
   "execution_count": 44,
   "metadata": {},
   "outputs": [
    {
     "data": {
      "text/plain": [
       "[(1, 'a'),\n",
       " (1, 'b'),\n",
       " (1, 'c'),\n",
       " (2, 'a'),\n",
       " (2, 'b'),\n",
       " (2, 'c'),\n",
       " (3, 'a'),\n",
       " (3, 'b'),\n",
       " (3, 'c')]"
      ]
     },
     "execution_count": 44,
     "metadata": {},
     "output_type": "execute_result"
    }
   ],
   "source": [
    "\n",
    "# Циклы в цикле\n",
    "numbers = [1, 2, 3]\n",
    "letters = ['a','b','c']\n",
    "[(i, j) for i in numbers for j in letters]"
   ]
  },
  {
   "cell_type": "code",
   "execution_count": 45,
   "metadata": {},
   "outputs": [
    {
     "data": {
      "text/plain": [
       "{'a': 97,\n",
       " 'b': 98,\n",
       " 'c': 99,\n",
       " 'd': 100,\n",
       " 'e': 101,\n",
       " 'f': 102,\n",
       " 'g': 103,\n",
       " 'h': 104,\n",
       " 'i': 105,\n",
       " 'j': 106,\n",
       " 'k': 107,\n",
       " 'l': 108,\n",
       " 'm': 109,\n",
       " 'n': 110,\n",
       " 'o': 111,\n",
       " 'p': 112,\n",
       " 'q': 113,\n",
       " 'r': 114,\n",
       " 's': 115,\n",
       " 't': 116,\n",
       " 'u': 117,\n",
       " 'v': 118,\n",
       " 'w': 119,\n",
       " 'x': 120,\n",
       " 'y': 121,\n",
       " 'z': 122}"
      ]
     },
     "execution_count": 45,
     "metadata": {},
     "output_type": "execute_result"
    }
   ],
   "source": [
    "# Когда циклов много\n",
    "# [(i, j, k) for i in numbers for j in letters for k in range(3)]\n",
    "\n",
    "# Если на выходе нужен  список в списке\n",
    "[[(i, j) for i in numbers] for j in letters]\n",
    "# Генератор словарей\n",
    "{chr(num): num for num in range(97,123)}"
   ]
  },
  {
   "cell_type": "markdown",
   "metadata": {},
   "source": [
    "### TQDM - Прогресс бар для циклов"
   ]
  },
  {
   "cell_type": "code",
   "execution_count": 46,
   "metadata": {},
   "outputs": [
    {
     "name": "stderr",
     "output_type": "stream",
     "text": [
      "c:\\Users\\Stas\\AppData\\Local\\Programs\\Python\\Python312\\Lib\\site-packages\\tqdm\\auto.py:21: TqdmWarning: IProgress not found. Please update jupyter and ipywidgets. See https://ipywidgets.readthedocs.io/en/stable/user_install.html\n",
      "  from .autonotebook import tqdm as notebook_tqdm\n",
      "100%|██████████| 1000/1000 [00:06<00:00, 148.04it/s]\n"
     ]
    }
   ],
   "source": [
    "# Прогресс бар \n",
    "from tqdm.auto import tqdm\n",
    "x = [x**y for x in tqdm(range(1000)) for y in range(1000)]"
   ]
  },
  {
   "cell_type": "markdown",
   "metadata": {},
   "source": [
    "### Практика"
   ]
  },
  {
   "cell_type": "code",
   "execution_count": null,
   "metadata": {},
   "outputs": [],
   "source": [
    "# Создайте список  squares из значений последовательности возведеных в квадрат\n",
    "#----- Ваш код здесь ----\n",
    "# Создайте матрицу 5 на 5 используя список в списке\n",
    "# С помощью лист комперхеншена\n",
    "#----- Ваш код здесь ----\n",
    "# Создайте генератор последовательность элементов от 0 до 30 в \n",
    "# Сохраните ее в переменную result\n",
    "#----- Ваш код здесь ----\n",
    "# Выведите первые 5 элементов result с помощью функции next()\n",
    "#----- Ваш код здесь ----\n",
    "# Выведете оставшиеся элементы с помощью цикла\n",
    "#----- Ваш код здесь ----"
   ]
  },
  {
   "cell_type": "code",
   "execution_count": 47,
   "metadata": {},
   "outputs": [],
   "source": [
    "# Дан список fellowship \n",
    "fellowship = ['frodo', 'samwise', 'merry', 'aragorn', 'legolas', 'boromir', 'gimli']\n",
    "\n",
    "# Создайте новый список new_fellowship из fellowship если длина элемента больше или равна 7\n",
    "#----- Ваш код здесь ----\n",
    "\n",
    "# Выведите new_fellowship\n",
    "#----- Ваш код здесь ----"
   ]
  },
  {
   "cell_type": "code",
   "execution_count": 48,
   "metadata": {},
   "outputs": [],
   "source": [
    "# Данн список строк\n",
    "lannister = ['cersei', 'jaime', 'tywin', 'tyrion', 'joffrey']\n",
    "\n",
    "# Создайте объект генератор из длин елементов списка\n",
    "#----- Ваш код здесь ----\n",
    "\n",
    "# Выведите значения lengths с помощью цикла\n",
    "#----- Ваш код здесь ----"
   ]
  },
  {
   "cell_type": "markdown",
   "metadata": {},
   "source": [
    "### Функции\n",
    "  * Если код повторяется - можно написать его функцией\n"
   ]
  },
  {
   "cell_type": "code",
   "execution_count": 49,
   "metadata": {},
   "outputs": [
    {
     "name": "stdout",
     "output_type": "stream",
     "text": [
      "hello\n",
      "hello\n",
      "hello\n",
      "hello\n",
      "hello\n",
      "hello\n",
      "hello\n",
      "hello\n",
      "hello\n",
      "hello\n"
     ]
    }
   ],
   "source": [
    "def hello_maker():\n",
    "    \"\"\"Функция выдает приветствие и не возвращает ничего\"\"\"\n",
    "    \n",
    "    print('hello')\n",
    "def plus10(x):\n",
    "    \"\"\" Функция добавляет 10 к аргументу и возвращает новое значение \"\"\"\n",
    "\n",
    "    a = x + 10\n",
    "    return a\n",
    "for _ in range(10):\n",
    "    hello_maker()"
   ]
  },
  {
   "cell_type": "code",
   "execution_count": 50,
   "metadata": {},
   "outputs": [
    {
     "name": "stdout",
     "output_type": "stream",
     "text": [
      "monkey live in the zoo\n"
     ]
    }
   ],
   "source": [
    "zoo_animals = ['monkey', 'lion', 'elephant', 'bear']\n",
    "\n",
    "def zoo_checker(zoo, animal):\n",
    "    if animal in zoo:\n",
    "        print('{} live in the zoo'.format(animal))\n",
    "    else:\n",
    "        print('{} live in the jungle'.format(animal))\n",
    "zoo_checker(zoo=['monkey', 'lion', 'elephant', 'bear'], animal='monkey')"
   ]
  },
  {
   "cell_type": "code",
   "execution_count": 51,
   "metadata": {},
   "outputs": [
    {
     "name": "stdout",
     "output_type": "stream",
     "text": [
      "python live in the jungle\n"
     ]
    }
   ],
   "source": [
    "zoo_checker(zoo_animals, 'python')"
   ]
  },
  {
   "cell_type": "code",
   "execution_count": 52,
   "metadata": {},
   "outputs": [
    {
     "name": "stdout",
     "output_type": "stream",
     "text": [
      "Hi Peter\n",
      "Hi John\n",
      "Hi Jack\n",
      "Hi Everybody\n"
     ]
    }
   ],
   "source": [
    "# Когда мы не знаем все аргументы, которые передаются в функцию\n",
    "def hello_maker2(*args):\n",
    "    for name in args:\n",
    "        print('Hi {}'.format(name))\n",
    "hello_maker2('Peter', 'John', 'Jack', 'Everybody')"
   ]
  },
  {
   "cell_type": "code",
   "execution_count": 53,
   "metadata": {},
   "outputs": [
    {
     "name": "stdout",
     "output_type": "stream",
     "text": [
      "Hi Dude\n"
     ]
    }
   ],
   "source": [
    "# В функциях важно прописывать комментарии в docstring\n",
    "def hello_maker2(*args):\n",
    "    \"\"\"\n",
    "    Приветсвует всех по передаваемым в качестве аргументов именам\n",
    "    \"\"\"\n",
    "    \n",
    "    for name in args:\n",
    "        print('Hi {}'.format(name))\n",
    "hello_maker2('Dude')"
   ]
  },
  {
   "cell_type": "code",
   "execution_count": 54,
   "metadata": {},
   "outputs": [],
   "source": [
    "# Напишите 2 функции, которые будут переводить сообщение посимвольно в цифры и обратно \n",
    "\n",
    "# Используйтпе ord и chr\n",
    "\n",
    "# Должно получиться что-то подобное:\n",
    "# Сообщение: Houston, we have a problem -> [72,111,117,115,..., 32,98,108,101,109]\n",
    "# [72,111,117,115,..., 32,98,108,101,109] -> Houston, we have a problem"
   ]
  },
  {
   "cell_type": "markdown",
   "metadata": {},
   "source": [
    "### Анонимные функции"
   ]
  },
  {
   "cell_type": "code",
   "execution_count": 55,
   "metadata": {},
   "outputs": [
    {
     "data": {
      "text/plain": [
       "6"
      ]
     },
     "execution_count": 55,
     "metadata": {},
     "output_type": "execute_result"
    }
   ],
   "source": [
    "lamfunc = lambda x:x*2\n",
    "lamfunc(3)"
   ]
  },
  {
   "cell_type": "code",
   "execution_count": 56,
   "metadata": {},
   "outputs": [
    {
     "data": {
      "text/plain": [
       "10"
      ]
     },
     "execution_count": 56,
     "metadata": {},
     "output_type": "execute_result"
    }
   ],
   "source": [
    "lamfunc_y = lambda x, y: x*2 + y\n",
    "lamfunc_y(3,4)"
   ]
  },
  {
   "cell_type": "code",
   "execution_count": 57,
   "metadata": {},
   "outputs": [
    {
     "data": {
      "text/plain": [
       "[('Гинес', 100), ('Шпатен', 90), ('Хугарден', 70), ('Жигулевское', 10)]"
      ]
     },
     "execution_count": 57,
     "metadata": {},
     "output_type": "execute_result"
    }
   ],
   "source": [
    "# Пример использования лямбда функции для сортировки словаря\n",
    "beers = {'Жигулевское':10, 'Гинес':100, 'Хугарден':70, 'Шпатен':90}\n",
    "sorted(beers.items(), key=lambda x:x[1], reverse=True)"
   ]
  },
  {
   "cell_type": "markdown",
   "metadata": {},
   "source": [
    "### Map"
   ]
  },
  {
   "cell_type": "code",
   "execution_count": 58,
   "metadata": {},
   "outputs": [
    {
     "data": {
      "text/plain": [
       "[1, 4, 9, 16]"
      ]
     },
     "execution_count": 58,
     "metadata": {},
     "output_type": "execute_result"
    }
   ],
   "source": [
    "# map может применить функцию ко всем элеметам списка\n",
    "# Результаы можно выевести в виде списка\n",
    "list(map(lambda x:x**2, [1,2,3,4]))"
   ]
  },
  {
   "cell_type": "code",
   "execution_count": 59,
   "metadata": {},
   "outputs": [
    {
     "data": {
      "text/plain": [
       "(1, 4, 9, 16)"
      ]
     },
     "execution_count": 59,
     "metadata": {},
     "output_type": "execute_result"
    }
   ],
   "source": [
    "# Кортежа\n",
    "tuple(map(lambda x:x**2, [1,2,3,4]))"
   ]
  },
  {
   "cell_type": "code",
   "execution_count": 60,
   "metadata": {},
   "outputs": [
    {
     "data": {
      "text/plain": [
       "{1, 4, 9, 16}"
      ]
     },
     "execution_count": 60,
     "metadata": {},
     "output_type": "execute_result"
    }
   ],
   "source": [
    "# Множества\n",
    "set(map(lambda x:x**2, [1,2,3,4]))"
   ]
  },
  {
   "cell_type": "code",
   "execution_count": 61,
   "metadata": {},
   "outputs": [
    {
     "name": "stdout",
     "output_type": "stream",
     "text": [
      "[0, 0]\n",
      "[1, 2]\n",
      "[4, 4]\n",
      "[9, 6]\n",
      "[16, 8]\n"
     ]
    }
   ],
   "source": [
    "# В map можно передовать список из функций\n",
    "def multiply(x):\n",
    "    return (x*x)\n",
    "\n",
    "def add(x):\n",
    "    return (x+x)\n",
    "\n",
    "funcs = [multiply, add]\n",
    "for i in range(5):\n",
    "    value = list(map(lambda x: x(i), funcs))\n",
    "    print(value)"
   ]
  },
  {
   "cell_type": "markdown",
   "metadata": {},
   "source": [
    "### Filter"
   ]
  },
  {
   "cell_type": "code",
   "execution_count": 62,
   "metadata": {},
   "outputs": [
    {
     "name": "stdout",
     "output_type": "stream",
     "text": [
      "[-5, -4, -3, -2, -1]\n"
     ]
    }
   ],
   "source": [
    "\n",
    "# С помощью filter можно проверять элементы списка на выполнение условий\n",
    "# условие выполняется - True\n",
    "number_list = list(range(-5, 5))\n",
    "less_than_zero = list(filter(lambda x: x < 0, number_list))\n",
    "print(less_than_zero)"
   ]
  },
  {
   "cell_type": "markdown",
   "metadata": {},
   "source": [
    "### zip"
   ]
  },
  {
   "cell_type": "code",
   "execution_count": 63,
   "metadata": {},
   "outputs": [
    {
     "data": {
      "text/plain": [
       "{'Bavaria': 10, 'Corona': 20, 'Ragegast': 30, 'Lambic': 40, 'Perroni': 50}"
      ]
     },
     "execution_count": 63,
     "metadata": {},
     "output_type": "execute_result"
    }
   ],
   "source": [
    "# для создания словарей из 2х списков удобно пользоваться функцией zip\n",
    "alist = [x for x in range(10,60,10)]\n",
    "newdict = dict(zip(beerlist, alist))\n",
    "newdict"
   ]
  }
 ],
 "metadata": {
  "kernelspec": {
   "display_name": "Python 3",
   "language": "python",
   "name": "python3"
  },
  "language_info": {
   "codemirror_mode": {
    "name": "ipython",
    "version": 3
   },
   "file_extension": ".py",
   "mimetype": "text/x-python",
   "name": "python",
   "nbconvert_exporter": "python",
   "pygments_lexer": "ipython3",
   "version": "3.12.0"
  }
 },
 "nbformat": 4,
 "nbformat_minor": 2
}
