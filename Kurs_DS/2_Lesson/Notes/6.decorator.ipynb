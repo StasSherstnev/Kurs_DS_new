{
 "cells": [
  {
   "cell_type": "markdown",
   "metadata": {},
   "source": [
    "## Понятие о декораторе\n",
    "  * Декоратор — это функция, которая позволяет обернуть другую функцию для расширения её функциональности без непосредственного изменения её кода."
   ]
  },
  {
   "cell_type": "code",
   "execution_count": 1,
   "metadata": {},
   "outputs": [
    {
     "name": "stdout",
     "output_type": "stream",
     "text": [
      "Hello world!\n"
     ]
    }
   ],
   "source": [
    "def hello_world():\n",
    "    print('Hello world!')\n",
    "def wrapper_function():\n",
    "    def hello_world():\n",
    "        print('Hello world!')\n",
    "    hello_world()\n",
    "wrapper_function()"
   ]
  },
  {
   "cell_type": "code",
   "execution_count": 2,
   "metadata": {},
   "outputs": [
    {
     "name": "stdout",
     "output_type": "stream",
     "text": [
      "Получена функция <function hello_world at 0x0000017F6EB4AA20> в качестве аргумента\n",
      "Hello world!\n"
     ]
    },
    {
     "data": {
      "text/plain": [
       "<function __main__.hello_world()>"
      ]
     },
     "execution_count": 2,
     "metadata": {},
     "output_type": "execute_result"
    }
   ],
   "source": [
    "def higher_order(func):\n",
    "    print('Получена функция {} в качестве аргумента'.format(func))\n",
    "    func()\n",
    "    return func\n",
    "higher_order(hello_world)"
   ]
  },
  {
   "cell_type": "code",
   "execution_count": 4,
   "metadata": {},
   "outputs": [],
   "source": [
    "def decorator_function(func):\n",
    "    def wrapper():\n",
    "        print('Функция-обёртка!')\n",
    "        print('Оборачиваемая функция: {}'.format(func))\n",
    "        print('Выполняем обёрнутую функцию...')\n",
    "        func()\n",
    "        print('Выходим из обёртки')\n",
    "    return wrapper"
   ]
  },
  {
   "cell_type": "code",
   "execution_count": 5,
   "metadata": {},
   "outputs": [],
   "source": [
    "@decorator_function\n",
    "def hello_world():\n",
    "    print('Hello world!')"
   ]
  },
  {
   "cell_type": "code",
   "execution_count": 6,
   "metadata": {},
   "outputs": [],
   "source": [
    "@decorator_function\n",
    "def cube():\n",
    "    print(3**3)"
   ]
  },
  {
   "cell_type": "code",
   "execution_count": 7,
   "metadata": {},
   "outputs": [
    {
     "name": "stdout",
     "output_type": "stream",
     "text": [
      "Функция-обёртка!\n",
      "Оборачиваемая функция: <function cube at 0x0000017F6EB4A2A0>\n",
      "Выполняем обёрнутую функцию...\n",
      "27\n",
      "Выходим из обёртки\n"
     ]
    }
   ],
   "source": [
    "cube()"
   ]
  },
  {
   "cell_type": "code",
   "execution_count": 8,
   "metadata": {},
   "outputs": [
    {
     "name": "stdout",
     "output_type": "stream",
     "text": [
      "Функция-обёртка!\n",
      "Оборачиваемая функция: <function hello_world at 0x0000017F6EB4A520>\n",
      "Выполняем обёрнутую функцию...\n",
      "Hello world!\n",
      "Выходим из обёртки\n"
     ]
    }
   ],
   "source": [
    "hello_world()"
   ]
  },
  {
   "cell_type": "code",
   "execution_count": 9,
   "metadata": {},
   "outputs": [
    {
     "name": "stdout",
     "output_type": "stream",
     "text": [
      "8\n",
      "Функция отработала за следующее время 0:00:00 \n"
     ]
    }
   ],
   "source": [
    "from datetime import datetime\n",
    "def decorator_function(func):\n",
    "    def wrapper(x):\n",
    "        start = datetime.now()\n",
    "        func(x)\n",
    "        timer = datetime.now() - start\n",
    "        print(\"Функция отработала за следующее время {} \".format(timer))\n",
    "    return wrapper\n",
    "def cube(x):\n",
    "    print(x**3)\n",
    "@decorator_function\n",
    "def cube(x):\n",
    "    print(x**3)\n",
    "cube(2)"
   ]
  },
  {
   "cell_type": "code",
   "execution_count": 10,
   "metadata": {},
   "outputs": [
    {
     "name": "stdout",
     "output_type": "stream",
     "text": [
      "10000\n",
      "Функция отработала за следующее время 0:00:00.000996 \n"
     ]
    }
   ],
   "source": [
    "@decorator_function\n",
    "def square(x):\n",
    "    print(x**2)\n",
    "square(100)"
   ]
  },
  {
   "cell_type": "markdown",
   "metadata": {},
   "source": [
    "### Практическая часть"
   ]
  },
  {
   "cell_type": "code",
   "execution_count": null,
   "metadata": {},
   "outputs": [],
   "source": [
    "# есть функция hello \n",
    "# напишите декораторы, которые оборачивают текст \"hello world\" из функции hello в теги\n",
    "def hello():\n",
    "    return \"hello world\"\n",
    "# 1. bold <b>hello world </b> \n",
    "# 2. italic <i> hello world</i>\n",
    "# 3. underline <u>hello world </u>\n",
    "# 4. и все сразу <b><i><u>hello world</u></i></b>"
   ]
  }
 ],
 "metadata": {
  "kernelspec": {
   "display_name": "Python 3",
   "language": "python",
   "name": "python3"
  },
  "language_info": {
   "codemirror_mode": {
    "name": "ipython",
    "version": 3
   },
   "file_extension": ".py",
   "mimetype": "text/x-python",
   "name": "python",
   "nbconvert_exporter": "python",
   "pygments_lexer": "ipython3",
   "version": "3.12.0"
  }
 },
 "nbformat": 4,
 "nbformat_minor": 2
}
