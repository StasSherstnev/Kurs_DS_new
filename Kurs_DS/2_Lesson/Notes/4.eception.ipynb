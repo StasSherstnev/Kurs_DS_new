{
 "cells": [
  {
   "cell_type": "markdown",
   "metadata": {},
   "source": [
    "### Исключения и обработка ошибок\n",
    "  * Понятие об исключении\n",
    "  * Выброс исключения\n",
    "  * Перехват исключения\n",
    "  * Стандартные исключения\n",
    "  * Если что-то пошло не так ...\n",
    "  * На помощь приходят исключения!\n",
    "  * Они прерывают ход программы в случае ошибок\n",
    "\n",
    "#### Примеры исключений:"
   ]
  },
  {
   "cell_type": "code",
   "execution_count": 1,
   "metadata": {},
   "outputs": [
    {
     "ename": "SyntaxError",
     "evalue": "expected ':' (1082587888.py, line 1)",
     "output_type": "error",
     "traceback": [
      "\u001b[1;36m  Cell \u001b[1;32mIn[1], line 1\u001b[1;36m\u001b[0m\n\u001b[1;33m    for el in [1,3,5]\u001b[0m\n\u001b[1;37m                     ^\u001b[0m\n\u001b[1;31mSyntaxError\u001b[0m\u001b[1;31m:\u001b[0m expected ':'\n"
     ]
    }
   ],
   "source": [
    "for el in [1,3,5]"
   ]
  },
  {
   "cell_type": "code",
   "execution_count": 2,
   "metadata": {},
   "outputs": [
    {
     "ename": "ZeroDivisionError",
     "evalue": "division by zero",
     "output_type": "error",
     "traceback": [
      "\u001b[1;31m---------------------------------------------------------------------------\u001b[0m",
      "\u001b[1;31mZeroDivisionError\u001b[0m                         Traceback (most recent call last)",
      "\u001b[1;32md:\\Project\\Git\\Kurs_DS\\2_Lesson\\Notes\\4.eception.ipynb Cell 3\u001b[0m line \u001b[0;36m1\n\u001b[1;32m----> <a href='vscode-notebook-cell:/d%3A/Project/Git/Kurs_DS/2_Lesson/Notes/4.eception.ipynb#W2sZmlsZQ%3D%3D?line=0'>1</a>\u001b[0m \u001b[39m5\u001b[39;49m \u001b[39m/\u001b[39;49m \u001b[39m0\u001b[39;49m\n",
      "\u001b[1;31mZeroDivisionError\u001b[0m: division by zero"
     ]
    }
   ],
   "source": [
    "5 / 0"
   ]
  },
  {
   "cell_type": "code",
   "execution_count": 3,
   "metadata": {},
   "outputs": [
    {
     "ename": "ValueError",
     "evalue": "invalid literal for int() with base 10: 'ten'",
     "output_type": "error",
     "traceback": [
      "\u001b[1;31m---------------------------------------------------------------------------\u001b[0m",
      "\u001b[1;31mValueError\u001b[0m                                Traceback (most recent call last)",
      "\u001b[1;32md:\\Project\\Git\\Kurs_DS\\2_Lesson\\Notes\\4.eception.ipynb Cell 4\u001b[0m line \u001b[0;36m1\n\u001b[1;32m----> <a href='vscode-notebook-cell:/d%3A/Project/Git/Kurs_DS/2_Lesson/Notes/4.eception.ipynb#W3sZmlsZQ%3D%3D?line=0'>1</a>\u001b[0m \u001b[39mint\u001b[39;49m(\u001b[39m'\u001b[39;49m\u001b[39mten\u001b[39;49m\u001b[39m'\u001b[39;49m)\n",
      "\u001b[1;31mValueError\u001b[0m: invalid literal for int() with base 10: 'ten'"
     ]
    }
   ],
   "source": [
    "\n",
    "int('ten')"
   ]
  },
  {
   "cell_type": "code",
   "execution_count": 4,
   "metadata": {},
   "outputs": [
    {
     "ename": "MyException",
     "evalue": "Это нестандартное исключение",
     "output_type": "error",
     "traceback": [
      "\u001b[1;31m---------------------------------------------------------------------------\u001b[0m",
      "\u001b[1;31mMyException\u001b[0m                               Traceback (most recent call last)",
      "\u001b[1;32md:\\Project\\Git\\Kurs_DS\\2_Lesson\\Notes\\4.eception.ipynb Cell 5\u001b[0m line \u001b[0;36m8\n\u001b[0;32m      <a href='vscode-notebook-cell:/d%3A/Project/Git/Kurs_DS/2_Lesson/Notes/4.eception.ipynb#W4sZmlsZQ%3D%3D?line=5'>6</a>\u001b[0m \u001b[39mclass\u001b[39;00m \u001b[39mMyException\u001b[39;00m(\u001b[39mException\u001b[39;00m):\n\u001b[0;32m      <a href='vscode-notebook-cell:/d%3A/Project/Git/Kurs_DS/2_Lesson/Notes/4.eception.ipynb#W4sZmlsZQ%3D%3D?line=6'>7</a>\u001b[0m     \u001b[39mpass\u001b[39;00m\n\u001b[1;32m----> <a href='vscode-notebook-cell:/d%3A/Project/Git/Kurs_DS/2_Lesson/Notes/4.eception.ipynb#W4sZmlsZQ%3D%3D?line=7'>8</a>\u001b[0m \u001b[39mraise\u001b[39;00m MyException(\u001b[39m'\u001b[39m\u001b[39mЭто нестандартное исключение\u001b[39m\u001b[39m'\u001b[39m)\n",
      "\u001b[1;31mMyException\u001b[0m: Это нестандартное исключение"
     ]
    }
   ],
   "source": [
    "# Исключение срабатывает с помощью команды raise\n",
    "# raise FileNotFoundError\n",
    "# Traceback подсказка что не так и где искать ошибку \n",
    "# raise FileNotFoundError('А где файл?')\n",
    "# Можно создать свои исключения\n",
    "class MyException(Exception):\n",
    "    pass\n",
    "raise MyException('Это нестандартное исключение')"
   ]
  },
  {
   "cell_type": "markdown",
   "metadata": {},
   "source": [
    "### Перехват исключений"
   ]
  },
  {
   "cell_type": "code",
   "execution_count": 1,
   "metadata": {},
   "outputs": [],
   "source": [
    "\n",
    "while True:\n",
    "    try:\n",
    "        x = int(input(\"Please enter a number: \"))\n",
    "        break\n",
    "    except ValueError:\n",
    "        print(\"Oops!  That was no valid number.  Try again...\")\n"
   ]
  },
  {
   "cell_type": "code",
   "execution_count": 1,
   "metadata": {},
   "outputs": [
    {
     "ename": "IndentationError",
     "evalue": "expected an indented block after 'try' statement on line 2 (1556276936.py, line 4)",
     "output_type": "error",
     "traceback": [
      "\u001b[1;36m  Cell \u001b[1;32mIn[1], line 4\u001b[1;36m\u001b[0m\n\u001b[1;33m    except:\u001b[0m\n\u001b[1;37m    ^\u001b[0m\n\u001b[1;31mIndentationError\u001b[0m\u001b[1;31m:\u001b[0m expected an indented block after 'try' statement on line 2\n"
     ]
    }
   ],
   "source": [
    "f = open('foo','r')\n",
    "try:\n",
    "    # Выполнить некоторые действия\n",
    "except:\n",
    "    # Выполнить некоторые действия\n",
    "finally:\n",
    "    f.close()\n",
    "    # Файл будет закрыт, независимо от того, что произойдет"
   ]
  },
  {
   "cell_type": "code",
   "execution_count": 2,
   "metadata": {},
   "outputs": [
    {
     "name": "stderr",
     "output_type": "stream",
     "text": [
      "\"ls\" �� ���� ����७��� ��� ���譥�\n",
      "��������, �ᯮ��塞�� �ணࠬ��� ��� ������ 䠩���.\n"
     ]
    }
   ],
   "source": [
    "!ls"
   ]
  },
  {
   "cell_type": "code",
   "execution_count": 3,
   "metadata": {},
   "outputs": [
    {
     "ename": "IndentationError",
     "evalue": "expected an indented block after 'try' statement on line 3 (4163272516.py, line 6)",
     "output_type": "error",
     "traceback": [
      "\u001b[1;36m  Cell \u001b[1;32mIn[3], line 6\u001b[1;36m\u001b[0m\n\u001b[1;33m    except:\u001b[0m\n\u001b[1;37m    ^\u001b[0m\n\u001b[1;31mIndentationError\u001b[0m\u001b[1;31m:\u001b[0m expected an indented block after 'try' statement on line 3\n"
     ]
    }
   ],
   "source": [
    "f = open('somefile_new.txt','r')\n",
    "\n",
    "try:\n",
    "    # Выполнить некоторые действия\n",
    "#     f = open('somefile_new.txt','r')\n",
    "except:\n",
    "    # Выполнить некоторые действия в случае исключения\n",
    "    print('except')\n",
    "else:\n",
    "    # Выполнить некоторые действия в случае если все прошло без ошибок\n",
    "    pass\n",
    "finally:\n",
    "    f.close()\n",
    "    # Файл будет закрыт, независимо от того, что произойдет"
   ]
  },
  {
   "cell_type": "code",
   "execution_count": null,
   "metadata": {},
   "outputs": [],
   "source": [
    "# Про встроенные исключения на русском\n",
    "# https://pythonworld.ru/tipy-dannyx-v-python/isklyucheniya-v-python-konstrukciya-try-except-dlya-obrabotki-isklyuchenij.html"
   ]
  },
  {
   "cell_type": "code",
   "execution_count": null,
   "metadata": {},
   "outputs": [],
   "source": [
    "\n",
    "# Создайте список str_nums из 100000 значений\n",
    "# В этом списке каждое значение  переведите в строку\n",
    "# Каждое кратное 10000  переведите в строку без 000, например, '10k', '20k'...\n",
    "# У 10го значения с начала и конца списка замените значения на '0'\n",
    "# Используя try except создайте новый список элементы которого будут получены по следующему алгоримту \n",
    "### 1. переведите элемент списка str_nums в int\n",
    "### 2. запишите результат деления 1000000 на этот элемент\n",
    "# В случае исключения выведите соответствующее сообщение\n",
    "# <-- Ваш код здесь -->\n",
    "\n",
    "# В случае исключения определенного типа, попробуйте обработать ошибку\n",
    "# <-- Ваш код здесь -->"
   ]
  }
 ],
 "metadata": {
  "kernelspec": {
   "display_name": "Python 3",
   "language": "python",
   "name": "python3"
  },
  "language_info": {
   "codemirror_mode": {
    "name": "ipython",
    "version": 3
   },
   "file_extension": ".py",
   "mimetype": "text/x-python",
   "name": "python",
   "nbconvert_exporter": "python",
   "pygments_lexer": "ipython3",
   "version": "3.12.0"
  }
 },
 "nbformat": 4,
 "nbformat_minor": 2
}
