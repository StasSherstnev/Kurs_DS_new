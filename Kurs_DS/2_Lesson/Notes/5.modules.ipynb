{
 "cells": [
  {
   "cell_type": "markdown",
   "metadata": {},
   "source": [
    "### Модули и пакеты\n",
    "   * Создание собственного модуля\n",
    "   * Создание пакета\n",
    "   * Подсистема pip\n",
    "   * Краткий обзор стандартной библиотеки\n",
    "   * Установка стороннего модуля\n",
    "   * Скрипт или модуль ?\n",
    "   * Скрипт - это файл с программой, который запускается автономно\n",
    "#### Модуль - это файл, который подгружается, чтобы расширить функциональные возмжоности скрипта(программы)"
   ]
  },
  {
   "cell_type": "code",
   "execution_count": 1,
   "metadata": {},
   "outputs": [
    {
     "name": "stdout",
     "output_type": "stream",
     "text": [
      "Writing myscript.py\n"
     ]
    }
   ],
   "source": [
    "%%writefile myscript.py\n",
    "def print_hello():\n",
    "    print('hello hello')"
   ]
  },
  {
   "cell_type": "code",
   "execution_count": 2,
   "metadata": {},
   "outputs": [],
   "source": [
    "import myscript\n",
    "# from myscript import print_hello"
   ]
  },
  {
   "cell_type": "code",
   "execution_count": 3,
   "metadata": {},
   "outputs": [],
   "source": [
    "import importlib"
   ]
  },
  {
   "cell_type": "code",
   "execution_count": 4,
   "metadata": {},
   "outputs": [
    {
     "name": "stdout",
     "output_type": "stream",
     "text": [
      "hello hello\n"
     ]
    }
   ],
   "source": [
    "importlib.reload(myscript)\n",
    "myscript.print_hello()"
   ]
  },
  {
   "cell_type": "code",
   "execution_count": 5,
   "metadata": {},
   "outputs": [
    {
     "name": "stderr",
     "output_type": "stream",
     "text": [
      "\"ls\" �� ���� ����७��� ��� ���譥�\n",
      "��������, �ᯮ��塞�� �ணࠬ��� ��� ������ 䠩���.\n"
     ]
    }
   ],
   "source": [
    "!ls my_script3.py"
   ]
  },
  {
   "cell_type": "code",
   "execution_count": 6,
   "metadata": {},
   "outputs": [
    {
     "ename": "NameError",
     "evalue": "name 'my_script3' is not defined",
     "output_type": "error",
     "traceback": [
      "\u001b[1;31m---------------------------------------------------------------------------\u001b[0m",
      "\u001b[1;31mNameError\u001b[0m                                 Traceback (most recent call last)",
      "\u001b[1;32md:\\Project\\Git\\Kurs_DS\\2_Lesson\\Notes\\5.modules.ipynb Cell 7\u001b[0m line \u001b[0;36m1\n\u001b[1;32m----> <a href='vscode-notebook-cell:/d%3A/Project/Git/Kurs_DS/2_Lesson/Notes/5.modules.ipynb#X10sZmlsZQ%3D%3D?line=0'>1</a>\u001b[0m my_script3\u001b[39m.\u001b[39mpy\n",
      "\u001b[1;31mNameError\u001b[0m: name 'my_script3' is not defined"
     ]
    }
   ],
   "source": [
    "my_script3.py"
   ]
  },
  {
   "cell_type": "markdown",
   "metadata": {},
   "source": [
    "## Модуль или пакет?\n",
    "  * модуль - это файл с набором функций\n",
    "  * пакет - это каталог с одним и более модулями"
   ]
  },
  {
   "cell_type": "code",
   "execution_count": 7,
   "metadata": {},
   "outputs": [
    {
     "ename": "ModuleNotFoundError",
     "evalue": "No module named 'my_script3'",
     "output_type": "error",
     "traceback": [
      "\u001b[1;31m---------------------------------------------------------------------------\u001b[0m",
      "\u001b[1;31mModuleNotFoundError\u001b[0m                       Traceback (most recent call last)",
      "\u001b[1;32md:\\Project\\Git\\Kurs_DS\\2_Lesson\\Notes\\5.modules.ipynb Cell 9\u001b[0m line \u001b[0;36m8\n\u001b[0;32m      <a href='vscode-notebook-cell:/d%3A/Project/Git/Kurs_DS/2_Lesson/Notes/5.modules.ipynb#X12sZmlsZQ%3D%3D?line=5'>6</a>\u001b[0m \u001b[39m# Отдельные объекты из пакета можно выгрузить с помощью from ... import ...\u001b[39;00m\n\u001b[0;32m      <a href='vscode-notebook-cell:/d%3A/Project/Git/Kurs_DS/2_Lesson/Notes/5.modules.ipynb#X12sZmlsZQ%3D%3D?line=6'>7</a>\u001b[0m \u001b[39mfrom\u001b[39;00m \u001b[39mdatetime\u001b[39;00m \u001b[39mimport\u001b[39;00m datetime \u001b[39mas\u001b[39;00m dt\n\u001b[1;32m----> <a href='vscode-notebook-cell:/d%3A/Project/Git/Kurs_DS/2_Lesson/Notes/5.modules.ipynb#X12sZmlsZQ%3D%3D?line=7'>8</a>\u001b[0m \u001b[39mfrom\u001b[39;00m \u001b[39mmy_script3\u001b[39;00m \u001b[39mimport\u001b[39;00m print_hello\n\u001b[0;32m      <a href='vscode-notebook-cell:/d%3A/Project/Git/Kurs_DS/2_Lesson/Notes/5.modules.ipynb#X12sZmlsZQ%3D%3D?line=8'>9</a>\u001b[0m print_hello()\n",
      "\u001b[1;31mModuleNotFoundError\u001b[0m: No module named 'my_script3'"
     ]
    }
   ],
   "source": [
    "# Пакеты и модули подгружаются командой import\n",
    "# Это можно сделать только 1 раз\n",
    "import pandas\n",
    "# Подгружаемый модуль можно назвать так чтобы было удобно кодить\n",
    "import pandas as pd\n",
    "# Отдельные объекты из пакета можно выгрузить с помощью from ... import ...\n",
    "from datetime import datetime as dt\n",
    "from my_script3 import print_hello\n",
    "print_hello()"
   ]
  },
  {
   "cell_type": "code",
   "execution_count": 8,
   "metadata": {},
   "outputs": [
    {
     "ename": "ModuleNotFoundError",
     "evalue": "No module named 'my_module'",
     "output_type": "error",
     "traceback": [
      "\u001b[1;31m---------------------------------------------------------------------------\u001b[0m",
      "\u001b[1;31mModuleNotFoundError\u001b[0m                       Traceback (most recent call last)",
      "\u001b[1;32md:\\Project\\Git\\Kurs_DS\\2_Lesson\\Notes\\5.modules.ipynb Cell 10\u001b[0m line \u001b[0;36m2\n\u001b[0;32m      <a href='vscode-notebook-cell:/d%3A/Project/Git/Kurs_DS/2_Lesson/Notes/5.modules.ipynb#X13sZmlsZQ%3D%3D?line=0'>1</a>\u001b[0m \u001b[39m# Из своего модуля можно также выгрузить нужный объект\u001b[39;00m\n\u001b[1;32m----> <a href='vscode-notebook-cell:/d%3A/Project/Git/Kurs_DS/2_Lesson/Notes/5.modules.ipynb#X13sZmlsZQ%3D%3D?line=1'>2</a>\u001b[0m \u001b[39mfrom\u001b[39;00m \u001b[39mmy_module\u001b[39;00m \u001b[39mimport\u001b[39;00m print_boo\n\u001b[0;32m      <a href='vscode-notebook-cell:/d%3A/Project/Git/Kurs_DS/2_Lesson/Notes/5.modules.ipynb#X13sZmlsZQ%3D%3D?line=2'>3</a>\u001b[0m \u001b[39m# Когда мы хотим выгрузить из модуля все, то используем *\u001b[39;00m\n\u001b[0;32m      <a href='vscode-notebook-cell:/d%3A/Project/Git/Kurs_DS/2_Lesson/Notes/5.modules.ipynb#X13sZmlsZQ%3D%3D?line=3'>4</a>\u001b[0m \u001b[39m# Важно! это противоречит дзену питона \u001b[39;00m\n\u001b[0;32m      <a href='vscode-notebook-cell:/d%3A/Project/Git/Kurs_DS/2_Lesson/Notes/5.modules.ipynb#X13sZmlsZQ%3D%3D?line=4'>5</a>\u001b[0m \u001b[39mfrom\u001b[39;00m \u001b[39mmy_module\u001b[39;00m \u001b[39mimport\u001b[39;00m \u001b[39m*\u001b[39m\n",
      "\u001b[1;31mModuleNotFoundError\u001b[0m: No module named 'my_module'"
     ]
    }
   ],
   "source": [
    "# Из своего модуля можно также выгрузить нужный объект\n",
    "from my_module import print_boo\n",
    "# Когда мы хотим выгрузить из модуля все, то используем *\n",
    "# Важно! это противоречит дзену питона \n",
    "from my_module import *\n",
    "# В пакете могут быть еще пакеты, например:\n",
    "from sklearn.metrics.pairwise import cosine_similarity"
   ]
  },
  {
   "cell_type": "markdown",
   "metadata": {},
   "source": [
    "## Поиск модулей\n",
    "  * домашняя директория\n",
    "  * директории, указанные в переменной окружения PYTHONPATH\n",
    "  * директории Standard library\n",
    "  * пути прописанные в .pth файлах\n",
    "  * пакеты сторонних разработчиков"
   ]
  },
  {
   "cell_type": "code",
   "execution_count": 12,
   "metadata": {},
   "outputs": [
    {
     "data": {
      "text/plain": [
       "['d:\\\\Project\\\\Git\\\\Kurs_DS\\\\2_Lesson\\\\Notes',\n",
       " 'c:\\\\Users\\\\Stas\\\\AppData\\\\Local\\\\Programs\\\\Python\\\\Python312\\\\python312.zip',\n",
       " 'c:\\\\Users\\\\Stas\\\\AppData\\\\Local\\\\Programs\\\\Python\\\\Python312\\\\DLLs',\n",
       " 'c:\\\\Users\\\\Stas\\\\AppData\\\\Local\\\\Programs\\\\Python\\\\Python312\\\\Lib',\n",
       " 'c:\\\\Users\\\\Stas\\\\AppData\\\\Local\\\\Programs\\\\Python\\\\Python312',\n",
       " '',\n",
       " 'C:\\\\Users\\\\Stas\\\\AppData\\\\Roaming\\\\Python\\\\Python312\\\\site-packages',\n",
       " 'C:\\\\Users\\\\Stas\\\\AppData\\\\Roaming\\\\Python\\\\Python312\\\\site-packages\\\\win32',\n",
       " 'C:\\\\Users\\\\Stas\\\\AppData\\\\Roaming\\\\Python\\\\Python312\\\\site-packages\\\\win32\\\\lib',\n",
       " 'C:\\\\Users\\\\Stas\\\\AppData\\\\Roaming\\\\Python\\\\Python312\\\\site-packages\\\\Pythonwin',\n",
       " 'c:\\\\Users\\\\Stas\\\\AppData\\\\Local\\\\Programs\\\\Python\\\\Python312\\\\Lib\\\\site-packages',\n",
       " '..',\n",
       " '../..',\n",
       " '..',\n",
       " '../..']"
      ]
     },
     "execution_count": 12,
     "metadata": {},
     "output_type": "execute_result"
    }
   ],
   "source": [
    "import sys\n",
    "sys.path"
   ]
  },
  {
   "cell_type": "code",
   "execution_count": 11,
   "metadata": {},
   "outputs": [],
   "source": [
    "sys.path.extend(['..','../..'])"
   ]
  },
  {
   "cell_type": "markdown",
   "metadata": {},
   "source": [
    "## Краткий обзор стандартной библиотеки\n",
    "https://docs.python.org/3/library/index.html"
   ]
  },
  {
   "cell_type": "code",
   "execution_count": null,
   "metadata": {},
   "outputs": [],
   "source": [
    "# pip install .  \n",
    "# из директории в которой находится setup.py"
   ]
  },
  {
   "cell_type": "markdown",
   "metadata": {},
   "source": [
    "Что такое pip?\n",
    "python install package\n",
    "Большинство пакетов устанавливается с помощью команды pip install из консоли\n",
    "pip install названиебиблиотеки\n",
    "\n",
    "Чтобы установить свой пакет нужно в папке с модулями создать пустой файл init.py\n",
    "в директории, где находится каталог пакета создать файл setup.py\n",
    "установить свой пакет можно с помощью команды pip install .\n",
    "пример setup.py\n",
    "from setuptools import setup\n",
    "\n",
    "\n",
    "setup(name='yourpkgname',\n",
    "version='0.0.1',\n",
    "description='This package make people more happy',\n",
    "author_email = 'donald_trump@mail.ru',\n",
    "packages=['black'],\n",
    "install_requires = ['pandas'])\n",
    "name - это название модуля\n",
    "version - версия\n",
    "description - описание\n",
    "author_email - почта автора\n",
    "packages - каталоги входящие в пакет\n",
    "install_requires - другие пакеты, которые нужны для работы этого пакета\n",
    "Или еще более минималистичный вариант\n",
    "\n",
    "from setuptools import setup, find_packages\n",
    "setup(name='foo',\n",
    "version='1.0',\n",
    "packages=find_packages(),\n",
    ")\n",
    "Как установить библиотеки для Python в Сбере?\n",
    "Pip Magic words Sigma\n",
    "pip install --trusted-host pypi.org --trusted-host files.pythonhosted.org имябиблиотеки\n",
    "Pip Magic Alpha\n",
    "Создать папку pip в скрытом каталоге\n",
    "C:\\пользователи\\User\\AppData\\Roaming\n",
    "\n",
    "В папке создать файл pip.ini в котором прописать\n",
    "[global]\n",
    "default-timeout = 60\n",
    "trusted-host = mirror.ca.sbrf.ru\n",
    "index-url = http://mirror.ca.sbrf.ru/pypi/simple\n",
    "download-cache = /tmp"
   ]
  },
  {
   "cell_type": "code",
   "execution_count": null,
   "metadata": {},
   "outputs": [],
   "source": [
    "# Написать скрипт, который принимает в качестве аргументов длину и ширину\n",
    "# Рассчитвает площадь и выдает значение площади"
   ]
  },
  {
   "cell_type": "code",
   "execution_count": null,
   "metadata": {},
   "outputs": [],
   "source": [
    "def area_calc(a,b):\n",
    "    area = a * b\n",
    "    return area"
   ]
  }
 ],
 "metadata": {
  "kernelspec": {
   "display_name": "Python 3",
   "language": "python",
   "name": "python3"
  },
  "language_info": {
   "codemirror_mode": {
    "name": "ipython",
    "version": 3
   },
   "file_extension": ".py",
   "mimetype": "text/x-python",
   "name": "python",
   "nbconvert_exporter": "python",
   "pygments_lexer": "ipython3",
   "version": "3.12.0"
  }
 },
 "nbformat": 4,
 "nbformat_minor": 2
}
