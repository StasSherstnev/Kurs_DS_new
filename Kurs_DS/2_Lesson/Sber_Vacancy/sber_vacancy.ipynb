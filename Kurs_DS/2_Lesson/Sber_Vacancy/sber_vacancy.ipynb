{
 "cells": [
  {
   "cell_type": "code",
   "execution_count": 1,
   "metadata": {},
   "outputs": [],
   "source": [
    "import requests\n",
    "from tqdm import tqdm"
   ]
  },
  {
   "cell_type": "code",
   "execution_count": 3,
   "metadata": {},
   "outputs": [],
   "source": [
    "# Идентификатор компании\n",
    "sber = '3529'\n",
    "# Номер страницы\n",
    "page = 1\n",
    "# Количество вакансий на страницу\n",
    "num_per_page = 100\n",
    "# Идентификатор области\n",
    "moscow = 1\n",
    "url = f'https://api.hh.ru/vacancies?employer_id={sber}&page={page}&per_page={num_per_page}&area={moscow}'"
   ]
  },
  {
   "cell_type": "code",
   "execution_count": 4,
   "metadata": {},
   "outputs": [
    {
     "data": {
      "text/plain": [
       "16"
      ]
     },
     "execution_count": 4,
     "metadata": {},
     "output_type": "execute_result"
    }
   ],
   "source": [
    "# Отправляем GET запрос в api.hh.ru\n",
    "res = requests.get(url)\n",
    "# Преобразовываем ответ api из JSON в словарь dict()\n",
    "vacancies = res.json()\n",
    "# Получаем количество страниц по результатам запроса\n",
    "num_pages = vacancies.get('pages')\n",
    "num_pages"
   ]
  },
  {
   "cell_type": "code",
   "execution_count": 5,
   "metadata": {},
   "outputs": [
    {
     "data": {
      "text/plain": [
       "dict_keys(['items', 'found', 'pages', 'page', 'per_page', 'clusters', 'arguments', 'fixes', 'suggests', 'alternate_url'])"
      ]
     },
     "execution_count": 5,
     "metadata": {},
     "output_type": "execute_result"
    }
   ],
   "source": [
    "# Вывод ключей словаря\n",
    "vacancies.keys()"
   ]
  },
  {
   "cell_type": "code",
   "execution_count": 6,
   "metadata": {},
   "outputs": [
    {
     "data": {
      "text/plain": [
       "{'id': '90572059',\n",
       " 'premium': False,\n",
       " 'name': 'Design engineer, Middle/Senior',\n",
       " 'department': {'id': '3529-3529-prof', 'name': 'Сбер для экспертов'},\n",
       " 'has_test': False,\n",
       " 'response_letter_required': False,\n",
       " 'area': {'id': '1', 'name': 'Москва', 'url': 'https://api.hh.ru/areas/1'},\n",
       " 'salary': None,\n",
       " 'type': {'id': 'open', 'name': 'Открытая'},\n",
       " 'address': None,\n",
       " 'response_url': None,\n",
       " 'sort_point_distance': None,\n",
       " 'published_at': '2023-12-11T17:31:59+0300',\n",
       " 'created_at': '2023-12-11T17:31:59+0300',\n",
       " 'archived': False,\n",
       " 'apply_alternate_url': 'https://hh.ru/applicant/vacancy_response?vacancyId=90572059',\n",
       " 'branding': {'type': 'MAKEUP', 'tariff': None},\n",
       " 'show_logo_in_search': True,\n",
       " 'insider_interview': None,\n",
       " 'url': 'https://api.hh.ru/vacancies/90572059?host=hh.ru',\n",
       " 'alternate_url': 'https://hh.ru/vacancy/90572059',\n",
       " 'relations': [],\n",
       " 'employer': {'id': '3529',\n",
       "  'name': 'СБЕР',\n",
       "  'url': 'https://api.hh.ru/employers/3529',\n",
       "  'alternate_url': 'https://hh.ru/employer/3529',\n",
       "  'logo_urls': {'240': 'https://hhcdn.ru/employer-logo/5756157.png',\n",
       "   '90': 'https://hhcdn.ru/employer-logo/5756156.png',\n",
       "   'original': 'https://hhcdn.ru/employer-logo-original/1033849.png'},\n",
       "  'vacancies_url': 'https://api.hh.ru/vacancies?employer_id=3529',\n",
       "  'accredited_it_employer': False,\n",
       "  'trusted': True},\n",
       " 'snippet': {'requirement': 'Степень специалиста, бакалавра, магистра или ученая степень по технической специальности: робототехника, мехатроника, электроприводы, машиностроение или приборостроение. 6+ лет соответствующего...',\n",
       "  'responsibility': 'Конструирование сложных электронных устройств, проработка различных компоновок узлов и составных частей оборудования, проводки, жгутов, элементов крепления, защиты и т.д. '},\n",
       " 'contacts': None,\n",
       " 'schedule': {'id': 'fullDay', 'name': 'Полный день'},\n",
       " 'working_days': [],\n",
       " 'working_time_intervals': [],\n",
       " 'working_time_modes': [],\n",
       " 'accept_temporary': False,\n",
       " 'professional_roles': [{'id': '96', 'name': 'Программист, разработчик'}],\n",
       " 'accept_incomplete_resumes': False,\n",
       " 'experience': {'id': 'between3And6', 'name': 'От 3 до 6 лет'},\n",
       " 'employment': {'id': 'full', 'name': 'Полная занятость'},\n",
       " 'adv_response_url': None,\n",
       " 'is_adv_vacancy': False,\n",
       " 'adv_context': None}"
      ]
     },
     "execution_count": 6,
     "metadata": {},
     "output_type": "execute_result"
    }
   ],
   "source": [
    "vacancies['items'][0]"
   ]
  },
  {
   "cell_type": "code",
   "execution_count": 9,
   "metadata": {},
   "outputs": [],
   "source": [
    "# Получаем список идентификаторов вакансий из короткого описания вакансий\n",
    "# с одной страницы\n",
    "vacancy_ids = [el.get('id') for el in vacancies.get('items')]"
   ]
  },
  {
   "cell_type": "code",
   "execution_count": 12,
   "metadata": {},
   "outputs": [
    {
     "data": {
      "text/plain": [
       "['90572059',\n",
       " '89998393',\n",
       " '90595864',\n",
       " '88460806',\n",
       " '89969762',\n",
       " '86265273',\n",
       " '89792570',\n",
       " '90098038',\n",
       " '90567859',\n",
       " '89719754',\n",
       " '90377363',\n",
       " '90546166',\n",
       " '90151219',\n",
       " '89402584',\n",
       " '89795935',\n",
       " '90494853',\n",
       " '90541872',\n",
       " '89598862',\n",
       " '90442552',\n",
       " '86612764',\n",
       " '89562068',\n",
       " '89854356',\n",
       " '89994743',\n",
       " '89718907',\n",
       " '90585118',\n",
       " '89678931',\n",
       " '89685207',\n",
       " '89993488',\n",
       " '90596595',\n",
       " '90333704',\n",
       " '89968590',\n",
       " '90334559',\n",
       " '90257964',\n",
       " '90356649',\n",
       " '90439875',\n",
       " '90484494',\n",
       " '90400666',\n",
       " '90317440',\n",
       " '90631938',\n",
       " '90212982',\n",
       " '84267639',\n",
       " '90356903',\n",
       " '86201029',\n",
       " '86615118',\n",
       " '89647393',\n",
       " '90135085',\n",
       " '90117179',\n",
       " '90372261',\n",
       " '89559571',\n",
       " '90105649',\n",
       " '90385548',\n",
       " '89084783',\n",
       " '90576796',\n",
       " '89531254',\n",
       " '90106569',\n",
       " '90595381',\n",
       " '90002727',\n",
       " '90207302',\n",
       " '90557168',\n",
       " '89733094',\n",
       " '90106263',\n",
       " '90489486',\n",
       " '90443355',\n",
       " '90028606',\n",
       " '89166565',\n",
       " '89996822',\n",
       " '90536792',\n",
       " '90390725',\n",
       " '89394656',\n",
       " '89596802',\n",
       " '89845204',\n",
       " '89721101',\n",
       " '89887249',\n",
       " '90502881',\n",
       " '89952762',\n",
       " '90002409',\n",
       " '90387320',\n",
       " '83315577',\n",
       " '85320469',\n",
       " '89872389',\n",
       " '90561577',\n",
       " '90444744',\n",
       " '89689014',\n",
       " '89957385',\n",
       " '89727600',\n",
       " '87479740',\n",
       " '89751390',\n",
       " '90380741',\n",
       " '90501148',\n",
       " '88026130',\n",
       " '89790468',\n",
       " '89965426',\n",
       " '89418147',\n",
       " '90192087',\n",
       " '89414612',\n",
       " '90402698',\n",
       " '90209848',\n",
       " '90037380',\n",
       " '90586228',\n",
       " '90615243']"
      ]
     },
     "execution_count": 12,
     "metadata": {},
     "output_type": "execute_result"
    }
   ],
   "source": [
    "vacancy_ids"
   ]
  },
  {
   "cell_type": "code",
   "execution_count": 13,
   "metadata": {},
   "outputs": [
    {
     "name": "stderr",
     "output_type": "stream",
     "text": [
      "100%|██████████| 16/16 [00:16<00:00,  1.00s/it]\n"
     ]
    }
   ],
   "source": [
    "# Запускаем цикл для сбора всех идентификаторов вакансий со всех страниц\n",
    "all_vacancy_ids= []\n",
    "for i in tqdm(range(num_pages)):\n",
    "    url = f'https://api.hh.ru/vacancies?employer_id={sber}&page={i}&per_page={num_per_page}&area={moscow}'\n",
    "    res = requests.get(url)\n",
    "    vacancies = res.json()\n",
    "    vacancy_ids = [el.get('id') for el in vacancies.get('items')]\n",
    "    # заполняем список элементами vacancy_ids с помощью метода extend\n",
    "    all_vacancy_ids.extend(vacancy_ids)"
   ]
  },
  {
   "cell_type": "code",
   "execution_count": 14,
   "metadata": {},
   "outputs": [
    {
     "data": {
      "text/plain": [
       "1562"
      ]
     },
     "execution_count": 14,
     "metadata": {},
     "output_type": "execute_result"
    }
   ],
   "source": [
    "# Проверка количества идентификаторов вакансий\n",
    "len(all_vacancy_ids)"
   ]
  },
  {
   "cell_type": "code",
   "execution_count": 15,
   "metadata": {},
   "outputs": [],
   "source": [
    "# Получение полной информации о вакансии по идентификатору\n",
    "# Отправляем запрос с идентификатором вакансии\n",
    "vac_id = 90572059\n",
    "url = f'https://api.hh.ru/vacancies/{vac_id}'\n",
    "res = requests.get(url)\n",
    "vacancy = res.json()"
   ]
  },
  {
   "cell_type": "code",
   "execution_count": 16,
   "metadata": {},
   "outputs": [
    {
     "data": {
      "text/plain": [
       "{'id': '90572059',\n",
       " 'premium': False,\n",
       " 'billing_type': {'id': 'standard', 'name': 'Стандарт'},\n",
       " 'relations': [],\n",
       " 'name': 'Design engineer, Middle/Senior',\n",
       " 'insider_interview': None,\n",
       " 'response_letter_required': False,\n",
       " 'area': {'id': '1', 'name': 'Москва', 'url': 'https://api.hh.ru/areas/1'},\n",
       " 'salary': None,\n",
       " 'type': {'id': 'open', 'name': 'Открытая'},\n",
       " 'address': None,\n",
       " 'allow_messages': False,\n",
       " 'experience': {'id': 'between3And6', 'name': 'От 3 до 6 лет'},\n",
       " 'schedule': {'id': 'fullDay', 'name': 'Полный день'},\n",
       " 'employment': {'id': 'full', 'name': 'Полная занятость'},\n",
       " 'department': {'id': '3529-3529-prof', 'name': 'Сбер для экспертов'},\n",
       " 'contacts': None,\n",
       " 'description': '<p>В Центре Робототехники Сбера мы занимаемся созданием универсального воплощенного ИИ, который способен управлять разнообразными физическими воплощениями, в частности манипуляторами, мобильными колесными роботами и робот-собаками. Кроме этого, одним из ключевых направлений нашей работы является разработка антропоморфного робота общего назначения.</p> <p><strong>Обязанности</strong></p> <ul> <li>Конструирование сложных электронных устройств, проработка различных компоновок узлов и составных частей оборудования, проводки, жгутов, элементов крепления, защиты и т.д.</li> <li>Расчет сборок электронных устройств на собираемость (размерные цепи)</li> <li>Расчет на жесткость и прочность корпусных деталей устройств</li> <li>Конструирование изделий из различных материалов – пластик, цветные металлы, композиты, стали и т.д.</li> <li>Конструирование изделий с применением поверхностного моделирования</li> <li>Проработка рабочей конструкторской документации по ЕСКД: чертежи, спецификации, схемы деления, проработка технологических процессов</li> <li>Разработка технических заданий на изделия, экономического обоснования стоимости, авторский контроль изготовления деталей</li> </ul> <p><strong>Требования</strong></p> <ul> <li>Степень специалиста, бакалавра, магистра или ученая степень по технической специальности: робототехника, мехатроника, электроприводы, машиностроение или приборостроение</li> <li>6+ лет соответствующего индустриального опыта работы</li> <li>Хорошие знания рынка покупных применяемых изделий (кнопки, переключатели, датчики, дисплеи и т.д.)</li> <li>Опыт расчетов на тепло, вибропрочность приборов</li> <li>Знание стандартов конструкторской документации: ЕСКД, ОСТов, ГОСТов, ISO</li> <li>Навыки работы в САПР NX, SolidWorks или аналогах</li> <li>Понимание, что такое DFM, DFA</li> <li>Желательно умение читать и делать схемы Э3, Э4, Э5</li> <li>Желателен опыт конструирования бытовой электроники</li> <li>Желателен опыт конструирования батарейных ячеек и сборок</li> <li>Высокая степень инициативности, способность работать самостоятельно и в команде</li> <li>Отличные навыки письменного и устного общения</li> <li>Умение работать без четкого Т.З. и самостоятельно находить информацию и определять требования</li> <li>Способность эффективно передавать техническую информацию как устно, так и письменно другим членам команды</li> <li>Опыт научной работы приветствуется</li> <li>Знание английского языка B1+</li> </ul> <p><strong>Условия</strong></p> <p>В Центре Робототехники Сбера собрана уникальная команда экспертов, которые обладают глубокими знаниями как в мобильной, так и в манипуляционной робототехнике. В нашей команде собраны лучшие робототехники страны, мы регулярно побеждаем на мировых соревнованиях и публикуем свои научные работы на топовых робототехнических конференциях - IROS и ICRA. Мы обладаем экспертизой, охватывающей различные аспекты робототехники:</p> <ul> <li>Computer Vision</li> <li>Reinforcement Learning</li> <li>Trajectory Prediction</li> <li>SLAM</li> <li>Motion &amp; Trajectory Planning</li> <li>Control</li> </ul> <p>Мы предлагаем:</p> <ul> <li>Дружный и высококвалифицированный коллектив</li> <li>Уникальные масштабные проекты, работа в приоритетном направлении</li> <li>Достойная заработная плата (оклад + годовая премия)</li> <li>Современные рабочие места и программное обеспечение</li> <li>ДМС, корпоративная пенсионная программа, страхование от несчастных случаев, социальные гарантии, корпоративные мероприятия</li> <li>Высокий уровень корпоративной культуры</li> <li>Работа в офисе (г. Москва, метро Кутузовская), возможность гибридного графика</li> </ul>',\n",
       " 'branded_description': '\\n<style>\\n.tmpl_hh_wrapper * {\\n  margin: 0;\\n  padding: 0;\\n  border: 0;\\n  -webkit-box-sizing: border-box;\\n          box-sizing: border-box;\\n}\\n\\n.hht-vacancydescription {\\n  padding: 0px;\\n}\\n\\n.tmpl_hh_wrapper .l-cell,\\n.tmpl_hh_wrapper .l-paddings {\\n  padding: 0px !important;\\n}\\n\\n.tmpl_hh_wrapper .b-vacancy-desc-wrapper {\\n  margin-top: 0px !important;\\n}\\n\\n.tmpl_hh_wrapper .b-vacancy-desc {\\n  overflow: visible !important;\\n  line-height: inherit;\\n}\\n\\n.tmpl_hh_content ol li p,\\n.tmpl_hh_content ul li p {\\n  font-weight: normal;\\n  margin: 0;\\n}\\n\\n.tmpl_hh_wrapper {\\n  width: 100%;\\n  position: relative;\\n  word-break: normal;\\n  overflow: hidden;\\n  font-family: \"Arial\", sans-serif;\\n  color: #FFFFFF;\\n  background-color: #080808;\\n}\\n\\nimg {\\n  vertical-align: middle;\\n}\\n\\nul {\\n  list-style-type: none !important;\\n  margin-left: 0 !important;\\n}\\n\\n.tmpl_hh_content p:first-child,\\n.tmpl_hh_content > strong:first-child,\\n.tmpl_hh_content div > strong:first-child {\\n  margin-top: 0 !important;\\n}\\n\\n.tmpl_hh_content {\\n  position: relative;\\n  padding: 2.8125rem 1.875rem 2.8125rem;\\n  font-size: 0.875rem;\\n  line-height: 1.4285714286;\\ncolor:rgba(255,255,255,0.9);\\n}\\n\\n.tmpl_hh_content p > strong {\\n    font-weight:400;\\n    color: rgba(255,255,255,0.95);\\n  font-size: 1.375rem;\\n}\\n\\n.tmpl_hh_content p:not(:last-child) {\\n  margin-bottom: 1rem;\\n}\\n\\n.tmpl_hh_content ul:not(:last-child),\\n.tmpl_hh_content ol:not(:last-child) {\\n  margin-bottom: 2.8125rem;\\n}\\n\\n.tmpl_hh_content ul li,\\n.tmpl_hh_content ol li {\\n  position: relative;\\n  padding-left: 2.1875rem;\\n}\\n\\n.tmpl_hh_content ul li::before,\\n.tmpl_hh_content ol li::before {\\n  content: \"\";\\n  display: inline-block;\\n  background: url(https://hhcdn.ru/ichameleon/253841.svg) 0 0 no-repeat;\\n  width: 0.9375rem;\\n  height: 1.25rem;\\n  position: absolute;\\n  top: 0;\\n  left: 0.625rem;\\n}\\n\\n.tmpl_hh_content ul li:not(:last-child),\\n.tmpl_hh_content ol li:not(:last-child) {\\n  margin-bottom: 0.5rem;\\n}\\n\\n.tmpl_hh_content p,\\n.tmpl_hh_content ul,\\n.tmpl_hh_content ol {\\n  max-width: 31.25rem;\\n}\\n\\n.tmpl_hh_hero img {\\n  width: 100%;\\n  height: auto;\\n  -o-object-fit: cover;\\n     object-fit: cover;\\n}\\n\\n.tmpl_hh_stats:not(:last-child) {\\n  margin-bottom: 2.8125rem;\\n}\\n\\n.tmpl_hh_stats img {\\n  width: 100%;\\n  height: auto;\\n  -o-object-fit: cover;\\n     object-fit: cover;\\n}\\n\\n.tmpl_hh_decor {\\n  position: absolute;\\n}\\n\\n.tmpl_hh_decor1 {\\n  right: 0;\\n  top: 10%;\\n}\\n\\n.tmpl_hh_decor2 {\\n  top: 50%;\\n  right: 0;\\n}\\n\\n.tmpl_hh_decor3 {\\n  bottom: 0;\\n  right: 0;\\n}\\n\\n.tmpl_hh_decor4 {\\n  top: 50%;\\n  left: -3%;\\n}\\n\\n.tmpl_hh_decor5 {\\n  bottom: 0;\\n  left: 0;\\n}\\n\\n.tmpl_hh_footer {\\n  padding: 0 1.875rem 0.9375rem;\\n  position: relative;\\nz-index:2;\\n}\\n\\n.tmpl_hh_footer__title {\\n  background: -o-linear-gradient(206.81deg, #00D900 24.18%, #42E3B4 43%, #0FA8E0 79.62%, #333F48 99.08%);\\n  background: linear-gradient(243.19deg, #00D900 24.18%, #42E3B4 43%, #0FA8E0 79.62%, #333F48 99.08%);\\n  -webkit-background-clip: text;\\n  -webkit-text-fill-color: transparent;\\n  background-clip: text;\\n  text-fill-color: transparent;\\n  font-size: 1.875rem;\\n  display: inline-block;\\n    text-transform: uppercase;\\n}\\n\\n.tmpl_hh_footer__title:not(:last-child) {\\n  margin-bottom: 1.875rem;\\n}\\n\\n.tmpl_hh_footer__body {\\n  position: relative;\\n}\\n\\n.tmpl_hh_footer__item {\\n  padding: 0.5rem;\\n  width: 10.3125rem;\\n  height: 5rem;\\n  position: absolute;\\n  border: 1px solid;\\n  border-image-slice: 1;\\n  border-image-source: linear-gradient(232.3deg, #28DF6E -5.32%, rgba(30, 191, 159, 0) 14.35%, rgba(19, 158, 210, 0) 34.64%, rgba(19, 158, 210, 0.44) 73.94%);\\n  background: -o-linear-gradient(61.46deg, rgba(19, 17, 59, 0.33) 6.48%, rgba(22, 138, 61, 0.08) 74.44%, rgba(19, 17, 59, 0) 137.92%);\\n  background: linear-gradient(28.54deg, rgba(19, 17, 59, 0.33) 6.48%, rgba(22, 138, 61, 0.08) 74.44%, rgba(19, 17, 59, 0) 137.92%);\\n  -webkit-backdrop-filter: blur(2.71375px);\\n          backdrop-filter: blur(2.71375px);\\n  -webkit-transition: -webkit-transform 0.3s ease;\\n  transition: -webkit-transform 0.3s ease;\\n  -o-transition: transform 0.3s ease;\\n  transition: transform 0.3s ease;\\n  transition: transform 0.3s ease, -webkit-transform 0.3s ease;\\n}\\n\\n.tmpl_hh_footer__item:first-child {\\n  left: 0;\\n}\\n\\n.tmpl_hh_footer__item:nth-child(2) {\\n  left: 22.8%;\\n  -webkit-transform: translateY(56.25%);\\n      -ms-transform: translateY(56.25%);\\n          transform: translateY(56.25%);\\n  z-index: 2;\\n}\\n\\n.tmpl_hh_footer__item:nth-child(3) {\\n  left: 43.5%;\\n}\\n\\n.tmpl_hh_footer__item:last-child {\\n  left: 64.5%;\\n  -webkit-transform: translateY(56.25%);\\n      -ms-transform: translateY(56.25%);\\n          transform: translateY(56.25%);\\n}\\n\\n.tmpl_hh_footer__label:not(:last-child) {\\n  margin-bottom: 0.625rem;\\n}\\n\\n.tmpl_hh_footer__text {\\n  font-size: 0.75rem;\\n  line-height: 1.1666666667;\\n}\\n\\n.tmpl_hh_footer__company {\\n  text-align: center;\\n  margin-top: 13.125rem;\\n  font-size: 0.75rem;\\n  line-height: 1.3333333333;\\n  color: rgba(255, 255, 255, 0.75);\\n}\\n\\n@media (max-width: 63.6875em) {\\n.tmpl_hh_content p,\\n.tmpl_hh_content ul,\\n.tmpl_hh_content ol {\\n  max-width: 26.25rem;\\n}\\n  .tmpl_hh_footer__company {\\n    margin-top: 2.1875rem;\\n  }\\n  .tmpl_hh_footer__body {\\n    display: -ms-grid;\\n    display: grid;\\n    -ms-grid-columns: (1fr)[2];\\n    grid-template-columns: repeat(2, 1fr);\\n    gap: 0.625rem;\\n  }\\n\\n  .tmpl_hh_footer__item {\\n    position: relative;\\n    left: 0 !important;\\n    right: 0 !important;\\n    -webkit-transform: translate(0) !important;\\n        -ms-transform: translate(0) !important;\\n            transform: translate(0) !important;\\n    width: auto;\\n    height: 5.625rem;\\n  }\\n}\\n\\n@media (min-width: 43.75em) and (any-hover: hover) {\\n  .tmpl_hh_footer__item:hover {\\n    z-index: 3;\\n    -webkit-transform: scale(1.05);\\n        -ms-transform: scale(1.05);\\n            transform: scale(1.05);\\n  }\\n}\\n\\n@media (min-width: 43.75em) {\\n  .tmpl_hh_footer__text-span1 {\\n    white-space: nowrap;\\n    display: inline-block;\\n  }\\n}\\n\\n@media (max-width: 43.6875em) {\\n.tmpl_hh_wrapper {\\n  width: 100%;\\n background: url(https://hhcdn.ru/ichameleon/254346.jpg) no-repeat 100% 100% / cover;\\n}\\n  .tmpl_hh_content p > strong {\\n    font-size: 1.25rem;\\n  }\\n\\n  .tmpl_hh_content ul:not(:last-child),\\n  .tmpl_hh_content ol:not(:last-child) {\\n    margin-bottom: 2.1875rem;\\n  }\\n\\n  .tmpl_hh_content {\\n    padding: 0 0.625rem 2.5rem;\\n    font-size: 0.875rem;\\n  }\\n\\n  .tmpl_hh_content p,\\n  .tmpl_hh_content ul,\\n  .tmpl_hh_content ol {\\n    max-width: none;\\n  }\\n\\n  .tmpl_hh_stats {\\n    padding: 0 0.9375rem;\\n    text-align: center;\\n  }\\n\\n  .tmpl_hh_stats:not(:last-child) {\\n    margin-bottom: 2.1875rem;\\n  }\\n\\n  .tmpl_hh_decor {\\n    display: none;\\n  }\\n\\n  .tmpl_hh_footer__title {\\n    font-size: 1.25rem;\\n  }\\n\\n  .tmpl_hh_footer__title:not(:last-child) {\\n    margin-bottom: 1.875rem;\\n  }\\n\\n  .tmpl_hh_footer__text-span2 {\\n    white-space: nowrap;\\n    display: inline-block;\\n  }\\n\\n  .tmpl_hh_footer {\\n    padding: 0 0.9375rem 0.9375rem;\\n  }\\n}\\n\\n@media (any-hover: hover) {\\n  .tmpl_hh_footer__item:nth-child(2):hover {\\n    -webkit-transform: translateY(56.25%) scale(1.05);\\n        -ms-transform: translateY(56.25%) scale(1.05);\\n            transform: translateY(56.25%) scale(1.05);\\n  }\\n\\n  .tmpl_hh_footer__item:nth-child(4):hover {\\n    -webkit-transform: translateY(56.25%) scale(1.05);\\n        -ms-transform: translateY(56.25%) scale(1.05);\\n            transform: translateY(56.25%) scale(1.05);\\n  }\\n\\n  .tmpl_hh_footer__item:last-child:hover {\\n    -webkit-transform: translateY(56.25%) scale(1.05);\\n        -ms-transform: translateY(56.25%) scale(1.05);\\n            transform: translateY(56.25%) scale(1.05);\\n  }\\n}\\n</style>\\n \\t\\t<div class=\"tmpl_hh_wrapper\">\\n  \\t\\t\\t<div class=\"tmpl_hh_hero\">\\n  \\t\\t\\t\\t<picture>\\n  \\t\\t\\t\\t\\t<source srcset=\"https://hhcdn.ru/ichameleon/254154.svg\" media=\"(max-width: 500px)\"></source>\\n  \\t\\t\\t\\t\\t<img src=\"https://hhcdn.ru/ichameleon/254153.svg\" alt=\"\">\\n  \\t\\t\\t\\t</picture>\\n  \\t\\t\\t</div>\\n  \\t\\t\\t<div class=\"tmpl_hh_content\">\\n  \\t\\t\\t\\t<p>В Центре Робототехники Сбера мы занимаемся созданием универсального воплощенного ИИ, который способен управлять разнообразными физическими воплощениями, в частности манипуляторами, мобильными колесными роботами и робот-собаками. Кроме этого, одним из ключевых направлений нашей работы является разработка антропоморфного робота общего назначения.</p> <p><strong>Обязанности</strong></p> <ul> <li>Конструирование сложных электронных устройств, проработка различных компоновок узлов и составных частей оборудования, проводки, жгутов, элементов крепления, защиты и т.д.</li> <li>Расчет сборок электронных устройств на собираемость (размерные цепи)</li> <li>Расчет на жесткость и прочность корпусных деталей устройств</li> <li>Конструирование изделий из различных материалов – пластик, цветные металлы, композиты, стали и т.д.</li> <li>Конструирование изделий с применением поверхностного моделирования</li> <li>Проработка рабочей конструкторской документации по ЕСКД: чертежи, спецификации, схемы деления, проработка технологических процессов</li> <li>Разработка технических заданий на изделия, экономического обоснования стоимости, авторский контроль изготовления деталей</li> </ul> <p><strong>Требования</strong></p> <ul> <li>Степень специалиста, бакалавра, магистра или ученая степень по технической специальности: робототехника, мехатроника, электроприводы, машиностроение или приборостроение</li> <li>6+ лет соответствующего индустриального опыта работы</li> <li>Хорошие знания рынка покупных применяемых изделий (кнопки, переключатели, датчики, дисплеи и т.д.)</li> <li>Опыт расчетов на тепло, вибропрочность приборов</li> <li>Знание стандартов конструкторской документации: ЕСКД, ОСТов, ГОСТов, ISO</li> <li>Навыки работы в САПР NX, SolidWorks или аналогах</li> <li>Понимание, что такое DFM, DFA</li> <li>Желательно умение читать и делать схемы Э3, Э4, Э5</li> <li>Желателен опыт конструирования бытовой электроники</li> <li>Желателен опыт конструирования батарейных ячеек и сборок</li> <li>Высокая степень инициативности, способность работать самостоятельно и в команде</li> <li>Отличные навыки письменного и устного общения</li> <li>Умение работать без четкого Т.З. и самостоятельно находить информацию и определять требования</li> <li>Способность эффективно передавать техническую информацию как устно, так и письменно другим членам команды</li> <li>Опыт научной работы приветствуется</li> <li>Знание английского языка B1+</li> </ul> <p><strong>Условия</strong></p> <p>В Центре Робототехники Сбера собрана уникальная команда экспертов, которые обладают глубокими знаниями как в мобильной, так и в манипуляционной робототехнике. В нашей команде собраны лучшие робототехники страны, мы регулярно побеждаем на мировых соревнованиях и публикуем свои научные работы на топовых робототехнических конференциях - IROS и ICRA. Мы обладаем экспертизой, охватывающей различные аспекты робототехники:</p> <ul> <li>Computer Vision</li> <li>Reinforcement Learning</li> <li>Trajectory Prediction</li> <li>SLAM</li> <li>Motion &amp; Trajectory Planning</li> <li>Control</li> </ul> <p>Мы предлагаем:</p> <ul> <li>Дружный и высококвалифицированный коллектив</li> <li>Уникальные масштабные проекты, работа в приоритетном направлении</li> <li>Достойная заработная плата (оклад + годовая премия)</li> <li>Современные рабочие места и программное обеспечение</li> <li>ДМС, корпоративная пенсионная программа, страхование от несчастных случаев, социальные гарантии, корпоративные мероприятия</li> <li>Высокий уровень корпоративной культуры</li> <li>Работа в офисе (г. Москва, метро Кутузовская), возможность гибридного графика</li> </ul><div class=\"tmpl_hh_decor tmpl_hh_decor1\">\\n  \\t\\t\\t\\t\\t<img src=\"https://hhcdn.ru/ichameleon/254364.png\" alt=\"\">\\n  \\t\\t\\t\\t</div>\\n  \\t\\t\\t\\t<div class=\"tmpl_hh_decor tmpl_hh_decor2\">\\n  \\t\\t\\t\\t\\t<img src=\"https://hhcdn.ru/ichameleon/254365.png\" alt=\"\">\\n  \\t\\t\\t\\t</div>\\n\\t<div class=\"tmpl_hh_decor tmpl_hh_decor4\">\\n  \\t\\t\\t\\t\\t<img src=\"https://hhcdn.ru/ichameleon/254348.svg\" alt=\"\">\\n  \\t\\t\\t\\t</div>\\n  \\t\\t\\t</div>\\n  \\t\\t\\t<div class=\"tmpl_hh_footer\">\\n  \\t\\t\\t\\t<div class=\"tmpl_hh_footer__title\">\\n  \\t\\t\\t\\t\\tСбер для IT\\n  \\t\\t\\t\\t</div>\\n  \\t\\t\\t\\t<div class=\"tmpl_hh_footer__body\">\\n  \\t\\t\\t\\t\\t<div class=\"tmpl_hh_footer__item\">\\n  \\t\\t\\t\\t\\t\\t<div class=\"tmpl_hh_footer__label\">\\n  \\t\\t\\t\\t\\t\\t\\t<img src=\"https://hhcdn.ru/ichameleon/254076.svg\" alt=\"\">\\n  \\t\\t\\t\\t\\t\\t</div>\\n  \\t\\t\\t\\t\\t\\t<p class=\"tmpl_hh_footer__text\">\\n  \\t\\t\\t\\t\\t\\t\\tпрофессиональных<br>IT-сообществ\\n  \\t\\t\\t\\t\\t\\t</p>\\n  \\t\\t\\t\\t\\t</div>\\n  \\t\\t\\t\\t\\t<div class=\"tmpl_hh_footer__item\">\\n  \\t\\t\\t\\t\\t\\t<div class=\"tmpl_hh_footer__label\">\\n  \\t\\t\\t\\t\\t\\t\\t<img src=\"https://hhcdn.ru/ichameleon/254150.svg\" alt=\"\">\\n  \\t\\t\\t\\t\\t\\t</div>\\n  \\t\\t\\t\\t\\t\\t<p class=\"tmpl_hh_footer__text\">\\n  \\t\\t\\t\\t\\t\\t\\tчастота<br>изменений\\n  \\t\\t\\t\\t\\t\\t</p>\\n  \\t\\t\\t\\t\\t</div>\\n  \\t\\t\\t\\t\\t<div class=\"tmpl_hh_footer__item\">\\n  \\t\\t\\t\\t\\t\\t<div class=\"tmpl_hh_footer__label\">\\n  \\t\\t\\t\\t\\t\\t\\t<img src=\"https://hhcdn.ru/ichameleon/254078.svg\" alt=\"\">\\n  \\t\\t\\t\\t\\t\\t</div>\\n  \\t\\t\\t\\t\\t\\t<p class=\"tmpl_hh_footer__text\">\\n  \\t\\t\\t\\t\\t\\t\\tпродуктовых<br>команд \\n  \\t\\t\\t\\t\\t\\t</p>\\n  \\t\\t\\t\\t\\t</div>\\n  \\t\\t\\t\\t\\t<div class=\"tmpl_hh_footer__item\">\\n  \\t\\t\\t\\t\\t\\t<div class=\"tmpl_hh_footer__label\">\\n  \\t\\t\\t\\t\\t\\t\\t<img src=\"https://hhcdn.ru/ichameleon/254077.svg\" alt=\"\">\\n  \\t\\t\\t\\t\\t\\t</div>\\n  \\t\\t\\t\\t\\t\\t<p class=\"tmpl_hh_footer__text\">\\n  \\t\\t\\t\\t\\t\\t\\tвнедрений<br>в год\\n  \\t\\t\\t\\t\\t\\t</p>\\n  \\t\\t\\t\\t\\t</div>\\n  \\t\\t\\t\\t</div>\\n  \\t\\t\\t\\t<div class=\"tmpl_hh_footer__company\">\\n  \\t\\t\\t\\t\\tПАО Сбербанк <br> представляет бренд Сбер\\n  \\t\\t\\t\\t</div>\\n  \\t\\t\\t</div>\\n\\t\\t<div class=\"tmpl_hh_decor tmpl_hh_decor5\">\\n  \\t\\t\\t\\t\\t<img src=\"https://hhcdn.ru/ichameleon/254303.svg\" alt=\"\">\\n  \\t\\t\\t\\t</div>\\n  \\t\\t</div>\\n',\n",
       " 'vacancy_constructor_template': None,\n",
       " 'key_skills': [],\n",
       " 'accept_handicapped': False,\n",
       " 'accept_kids': False,\n",
       " 'archived': False,\n",
       " 'response_url': None,\n",
       " 'specializations': [],\n",
       " 'professional_roles': [{'id': '96', 'name': 'Программист, разработчик'}],\n",
       " 'code': None,\n",
       " 'hidden': False,\n",
       " 'quick_responses_allowed': False,\n",
       " 'driver_license_types': [],\n",
       " 'accept_incomplete_resumes': False,\n",
       " 'employer': {'id': '3529',\n",
       "  'name': 'СБЕР',\n",
       "  'url': 'https://api.hh.ru/employers/3529',\n",
       "  'alternate_url': 'https://hh.ru/employer/3529',\n",
       "  'logo_urls': {'240': 'https://hhcdn.ru/employer-logo/5756157.png',\n",
       "   '90': 'https://hhcdn.ru/employer-logo/5756156.png',\n",
       "   'original': 'https://hhcdn.ru/employer-logo-original/1033849.png'},\n",
       "  'vacancies_url': 'https://api.hh.ru/vacancies?employer_id=3529',\n",
       "  'accredited_it_employer': False,\n",
       "  'trusted': True},\n",
       " 'published_at': '2023-12-11T17:31:59+0300',\n",
       " 'created_at': '2023-12-11T17:31:59+0300',\n",
       " 'initial_created_at': '2023-12-11T17:31:59+0300',\n",
       " 'negotiations_url': None,\n",
       " 'suitable_resumes_url': None,\n",
       " 'apply_alternate_url': 'https://hh.ru/applicant/vacancy_response?vacancyId=90572059',\n",
       " 'has_test': False,\n",
       " 'test': None,\n",
       " 'alternate_url': 'https://hh.ru/vacancy/90572059',\n",
       " 'working_days': [],\n",
       " 'working_time_intervals': [],\n",
       " 'working_time_modes': [],\n",
       " 'accept_temporary': False,\n",
       " 'languages': []}"
      ]
     },
     "execution_count": 16,
     "metadata": {},
     "output_type": "execute_result"
    }
   ],
   "source": [
    "# Пример полного описания вакансии\n",
    "vacancy"
   ]
  },
  {
   "cell_type": "code",
   "execution_count": 17,
   "metadata": {},
   "outputs": [
    {
     "name": "stderr",
     "output_type": "stream",
     "text": [
      "100%|██████████| 1562/1562 [14:18<00:00,  1.82it/s]\n"
     ]
    }
   ],
   "source": [
    "# Собираем массив с полными описаниями вакансий по идентификаторам\n",
    "full_vacancies = []\n",
    "for vac_id in tqdm(all_vacancy_ids):\n",
    "    url = f'https://api.hh.ru/vacancies/{vac_id}'\n",
    "    res = requests.get(url)\n",
    "    vacancy = res.json()\n",
    "    full_vacancies.append(vacancy)"
   ]
  },
  {
   "cell_type": "code",
   "execution_count": 18,
   "metadata": {},
   "outputs": [
    {
     "data": {
      "text/html": [
       "<div>\n",
       "<style scoped>\n",
       "    .dataframe tbody tr th:only-of-type {\n",
       "        vertical-align: middle;\n",
       "    }\n",
       "\n",
       "    .dataframe tbody tr th {\n",
       "        vertical-align: top;\n",
       "    }\n",
       "\n",
       "    .dataframe thead th {\n",
       "        text-align: right;\n",
       "    }\n",
       "</style>\n",
       "<table border=\"1\" class=\"dataframe\">\n",
       "  <thead>\n",
       "    <tr style=\"text-align: right;\">\n",
       "      <th></th>\n",
       "      <th>id</th>\n",
       "      <th>premium</th>\n",
       "      <th>relations</th>\n",
       "      <th>name</th>\n",
       "      <th>insider_interview</th>\n",
       "      <th>response_letter_required</th>\n",
       "      <th>salary</th>\n",
       "      <th>allow_messages</th>\n",
       "      <th>contacts</th>\n",
       "      <th>description</th>\n",
       "      <th>...</th>\n",
       "      <th>employer.trusted</th>\n",
       "      <th>salary.from</th>\n",
       "      <th>salary.to</th>\n",
       "      <th>salary.currency</th>\n",
       "      <th>salary.gross</th>\n",
       "      <th>address.metro</th>\n",
       "      <th>address</th>\n",
       "      <th>test.required</th>\n",
       "      <th>immediate_redirect_url</th>\n",
       "      <th>immediate_redirect_vacancy_id</th>\n",
       "    </tr>\n",
       "  </thead>\n",
       "  <tbody>\n",
       "    <tr>\n",
       "      <th>0</th>\n",
       "      <td>90591314</td>\n",
       "      <td>False</td>\n",
       "      <td>[]</td>\n",
       "      <td>HR специалист (командировки и льготы)</td>\n",
       "      <td>None</td>\n",
       "      <td>True</td>\n",
       "      <td>NaN</td>\n",
       "      <td>True</td>\n",
       "      <td>None</td>\n",
       "      <td>&lt;p&gt;Мы находимся в поисках специалиста hr коман...</td>\n",
       "      <td>...</td>\n",
       "      <td>True</td>\n",
       "      <td>NaN</td>\n",
       "      <td>NaN</td>\n",
       "      <td>NaN</td>\n",
       "      <td>NaN</td>\n",
       "      <td>NaN</td>\n",
       "      <td>NaN</td>\n",
       "      <td>NaN</td>\n",
       "      <td>NaN</td>\n",
       "      <td>NaN</td>\n",
       "    </tr>\n",
       "    <tr>\n",
       "      <th>1</th>\n",
       "      <td>88818100</td>\n",
       "      <td>False</td>\n",
       "      <td>[]</td>\n",
       "      <td>Старший менеджер по работе с ключевыми клиентами</td>\n",
       "      <td>None</td>\n",
       "      <td>False</td>\n",
       "      <td>NaN</td>\n",
       "      <td>True</td>\n",
       "      <td>None</td>\n",
       "      <td>&lt;p&gt;Каждый второй предприниматель малого и сред...</td>\n",
       "      <td>...</td>\n",
       "      <td>True</td>\n",
       "      <td>195500.0</td>\n",
       "      <td>NaN</td>\n",
       "      <td>RUR</td>\n",
       "      <td>True</td>\n",
       "      <td>NaN</td>\n",
       "      <td>NaN</td>\n",
       "      <td>NaN</td>\n",
       "      <td>NaN</td>\n",
       "      <td>NaN</td>\n",
       "    </tr>\n",
       "    <tr>\n",
       "      <th>2</th>\n",
       "      <td>90433682</td>\n",
       "      <td>False</td>\n",
       "      <td>[]</td>\n",
       "      <td>Специалист по документообороту</td>\n",
       "      <td>None</td>\n",
       "      <td>False</td>\n",
       "      <td>NaN</td>\n",
       "      <td>False</td>\n",
       "      <td>None</td>\n",
       "      <td>&lt;p&gt;Сбер — это 14 тысяч подразделений по всей с...</td>\n",
       "      <td>...</td>\n",
       "      <td>True</td>\n",
       "      <td>NaN</td>\n",
       "      <td>NaN</td>\n",
       "      <td>NaN</td>\n",
       "      <td>NaN</td>\n",
       "      <td>NaN</td>\n",
       "      <td>NaN</td>\n",
       "      <td>NaN</td>\n",
       "      <td>NaN</td>\n",
       "      <td>NaN</td>\n",
       "    </tr>\n",
       "    <tr>\n",
       "      <th>3</th>\n",
       "      <td>87517053</td>\n",
       "      <td>False</td>\n",
       "      <td>[]</td>\n",
       "      <td>Старший клиентский менеджер</td>\n",
       "      <td>None</td>\n",
       "      <td>False</td>\n",
       "      <td>NaN</td>\n",
       "      <td>False</td>\n",
       "      <td>None</td>\n",
       "      <td>&lt;p&gt;&lt;strong&gt;Старший клиентский менеджер&lt;/strong...</td>\n",
       "      <td>...</td>\n",
       "      <td>True</td>\n",
       "      <td>115000.0</td>\n",
       "      <td>NaN</td>\n",
       "      <td>RUR</td>\n",
       "      <td>True</td>\n",
       "      <td>NaN</td>\n",
       "      <td>NaN</td>\n",
       "      <td>NaN</td>\n",
       "      <td>NaN</td>\n",
       "      <td>NaN</td>\n",
       "    </tr>\n",
       "    <tr>\n",
       "      <th>4</th>\n",
       "      <td>89692763</td>\n",
       "      <td>False</td>\n",
       "      <td>[]</td>\n",
       "      <td>Стажер в команду по технорискам</td>\n",
       "      <td>None</td>\n",
       "      <td>False</td>\n",
       "      <td>NaN</td>\n",
       "      <td>False</td>\n",
       "      <td>None</td>\n",
       "      <td>&lt;p&gt;Мы Команда Сбера по технорискам. Не без гор...</td>\n",
       "      <td>...</td>\n",
       "      <td>True</td>\n",
       "      <td>NaN</td>\n",
       "      <td>NaN</td>\n",
       "      <td>NaN</td>\n",
       "      <td>NaN</td>\n",
       "      <td>NaN</td>\n",
       "      <td>NaN</td>\n",
       "      <td>NaN</td>\n",
       "      <td>NaN</td>\n",
       "      <td>NaN</td>\n",
       "    </tr>\n",
       "  </tbody>\n",
       "</table>\n",
       "<p>5 rows × 86 columns</p>\n",
       "</div>"
      ],
      "text/plain": [
       "         id  premium relations  \\\n",
       "0  90591314    False        []   \n",
       "1  88818100    False        []   \n",
       "2  90433682    False        []   \n",
       "3  87517053    False        []   \n",
       "4  89692763    False        []   \n",
       "\n",
       "                                               name insider_interview  \\\n",
       "0             HR специалист (командировки и льготы)              None   \n",
       "1  Старший менеджер по работе с ключевыми клиентами              None   \n",
       "2                    Специалист по документообороту              None   \n",
       "3                       Старший клиентский менеджер              None   \n",
       "4                   Стажер в команду по технорискам              None   \n",
       "\n",
       "   response_letter_required  salary  allow_messages contacts  \\\n",
       "0                      True     NaN            True     None   \n",
       "1                     False     NaN            True     None   \n",
       "2                     False     NaN           False     None   \n",
       "3                     False     NaN           False     None   \n",
       "4                     False     NaN           False     None   \n",
       "\n",
       "                                         description  ... employer.trusted  \\\n",
       "0  <p>Мы находимся в поисках специалиста hr коман...  ...             True   \n",
       "1  <p>Каждый второй предприниматель малого и сред...  ...             True   \n",
       "2  <p>Сбер — это 14 тысяч подразделений по всей с...  ...             True   \n",
       "3  <p><strong>Старший клиентский менеджер</strong...  ...             True   \n",
       "4  <p>Мы Команда Сбера по технорискам. Не без гор...  ...             True   \n",
       "\n",
       "  salary.from salary.to  salary.currency  salary.gross  address.metro address  \\\n",
       "0         NaN       NaN              NaN           NaN            NaN     NaN   \n",
       "1    195500.0       NaN              RUR          True            NaN     NaN   \n",
       "2         NaN       NaN              NaN           NaN            NaN     NaN   \n",
       "3    115000.0       NaN              RUR          True            NaN     NaN   \n",
       "4         NaN       NaN              NaN           NaN            NaN     NaN   \n",
       "\n",
       "  test.required immediate_redirect_url immediate_redirect_vacancy_id  \n",
       "0           NaN                    NaN                           NaN  \n",
       "1           NaN                    NaN                           NaN  \n",
       "2           NaN                    NaN                           NaN  \n",
       "3           NaN                    NaN                           NaN  \n",
       "4           NaN                    NaN                           NaN  \n",
       "\n",
       "[5 rows x 86 columns]"
      ]
     },
     "execution_count": 18,
     "metadata": {},
     "output_type": "execute_result"
    }
   ],
   "source": [
    "# Создаем таблицу DataFrame из всех полученных данных\n",
    "import pandas as pd\n",
    "df = pd.json_normalize(full_vacancies)\n",
    "df.head()"
   ]
  },
  {
   "cell_type": "code",
   "execution_count": 19,
   "metadata": {},
   "outputs": [
    {
     "data": {
      "text/plain": [
       "(1562, 86)"
      ]
     },
     "execution_count": 19,
     "metadata": {},
     "output_type": "execute_result"
    }
   ],
   "source": [
    "df.shape"
   ]
  },
  {
   "cell_type": "code",
   "execution_count": 21,
   "metadata": {},
   "outputs": [],
   "source": [
    "# Сохраняем результаты\n",
    "# Возможно потребуется установка модуля openpyxl\n",
    "# !pip install openpyxl\n",
    "\n",
    "# Сохраняем в csv файл\n",
    "df.to_csv('vacancies.csv', index=False)\n",
    "# Сохраняем в эксель-файл\n",
    "df.to_excel('vacancies.xlsx', index=False)\n",
    "# Сохраняем в файл в формате pickle\n",
    "df.to_pickle('vacancies.pkl')"
   ]
  }
 ],
 "metadata": {
  "kernelspec": {
   "display_name": "Python 3",
   "language": "python",
   "name": "python3"
  },
  "language_info": {
   "codemirror_mode": {
    "name": "ipython",
    "version": 3
   },
   "file_extension": ".py",
   "mimetype": "text/x-python",
   "name": "python",
   "nbconvert_exporter": "python",
   "pygments_lexer": "ipython3",
   "version": "3.12.0"
  }
 },
 "nbformat": 4,
 "nbformat_minor": 2
}
