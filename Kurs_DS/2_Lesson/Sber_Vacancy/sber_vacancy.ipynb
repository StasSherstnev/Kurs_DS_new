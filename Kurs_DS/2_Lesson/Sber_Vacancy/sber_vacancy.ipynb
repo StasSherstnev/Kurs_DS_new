{
 "cells": [
  {
   "cell_type": "code",
   "execution_count": 2,
   "metadata": {},
   "outputs": [],
   "source": [
    "import requests\n",
    "from tqdm import tqdm"
   ]
  },
  {
   "cell_type": "code",
   "execution_count": 3,
   "metadata": {},
   "outputs": [],
   "source": [
    "# Идентификатор компании\n",
    "sber = '3529'\n",
    "# Номер страницы\n",
    "page = 1\n",
    "# Количество вакансий на страницу\n",
    "num_per_page = 100\n",
    "# Идентификатор области\n",
    "moscow = 1\n",
    "url = f'https://api.hh.ru/vacancies?employer_id={sber}&page={page}&per_page={num_per_page}&area={moscow}'"
   ]
  },
  {
   "cell_type": "code",
   "execution_count": 4,
   "metadata": {},
   "outputs": [
    {
     "data": {
      "text/plain": [
       "16"
      ]
     },
     "execution_count": 4,
     "metadata": {},
     "output_type": "execute_result"
    }
   ],
   "source": [
    "# Отправляем GET запрос в api.hh.ru\n",
    "res = requests.get(url)\n",
    "# Преобразовываем ответ api из JSON в словарь dict()\n",
    "vacancies = res.json()\n",
    "# Получаем количество страниц по результатам запроса\n",
    "num_pages = vacancies.get('pages')\n",
    "num_pages"
   ]
  },
  {
   "cell_type": "code",
   "execution_count": 5,
   "metadata": {},
   "outputs": [
    {
     "data": {
      "text/plain": [
       "dict_keys(['items', 'found', 'pages', 'page', 'per_page', 'clusters', 'arguments', 'fixes', 'suggests', 'alternate_url'])"
      ]
     },
     "execution_count": 5,
     "metadata": {},
     "output_type": "execute_result"
    }
   ],
   "source": [
    "# Вывод ключей словаря\n",
    "vacancies.keys()"
   ]
  },
  {
   "cell_type": "code",
   "execution_count": 11,
   "metadata": {},
   "outputs": [
    {
     "data": {
      "text/plain": [
       "{'id': '89084783',\n",
       " 'premium': False,\n",
       " 'name': 'Разработчик SQL',\n",
       " 'department': {'id': '3529-3529-data', 'name': 'Сбер. Data Science'},\n",
       " 'has_test': False,\n",
       " 'response_letter_required': False,\n",
       " 'area': {'id': '1', 'name': 'Москва', 'url': 'https://api.hh.ru/areas/1'},\n",
       " 'salary': None,\n",
       " 'type': {'id': 'open', 'name': 'Открытая'},\n",
       " 'address': None,\n",
       " 'response_url': None,\n",
       " 'sort_point_distance': None,\n",
       " 'published_at': '2023-12-08T09:13:27+0300',\n",
       " 'created_at': '2023-12-08T09:13:27+0300',\n",
       " 'archived': False,\n",
       " 'apply_alternate_url': 'https://hh.ru/applicant/vacancy_response?vacancyId=89084783',\n",
       " 'branding': {'type': 'MAKEUP', 'tariff': None},\n",
       " 'show_logo_in_search': True,\n",
       " 'insider_interview': None,\n",
       " 'url': 'https://api.hh.ru/vacancies/89084783?host=hh.ru',\n",
       " 'alternate_url': 'https://hh.ru/vacancy/89084783',\n",
       " 'relations': [],\n",
       " 'employer': {'id': '3529',\n",
       "  'name': 'СБЕР',\n",
       "  'url': 'https://api.hh.ru/employers/3529',\n",
       "  'alternate_url': 'https://hh.ru/employer/3529',\n",
       "  'logo_urls': {'240': 'https://hhcdn.ru/employer-logo/5756157.png',\n",
       "   '90': 'https://hhcdn.ru/employer-logo/5756156.png',\n",
       "   'original': 'https://hhcdn.ru/employer-logo-original/1033849.png'},\n",
       "  'vacancies_url': 'https://api.hh.ru/vacancies?employer_id=3529',\n",
       "  'accredited_it_employer': False,\n",
       "  'trusted': True},\n",
       " 'snippet': {'requirement': 'Навыки: SQL (Postgress ). Администрирование и глубокое понимание db postgres. Аналитика построение отчетности sql. Навыки python разработки Junior+.',\n",
       "  'responsibility': 'Мы занимаемся разработкой программного обеспечения для банковских систем, backend разработкой и внедрением рекомендательной системы, разработкой и поддержкой системы видеоаналитики на...'},\n",
       " 'contacts': None,\n",
       " 'schedule': {'id': 'fullDay', 'name': 'Полный день'},\n",
       " 'working_days': [],\n",
       " 'working_time_intervals': [],\n",
       " 'working_time_modes': [],\n",
       " 'accept_temporary': False,\n",
       " 'professional_roles': [{'id': '96', 'name': 'Программист, разработчик'}],\n",
       " 'accept_incomplete_resumes': False,\n",
       " 'experience': {'id': 'between1And3', 'name': 'От 1 года до 3 лет'},\n",
       " 'employment': {'id': 'full', 'name': 'Полная занятость'},\n",
       " 'adv_response_url': None,\n",
       " 'is_adv_vacancy': False,\n",
       " 'adv_context': None}"
      ]
     },
     "execution_count": 11,
     "metadata": {},
     "output_type": "execute_result"
    }
   ],
   "source": [
    "vacancies['items'][0]"
   ]
  },
  {
   "cell_type": "code",
   "execution_count": 6,
   "metadata": {},
   "outputs": [],
   "source": [
    "# Получаем список идентификаторов вакансий из короткого описания вакансий\n",
    "# с одной страницы\n",
    "vacancy_ids = [el.get('id') for el in vacancies.get('items')]"
   ]
  },
  {
   "cell_type": "code",
   "execution_count": 7,
   "metadata": {},
   "outputs": [
    {
     "data": {
      "text/plain": [
       "100"
      ]
     },
     "execution_count": 7,
     "metadata": {},
     "output_type": "execute_result"
    }
   ],
   "source": [
    "len(vacancy_ids)"
   ]
  },
  {
   "cell_type": "code",
   "execution_count": 13,
   "metadata": {},
   "outputs": [
    {
     "name": "stderr",
     "output_type": "stream",
     "text": [
      "100%|██████████| 16/16 [00:16<00:00,  1.00s/it]\n"
     ]
    }
   ],
   "source": [
    "# Запускаем цикл для сбора всех идентификаторов вакансий со всех страниц\n",
    "all_vacancy_ids= []\n",
    "for i in tqdm(range(num_pages)):\n",
    "    url = f'https://api.hh.ru/vacancies?employer_id={sber}&page={i}&per_page={num_per_page}&area={moscow}'\n",
    "    res = requests.get(url)\n",
    "    vacancies = res.json()\n",
    "    vacancy_ids = [el.get('id') for el in vacancies.get('items')]\n",
    "    # заполняем список элементами vacancy_ids с помощью метода extend\n",
    "    all_vacancy_ids.extend(vacancy_ids)"
   ]
  },
  {
   "cell_type": "code",
   "execution_count": 14,
   "metadata": {},
   "outputs": [
    {
     "data": {
      "text/plain": [
       "1562"
      ]
     },
     "execution_count": 14,
     "metadata": {},
     "output_type": "execute_result"
    }
   ],
   "source": [
    "# Проверка количества идентификаторов вакансий\n",
    "len(all_vacancy_ids)"
   ]
  },
  {
   "cell_type": "code",
   "execution_count": 15,
   "metadata": {},
   "outputs": [],
   "source": [
    "# Получение полной информации о вакансии по идентификатору\n",
    "# Отправляем запрос с идентификатором вакансии\n",
    "vac_id = 90572059\n",
    "url = f'https://api.hh.ru/vacancies/{vac_id}'\n",
    "res = requests.get(url)\n",
    "vacancy = res.json()"
   ]
  },
  {
   "cell_type": "code",
   "execution_count": null,
   "metadata": {},
   "outputs": [],
   "source": [
    "# Пример полного описания вакансии\n",
    "vacancy"
   ]
  },
  {
   "cell_type": "code",
   "execution_count": 17,
   "metadata": {},
   "outputs": [
    {
     "name": "stderr",
     "output_type": "stream",
     "text": [
      "100%|██████████| 1562/1562 [14:18<00:00,  1.82it/s]\n"
     ]
    }
   ],
   "source": [
    "# Собираем массив с полными описаниями вакансий по идентификаторам\n",
    "full_vacancies = []\n",
    "for vac_id in tqdm(all_vacancy_ids):\n",
    "    url = f'https://api.hh.ru/vacancies/{vac_id}'\n",
    "    res = requests.get(url)\n",
    "    vacancy = res.json()\n",
    "    full_vacancies.append(vacancy)"
   ]
  },
  {
   "cell_type": "code",
   "execution_count": 18,
   "metadata": {},
   "outputs": [
    {
     "data": {
      "text/html": [
       "<div>\n",
       "<style scoped>\n",
       "    .dataframe tbody tr th:only-of-type {\n",
       "        vertical-align: middle;\n",
       "    }\n",
       "\n",
       "    .dataframe tbody tr th {\n",
       "        vertical-align: top;\n",
       "    }\n",
       "\n",
       "    .dataframe thead th {\n",
       "        text-align: right;\n",
       "    }\n",
       "</style>\n",
       "<table border=\"1\" class=\"dataframe\">\n",
       "  <thead>\n",
       "    <tr style=\"text-align: right;\">\n",
       "      <th></th>\n",
       "      <th>id</th>\n",
       "      <th>premium</th>\n",
       "      <th>relations</th>\n",
       "      <th>name</th>\n",
       "      <th>insider_interview</th>\n",
       "      <th>response_letter_required</th>\n",
       "      <th>salary</th>\n",
       "      <th>allow_messages</th>\n",
       "      <th>contacts</th>\n",
       "      <th>description</th>\n",
       "      <th>...</th>\n",
       "      <th>employer.trusted</th>\n",
       "      <th>salary.from</th>\n",
       "      <th>salary.to</th>\n",
       "      <th>salary.currency</th>\n",
       "      <th>salary.gross</th>\n",
       "      <th>address.metro</th>\n",
       "      <th>address</th>\n",
       "      <th>test.required</th>\n",
       "      <th>immediate_redirect_url</th>\n",
       "      <th>immediate_redirect_vacancy_id</th>\n",
       "    </tr>\n",
       "  </thead>\n",
       "  <tbody>\n",
       "    <tr>\n",
       "      <th>0</th>\n",
       "      <td>90591314</td>\n",
       "      <td>False</td>\n",
       "      <td>[]</td>\n",
       "      <td>HR специалист (командировки и льготы)</td>\n",
       "      <td>None</td>\n",
       "      <td>True</td>\n",
       "      <td>NaN</td>\n",
       "      <td>True</td>\n",
       "      <td>None</td>\n",
       "      <td>&lt;p&gt;Мы находимся в поисках специалиста hr коман...</td>\n",
       "      <td>...</td>\n",
       "      <td>True</td>\n",
       "      <td>NaN</td>\n",
       "      <td>NaN</td>\n",
       "      <td>NaN</td>\n",
       "      <td>NaN</td>\n",
       "      <td>NaN</td>\n",
       "      <td>NaN</td>\n",
       "      <td>NaN</td>\n",
       "      <td>NaN</td>\n",
       "      <td>NaN</td>\n",
       "    </tr>\n",
       "    <tr>\n",
       "      <th>1</th>\n",
       "      <td>88818100</td>\n",
       "      <td>False</td>\n",
       "      <td>[]</td>\n",
       "      <td>Старший менеджер по работе с ключевыми клиентами</td>\n",
       "      <td>None</td>\n",
       "      <td>False</td>\n",
       "      <td>NaN</td>\n",
       "      <td>True</td>\n",
       "      <td>None</td>\n",
       "      <td>&lt;p&gt;Каждый второй предприниматель малого и сред...</td>\n",
       "      <td>...</td>\n",
       "      <td>True</td>\n",
       "      <td>195500.0</td>\n",
       "      <td>NaN</td>\n",
       "      <td>RUR</td>\n",
       "      <td>True</td>\n",
       "      <td>NaN</td>\n",
       "      <td>NaN</td>\n",
       "      <td>NaN</td>\n",
       "      <td>NaN</td>\n",
       "      <td>NaN</td>\n",
       "    </tr>\n",
       "    <tr>\n",
       "      <th>2</th>\n",
       "      <td>90433682</td>\n",
       "      <td>False</td>\n",
       "      <td>[]</td>\n",
       "      <td>Специалист по документообороту</td>\n",
       "      <td>None</td>\n",
       "      <td>False</td>\n",
       "      <td>NaN</td>\n",
       "      <td>False</td>\n",
       "      <td>None</td>\n",
       "      <td>&lt;p&gt;Сбер — это 14 тысяч подразделений по всей с...</td>\n",
       "      <td>...</td>\n",
       "      <td>True</td>\n",
       "      <td>NaN</td>\n",
       "      <td>NaN</td>\n",
       "      <td>NaN</td>\n",
       "      <td>NaN</td>\n",
       "      <td>NaN</td>\n",
       "      <td>NaN</td>\n",
       "      <td>NaN</td>\n",
       "      <td>NaN</td>\n",
       "      <td>NaN</td>\n",
       "    </tr>\n",
       "    <tr>\n",
       "      <th>3</th>\n",
       "      <td>87517053</td>\n",
       "      <td>False</td>\n",
       "      <td>[]</td>\n",
       "      <td>Старший клиентский менеджер</td>\n",
       "      <td>None</td>\n",
       "      <td>False</td>\n",
       "      <td>NaN</td>\n",
       "      <td>False</td>\n",
       "      <td>None</td>\n",
       "      <td>&lt;p&gt;&lt;strong&gt;Старший клиентский менеджер&lt;/strong...</td>\n",
       "      <td>...</td>\n",
       "      <td>True</td>\n",
       "      <td>115000.0</td>\n",
       "      <td>NaN</td>\n",
       "      <td>RUR</td>\n",
       "      <td>True</td>\n",
       "      <td>NaN</td>\n",
       "      <td>NaN</td>\n",
       "      <td>NaN</td>\n",
       "      <td>NaN</td>\n",
       "      <td>NaN</td>\n",
       "    </tr>\n",
       "    <tr>\n",
       "      <th>4</th>\n",
       "      <td>89692763</td>\n",
       "      <td>False</td>\n",
       "      <td>[]</td>\n",
       "      <td>Стажер в команду по технорискам</td>\n",
       "      <td>None</td>\n",
       "      <td>False</td>\n",
       "      <td>NaN</td>\n",
       "      <td>False</td>\n",
       "      <td>None</td>\n",
       "      <td>&lt;p&gt;Мы Команда Сбера по технорискам. Не без гор...</td>\n",
       "      <td>...</td>\n",
       "      <td>True</td>\n",
       "      <td>NaN</td>\n",
       "      <td>NaN</td>\n",
       "      <td>NaN</td>\n",
       "      <td>NaN</td>\n",
       "      <td>NaN</td>\n",
       "      <td>NaN</td>\n",
       "      <td>NaN</td>\n",
       "      <td>NaN</td>\n",
       "      <td>NaN</td>\n",
       "    </tr>\n",
       "  </tbody>\n",
       "</table>\n",
       "<p>5 rows × 86 columns</p>\n",
       "</div>"
      ],
      "text/plain": [
       "         id  premium relations  \\\n",
       "0  90591314    False        []   \n",
       "1  88818100    False        []   \n",
       "2  90433682    False        []   \n",
       "3  87517053    False        []   \n",
       "4  89692763    False        []   \n",
       "\n",
       "                                               name insider_interview  \\\n",
       "0             HR специалист (командировки и льготы)              None   \n",
       "1  Старший менеджер по работе с ключевыми клиентами              None   \n",
       "2                    Специалист по документообороту              None   \n",
       "3                       Старший клиентский менеджер              None   \n",
       "4                   Стажер в команду по технорискам              None   \n",
       "\n",
       "   response_letter_required  salary  allow_messages contacts  \\\n",
       "0                      True     NaN            True     None   \n",
       "1                     False     NaN            True     None   \n",
       "2                     False     NaN           False     None   \n",
       "3                     False     NaN           False     None   \n",
       "4                     False     NaN           False     None   \n",
       "\n",
       "                                         description  ... employer.trusted  \\\n",
       "0  <p>Мы находимся в поисках специалиста hr коман...  ...             True   \n",
       "1  <p>Каждый второй предприниматель малого и сред...  ...             True   \n",
       "2  <p>Сбер — это 14 тысяч подразделений по всей с...  ...             True   \n",
       "3  <p><strong>Старший клиентский менеджер</strong...  ...             True   \n",
       "4  <p>Мы Команда Сбера по технорискам. Не без гор...  ...             True   \n",
       "\n",
       "  salary.from salary.to  salary.currency  salary.gross  address.metro address  \\\n",
       "0         NaN       NaN              NaN           NaN            NaN     NaN   \n",
       "1    195500.0       NaN              RUR          True            NaN     NaN   \n",
       "2         NaN       NaN              NaN           NaN            NaN     NaN   \n",
       "3    115000.0       NaN              RUR          True            NaN     NaN   \n",
       "4         NaN       NaN              NaN           NaN            NaN     NaN   \n",
       "\n",
       "  test.required immediate_redirect_url immediate_redirect_vacancy_id  \n",
       "0           NaN                    NaN                           NaN  \n",
       "1           NaN                    NaN                           NaN  \n",
       "2           NaN                    NaN                           NaN  \n",
       "3           NaN                    NaN                           NaN  \n",
       "4           NaN                    NaN                           NaN  \n",
       "\n",
       "[5 rows x 86 columns]"
      ]
     },
     "execution_count": 18,
     "metadata": {},
     "output_type": "execute_result"
    }
   ],
   "source": [
    "# Создаем таблицу DataFrame из всех полученных данных\n",
    "import pandas as pd\n",
    "df = pd.json_normalize(full_vacancies)\n",
    "df.head()"
   ]
  },
  {
   "cell_type": "code",
   "execution_count": 19,
   "metadata": {},
   "outputs": [
    {
     "data": {
      "text/plain": [
       "(1562, 86)"
      ]
     },
     "execution_count": 19,
     "metadata": {},
     "output_type": "execute_result"
    }
   ],
   "source": [
    "df.shape"
   ]
  },
  {
   "cell_type": "code",
   "execution_count": 21,
   "metadata": {},
   "outputs": [],
   "source": [
    "# Сохраняем результаты\n",
    "# Возможно потребуется установка модуля openpyxl\n",
    "# !pip install openpyxl\n",
    "\n",
    "# Сохраняем в csv файл\n",
    "df.to_csv('vacancies.csv', index=False)\n",
    "# Сохраняем в эксель-файл\n",
    "df.to_excel('vacancies.xlsx', index=False)\n",
    "# Сохраняем в файл в формате pickle\n",
    "df.to_pickle('vacancies.pkl')"
   ]
  }
 ],
 "metadata": {
  "kernelspec": {
   "display_name": "Python 3",
   "language": "python",
   "name": "python3"
  },
  "language_info": {
   "codemirror_mode": {
    "name": "ipython",
    "version": 3
   },
   "file_extension": ".py",
   "mimetype": "text/x-python",
   "name": "python",
   "nbconvert_exporter": "python",
   "pygments_lexer": "ipython3",
   "version": "3.12.0"
  }
 },
 "nbformat": 4,
 "nbformat_minor": 2
}
