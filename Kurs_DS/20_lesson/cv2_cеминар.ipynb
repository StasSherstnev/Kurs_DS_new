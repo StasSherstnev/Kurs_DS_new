{
  "cells": [
    {
      "cell_type": "code",
      "execution_count": 3,
      "metadata": {
        "id": "in0PyicHhZDG"
      },
      "outputs": [],
      "source": [
        "import matplotlib.pyplot as plt\n",
        "import numpy\n",
        "import torch\n",
        "import torch.nn as nn\n",
        "import torchvision.models as models\n",
        "from torchvision import datasets, transforms\n",
        "from torch.utils.data import DataLoader"
      ]
    },
    {
      "cell_type": "code",
      "execution_count": 5,
      "metadata": {
        "id": "73ieMA485Tme"
      },
      "outputs": [],
      "source": [
        "# hyperparams\n",
        "inp_dim = 28 * 28\n",
        "#try to use other model params. check overfitting with large models\n",
        "hidden = 350\n",
        "out_dim = 60\n",
        "device_id = 0\n",
        "device = 'cpu' if device_id == -1 else f'cuda:{device_id}'\n",
        "n_epochs = 3\n",
        "batch_size = 128"
      ]
    },
    {
      "cell_type": "code",
      "execution_count": 6,
      "metadata": {
        "colab": {
          "base_uri": "https://localhost:8080/"
        },
        "id": "SI8UCZuy7hTK",
        "outputId": "daf89e72-5f98-4775-a47b-7b2fb827b7c9"
      },
      "outputs": [
        {
          "name": "stdout",
          "output_type": "stream",
          "text": [
            "Downloading http://yann.lecun.com/exdb/mnist/train-images-idx3-ubyte.gz\n",
            "Downloading http://yann.lecun.com/exdb/mnist/train-images-idx3-ubyte.gz to .\\MNIST\\raw\\train-images-idx3-ubyte.gz\n"
          ]
        },
        {
          "name": "stderr",
          "output_type": "stream",
          "text": [
            "100%|██████████| 9912422/9912422 [00:05<00:00, 1892326.06it/s]\n"
          ]
        },
        {
          "name": "stdout",
          "output_type": "stream",
          "text": [
            "Extracting .\\MNIST\\raw\\train-images-idx3-ubyte.gz to .\\MNIST\\raw\n",
            "\n",
            "Downloading http://yann.lecun.com/exdb/mnist/train-labels-idx1-ubyte.gz\n",
            "Downloading http://yann.lecun.com/exdb/mnist/train-labels-idx1-ubyte.gz to .\\MNIST\\raw\\train-labels-idx1-ubyte.gz\n"
          ]
        },
        {
          "name": "stderr",
          "output_type": "stream",
          "text": [
            "100%|██████████| 28881/28881 [00:00<?, ?it/s]\n"
          ]
        },
        {
          "name": "stdout",
          "output_type": "stream",
          "text": [
            "Extracting .\\MNIST\\raw\\train-labels-idx1-ubyte.gz to .\\MNIST\\raw\n",
            "\n",
            "Downloading http://yann.lecun.com/exdb/mnist/t10k-images-idx3-ubyte.gz\n",
            "Downloading http://yann.lecun.com/exdb/mnist/t10k-images-idx3-ubyte.gz to .\\MNIST\\raw\\t10k-images-idx3-ubyte.gz\n"
          ]
        },
        {
          "name": "stderr",
          "output_type": "stream",
          "text": [
            "100%|██████████| 1648877/1648877 [00:01<00:00, 1517421.86it/s]\n"
          ]
        },
        {
          "name": "stdout",
          "output_type": "stream",
          "text": [
            "Extracting .\\MNIST\\raw\\t10k-images-idx3-ubyte.gz to .\\MNIST\\raw\n",
            "\n",
            "Downloading http://yann.lecun.com/exdb/mnist/t10k-labels-idx1-ubyte.gz\n",
            "Downloading http://yann.lecun.com/exdb/mnist/t10k-labels-idx1-ubyte.gz to .\\MNIST\\raw\\t10k-labels-idx1-ubyte.gz\n"
          ]
        },
        {
          "name": "stderr",
          "output_type": "stream",
          "text": [
            "100%|██████████| 4542/4542 [00:00<00:00, 12103258.43it/s]"
          ]
        },
        {
          "name": "stdout",
          "output_type": "stream",
          "text": [
            "Extracting .\\MNIST\\raw\\t10k-labels-idx1-ubyte.gz to .\\MNIST\\raw\n",
            "\n"
          ]
        },
        {
          "name": "stderr",
          "output_type": "stream",
          "text": [
            "\n"
          ]
        }
      ],
      "source": [
        "transform = transforms.Compose(\n",
        "    [transforms.ToTensor(),\n",
        "     transforms.Normalize((0.5), (0.5)),\n",
        "     ])\n",
        "\n",
        "\n",
        "dataset_train = datasets.MNIST('.',\n",
        "                               train=True,\n",
        "                               download=True,\n",
        "                               transform=transform)\n",
        "trainloader = torch.utils.data.DataLoader(dataset_train,\n",
        "                                          batch_size=batch_size,\n",
        "                                          shuffle=True,\n",
        "                                          num_workers=2,\n",
        "                                          drop_last = True,)\n",
        "\n",
        "dataset_test = datasets.MNIST('.',\n",
        "                              train=False,\n",
        "                              download=True,\n",
        "                              transform=transform)\n",
        "testloader = torch.utils.data.DataLoader(dataset_train,\n",
        "                                          batch_size=batch_size,\n",
        "                                          shuffle=True,\n",
        "                                          num_workers=2,\n",
        "                                          drop_last = True,)"
      ]
    },
    {
      "cell_type": "code",
      "execution_count": 7,
      "metadata": {
        "colab": {
          "base_uri": "https://localhost:8080/"
        },
        "id": "dhJuBtoz7f43",
        "outputId": "ab1f3216-6cd5-43e6-9aab-d8f1a3b9b4de"
      },
      "outputs": [
        {
          "data": {
            "text/plain": [
              "(tensor([[[-1.0000, -1.0000, -1.0000, -1.0000, -1.0000, -1.0000, -1.0000,\n",
              "           -1.0000, -1.0000, -1.0000, -1.0000, -1.0000, -1.0000, -1.0000,\n",
              "           -1.0000, -1.0000, -1.0000, -1.0000, -1.0000, -1.0000, -1.0000,\n",
              "           -1.0000, -1.0000, -1.0000, -1.0000, -1.0000, -1.0000, -1.0000],\n",
              "          [-1.0000, -1.0000, -1.0000, -1.0000, -1.0000, -1.0000, -1.0000,\n",
              "           -1.0000, -1.0000, -1.0000, -1.0000, -1.0000, -1.0000, -1.0000,\n",
              "           -1.0000, -1.0000, -1.0000, -1.0000, -1.0000, -1.0000, -1.0000,\n",
              "           -1.0000, -1.0000, -1.0000, -1.0000, -1.0000, -1.0000, -1.0000],\n",
              "          [-1.0000, -1.0000, -1.0000, -1.0000, -1.0000, -1.0000, -1.0000,\n",
              "           -1.0000, -1.0000, -1.0000, -1.0000, -1.0000, -1.0000, -1.0000,\n",
              "           -1.0000, -1.0000, -1.0000, -1.0000, -1.0000, -1.0000, -1.0000,\n",
              "           -1.0000, -1.0000, -1.0000, -1.0000, -1.0000, -1.0000, -1.0000],\n",
              "          [-1.0000, -1.0000, -1.0000, -1.0000, -1.0000, -1.0000, -1.0000,\n",
              "           -1.0000, -1.0000, -1.0000, -1.0000, -1.0000, -1.0000, -1.0000,\n",
              "           -1.0000, -1.0000, -1.0000, -1.0000, -1.0000, -1.0000, -1.0000,\n",
              "           -1.0000, -1.0000, -1.0000, -1.0000, -1.0000, -1.0000, -1.0000],\n",
              "          [-1.0000, -1.0000, -1.0000, -1.0000, -1.0000, -1.0000, -1.0000,\n",
              "           -1.0000, -1.0000, -1.0000, -1.0000, -1.0000, -1.0000, -1.0000,\n",
              "           -1.0000, -1.0000, -1.0000, -1.0000, -1.0000, -1.0000, -1.0000,\n",
              "           -1.0000, -1.0000, -1.0000, -1.0000, -1.0000, -1.0000, -1.0000],\n",
              "          [-1.0000, -1.0000, -1.0000, -1.0000, -1.0000, -1.0000, -1.0000,\n",
              "           -1.0000, -1.0000, -1.0000, -1.0000, -1.0000, -1.0000, -1.0000,\n",
              "           -1.0000, -1.0000, -1.0000, -1.0000, -1.0000, -1.0000, -1.0000,\n",
              "           -0.0353,  0.9765, -0.7255, -1.0000, -1.0000, -1.0000, -1.0000],\n",
              "          [-1.0000, -1.0000, -1.0000, -1.0000, -1.0000, -1.0000, -1.0000,\n",
              "           -1.0000, -1.0000, -1.0000, -1.0000, -0.9216, -0.3255, -0.3725,\n",
              "           -1.0000, -1.0000, -1.0000, -1.0000, -1.0000, -1.0000, -0.4118,\n",
              "            0.9765,  0.4980, -1.0000, -1.0000, -1.0000, -1.0000, -1.0000],\n",
              "          [-1.0000, -1.0000, -1.0000, -1.0000, -1.0000, -1.0000, -1.0000,\n",
              "           -1.0000, -1.0000, -1.0000, -1.0000, -0.3176,  0.9922,  0.3020,\n",
              "           -1.0000, -1.0000, -1.0000, -1.0000, -1.0000, -0.6706,  0.8196,\n",
              "            0.7725, -0.8824, -1.0000, -1.0000, -1.0000, -1.0000, -1.0000],\n",
              "          [-1.0000, -1.0000, -1.0000, -1.0000, -1.0000, -1.0000, -1.0000,\n",
              "           -1.0000, -1.0000, -1.0000, -0.8824,  0.7647,  0.4118, -0.9922,\n",
              "           -1.0000, -1.0000, -1.0000, -1.0000, -1.0000,  0.2863,  0.6549,\n",
              "           -0.8980, -1.0000, -1.0000, -1.0000, -1.0000, -1.0000, -1.0000],\n",
              "          [-1.0000, -1.0000, -1.0000, -1.0000, -1.0000, -1.0000, -1.0000,\n",
              "           -1.0000, -1.0000, -1.0000, -0.8039,  0.9922, -0.5294, -1.0000,\n",
              "           -1.0000, -1.0000, -1.0000, -1.0000, -0.8353,  0.7804,  0.8588,\n",
              "           -0.8588, -1.0000, -1.0000, -1.0000, -1.0000, -1.0000, -1.0000],\n",
              "          [-1.0000, -1.0000, -1.0000, -1.0000, -1.0000, -1.0000, -1.0000,\n",
              "           -1.0000, -1.0000, -1.0000, -0.5451,  0.9922, -0.9294, -1.0000,\n",
              "           -1.0000, -1.0000, -1.0000, -1.0000, -0.6549,  0.9922,  0.1686,\n",
              "           -1.0000, -1.0000, -1.0000, -1.0000, -1.0000, -1.0000, -1.0000],\n",
              "          [-1.0000, -1.0000, -1.0000, -1.0000, -1.0000, -1.0000, -1.0000,\n",
              "           -1.0000, -1.0000, -0.8980,  0.7333,  0.5922, -0.9686, -1.0000,\n",
              "           -1.0000, -1.0000, -1.0000, -0.8667,  0.5451,  0.9216, -0.9765,\n",
              "           -1.0000, -1.0000, -1.0000, -1.0000, -1.0000, -1.0000, -1.0000],\n",
              "          [-1.0000, -1.0000, -1.0000, -1.0000, -1.0000, -1.0000, -1.0000,\n",
              "           -1.0000, -1.0000, -0.4824,  0.9137, -0.5608, -1.0000, -1.0000,\n",
              "           -1.0000, -1.0000, -1.0000, -0.3333,  0.9922,  0.8667, -1.0000,\n",
              "           -1.0000, -1.0000, -1.0000, -1.0000, -1.0000, -1.0000, -1.0000],\n",
              "          [-1.0000, -1.0000, -1.0000, -1.0000, -1.0000, -1.0000, -1.0000,\n",
              "           -1.0000, -1.0000,  0.4510,  0.8039, -1.0000, -1.0000, -1.0000,\n",
              "           -1.0000, -1.0000, -0.9608,  0.5608,  0.8902, -0.4902, -1.0000,\n",
              "           -1.0000, -1.0000, -1.0000, -1.0000, -1.0000, -1.0000, -1.0000],\n",
              "          [-1.0000, -1.0000, -1.0000, -1.0000, -1.0000, -1.0000, -1.0000,\n",
              "           -1.0000, -0.3176,  0.9922, -0.3333, -1.0000, -1.0000, -1.0000,\n",
              "           -1.0000, -1.0000, -0.4510,  0.9922,  0.5137, -1.0000, -1.0000,\n",
              "           -1.0000, -1.0000, -1.0000, -1.0000, -1.0000, -1.0000, -1.0000],\n",
              "          [-1.0000, -1.0000, -1.0000, -1.0000, -1.0000, -1.0000, -1.0000,\n",
              "           -1.0000, -0.2784,  0.9922, -0.7020, -1.0000, -1.0000, -1.0000,\n",
              "           -0.9608, -0.3098,  0.7882,  0.7333, -0.7725, -1.0000, -1.0000,\n",
              "           -1.0000, -1.0000, -1.0000, -1.0000, -1.0000, -1.0000, -1.0000],\n",
              "          [-1.0000, -1.0000, -1.0000, -1.0000, -1.0000, -1.0000, -1.0000,\n",
              "           -1.0000, -0.2784,  0.9922,  0.0980, -0.3882, -0.6157, -0.3333,\n",
              "            0.5608,  0.9922,  0.9922,  0.3882, -1.0000, -1.0000, -1.0000,\n",
              "           -1.0000, -1.0000, -1.0000, -1.0000, -1.0000, -1.0000, -1.0000],\n",
              "          [-1.0000, -1.0000, -1.0000, -1.0000, -1.0000, -1.0000, -1.0000,\n",
              "           -1.0000, -0.6706,  0.8510,  0.9922,  0.9922,  0.9451,  0.8431,\n",
              "            0.4118,  0.5216,  0.9765, -0.4118, -1.0000, -1.0000, -1.0000,\n",
              "           -1.0000, -1.0000, -1.0000, -1.0000, -1.0000, -1.0000, -1.0000],\n",
              "          [-1.0000, -1.0000, -1.0000, -1.0000, -1.0000, -1.0000, -1.0000,\n",
              "           -1.0000, -1.0000, -0.5765,  0.1608,  0.1608, -0.2706, -0.7725,\n",
              "           -0.9686,  0.4510,  0.2784, -1.0000, -1.0000, -1.0000, -1.0000,\n",
              "           -1.0000, -1.0000, -1.0000, -1.0000, -1.0000, -1.0000, -1.0000],\n",
              "          [-1.0000, -1.0000, -1.0000, -1.0000, -1.0000, -1.0000, -1.0000,\n",
              "           -1.0000, -1.0000, -1.0000, -1.0000, -1.0000, -1.0000, -1.0000,\n",
              "            0.1451,  0.9922, -0.0824, -1.0000, -1.0000, -1.0000, -1.0000,\n",
              "           -1.0000, -1.0000, -1.0000, -1.0000, -1.0000, -1.0000, -1.0000],\n",
              "          [-1.0000, -1.0000, -1.0000, -1.0000, -1.0000, -1.0000, -1.0000,\n",
              "           -1.0000, -1.0000, -1.0000, -1.0000, -1.0000, -1.0000, -0.8039,\n",
              "            0.7176,  0.7961, -0.8196, -1.0000, -1.0000, -1.0000, -1.0000,\n",
              "           -1.0000, -1.0000, -1.0000, -1.0000, -1.0000, -1.0000, -1.0000],\n",
              "          [-1.0000, -1.0000, -1.0000, -1.0000, -1.0000, -1.0000, -1.0000,\n",
              "           -1.0000, -1.0000, -1.0000, -1.0000, -1.0000, -0.9843,  0.4980,\n",
              "            0.9922,  0.0118, -1.0000, -1.0000, -1.0000, -1.0000, -1.0000,\n",
              "           -1.0000, -1.0000, -1.0000, -1.0000, -1.0000, -1.0000, -1.0000],\n",
              "          [-1.0000, -1.0000, -1.0000, -1.0000, -1.0000, -1.0000, -1.0000,\n",
              "           -1.0000, -1.0000, -1.0000, -1.0000, -1.0000, -0.3804,  0.9922,\n",
              "            0.3804, -0.9608, -1.0000, -1.0000, -1.0000, -1.0000, -1.0000,\n",
              "           -1.0000, -1.0000, -1.0000, -1.0000, -1.0000, -1.0000, -1.0000],\n",
              "          [-1.0000, -1.0000, -1.0000, -1.0000, -1.0000, -1.0000, -1.0000,\n",
              "           -1.0000, -1.0000, -1.0000, -1.0000, -0.9059,  0.8510,  0.8196,\n",
              "           -0.7020, -1.0000, -1.0000, -1.0000, -1.0000, -1.0000, -1.0000,\n",
              "           -1.0000, -1.0000, -1.0000, -1.0000, -1.0000, -1.0000, -1.0000],\n",
              "          [-1.0000, -1.0000, -1.0000, -1.0000, -1.0000, -1.0000, -1.0000,\n",
              "           -1.0000, -1.0000, -1.0000, -1.0000, -0.3176,  0.8353, -0.6078,\n",
              "           -1.0000, -1.0000, -1.0000, -1.0000, -1.0000, -1.0000, -1.0000,\n",
              "           -1.0000, -1.0000, -1.0000, -1.0000, -1.0000, -1.0000, -1.0000],\n",
              "          [-1.0000, -1.0000, -1.0000, -1.0000, -1.0000, -1.0000, -1.0000,\n",
              "           -1.0000, -1.0000, -1.0000, -1.0000, -1.0000, -1.0000, -1.0000,\n",
              "           -1.0000, -1.0000, -1.0000, -1.0000, -1.0000, -1.0000, -1.0000,\n",
              "           -1.0000, -1.0000, -1.0000, -1.0000, -1.0000, -1.0000, -1.0000],\n",
              "          [-1.0000, -1.0000, -1.0000, -1.0000, -1.0000, -1.0000, -1.0000,\n",
              "           -1.0000, -1.0000, -1.0000, -1.0000, -1.0000, -1.0000, -1.0000,\n",
              "           -1.0000, -1.0000, -1.0000, -1.0000, -1.0000, -1.0000, -1.0000,\n",
              "           -1.0000, -1.0000, -1.0000, -1.0000, -1.0000, -1.0000, -1.0000],\n",
              "          [-1.0000, -1.0000, -1.0000, -1.0000, -1.0000, -1.0000, -1.0000,\n",
              "           -1.0000, -1.0000, -1.0000, -1.0000, -1.0000, -1.0000, -1.0000,\n",
              "           -1.0000, -1.0000, -1.0000, -1.0000, -1.0000, -1.0000, -1.0000,\n",
              "           -1.0000, -1.0000, -1.0000, -1.0000, -1.0000, -1.0000, -1.0000]]]),\n",
              " 4)"
            ]
          },
          "execution_count": 7,
          "metadata": {},
          "output_type": "execute_result"
        }
      ],
      "source": [
        "dataset_test[555]"
      ]
    },
    {
      "cell_type": "code",
      "execution_count": 8,
      "metadata": {
        "id": "KTz2txO4LTZ3"
      },
      "outputs": [],
      "source": [
        "class Encoder(nn.Module):\n",
        "  #28*28 -> hidden -> hidden_out\n",
        "  def __init__(self, input_dim, hidden_dim, out_dim):\n",
        "    super().__init__()\n",
        "    #TODO try to use other layers\n",
        "    self.linear1 = nn.Linear(input_dim, hidden_dim)\n",
        "    self.do = nn.Dropout(0.1)\n",
        "    self.activ = nn.ReLU()\n",
        "    self.linear2 = nn.Linear(hidden_dim, out_dim)\n",
        "\n",
        "  def forward(self, x):\n",
        "    x = self.activ(self.do(self.linear1(x)))\n",
        "\n",
        "    return self.linear2(x)\n",
        "\n",
        "class Decoder(nn.Module):\n",
        "  #hidden_out-> hidden -> 28*28\n",
        "  def __init__(self, input_dim, hidden_dim, out_dim):\n",
        "    super().__init__()\n",
        "    #TODO try to use other layers\n",
        "    self.linear1 = nn.Linear(input_dim, hidden_dim)\n",
        "    self.do = nn.Dropout(0.1)\n",
        "    self.activ = nn.ReLU()\n",
        "    self.linear2 = nn.Linear(hidden_dim, out_dim)\n",
        "\n",
        "  def forward(self, x):\n",
        "    x = self.activ(self.do(self.linear1(x)))\n",
        "\n",
        "    return self.linear2(x)\n",
        "\n",
        "class LinearAutoEncoder(nn.Module):\n",
        "  def __init__(self, input_dim, hidden_dim, out_dim):\n",
        "    super().__init__()\n",
        "    self.encoder = Encoder(input_dim, hidden_dim, out_dim)\n",
        "    self.decoder = Decoder(out_dim, hidden_dim, input_dim)\n",
        "\n",
        "  def forward(self, x):\n",
        "    hidden = self.encoder(x)\n",
        "    x_ = self.decoder(hidden)\n",
        "\n",
        "    return x_\n"
      ]
    },
    {
      "cell_type": "code",
      "execution_count": 11,
      "metadata": {
        "id": "_fdZfq9C9zO2"
      },
      "outputs": [],
      "source": [
        "model = LinearAutoEncoder(inp_dim, hidden, out_dim)#.to(device)\n",
        "optim = torch.optim.Adam(model.parameters())\n",
        "loss_func = nn.MSELoss() #TODO try to use MAE\n"
      ]
    },
    {
      "cell_type": "code",
      "execution_count": 14,
      "metadata": {
        "colab": {
          "base_uri": "https://localhost:8080/",
          "height": 1000
        },
        "id": "4p52DhoFBYTr",
        "outputId": "be25dcb2-c33b-4ff5-87a6-1e8a81b42615"
      },
      "outputs": [
        {
          "name": "stdout",
          "output_type": "stream",
          "text": [
            "epoch: 0, step: 0, loss: 0.08586212247610092\n",
            "epoch: 0, step: 200, loss: 0.07300166040658951\n",
            "epoch: 0, step: 400, loss: 0.07188057899475098\n"
          ]
        },
        {
          "data": {
            "image/png": "[encoded data removed]",
            "text/plain": [
              "<Figure size 640x480 with 1 Axes>"
            ]
          },
          "metadata": {},
          "output_type": "display_data"
        },
        {
          "data": {
            "image/png": "[encoded data removed]",
            "text/plain": [
              "<Figure size 640x480 with 1 Axes>"
            ]
          },
          "metadata": {},
          "output_type": "display_data"
        },
        {
          "name": "stdout",
          "output_type": "stream",
          "text": [
            "epoch: 1, step: 0, loss: 0.0726860761642456\n",
            "epoch: 1, step: 200, loss: 0.0670873150229454\n",
            "epoch: 1, step: 400, loss: 0.06746946275234222\n"
          ]
        },
        {
          "data": {
            "image/png": "[encoded data removed]",
            "text/plain": [
              "<Figure size 640x480 with 1 Axes>"
            ]
          },
          "metadata": {},
          "output_type": "display_data"
        },
        {
          "data": {
            "image/png": "[encoded data removed]",
            "text/plain": [
              "<Figure size 640x480 with 1 Axes>"
            ]
          },
          "metadata": {},
          "output_type": "display_data"
        },
        {
          "name": "stdout",
          "output_type": "stream",
          "text": [
            "epoch: 2, step: 0, loss: 0.064010851085186\n",
            "epoch: 2, step: 200, loss: 0.06777369976043701\n",
            "epoch: 2, step: 400, loss: 0.06549373269081116\n"
          ]
        },
        {
          "data": {
            "image/png": "[encoded data removed]",
            "text/plain": [
              "<Figure size 640x480 with 1 Axes>"
            ]
          },
          "metadata": {},
          "output_type": "display_data"
        },
        {
          "data": {
            "image/png": "[encoded data removed]",
            "text/plain": [
              "<Figure size 640x480 with 1 Axes>"
            ]
          },
          "metadata": {},
          "output_type": "display_data"
        }
      ],
      "source": [
        "# hidden_out = 40\n",
        "for epoch in range(n_epochs):\n",
        "    for i, batch in enumerate(trainloader):\n",
        "        inputs, labels = batch\n",
        "        optim.zero_grad()\n",
        "        target = inputs.view(inputs.size(0), -1)#.to(device)\n",
        "        predict = model(target)\n",
        "        loss = loss_func(target, predict)\n",
        "        loss.backward()\n",
        "        optim.step()\n",
        "        if i % 200 == 0:\n",
        "            print(f'epoch: {epoch}, step: {i}, loss: {loss.item()}')\n",
        "    item = dataset_test.data[555].unsqueeze(0).view(1, -1).float()#.to(device)\n",
        "    plt.imshow(dataset_test.data[555].detach().numpy())\n",
        "    plt.show()\n",
        "    plt.imshow(model(item).view((28, 28)).cpu().detach().numpy())\n",
        "    plt.show()\n",
        "    torch.save(model.state_dict(), f'./lin_ae_chkpt_{epoch}.pth')\n"
      ]
    },
    {
      "cell_type": "code",
      "execution_count": 16,
      "metadata": {
        "id": "S2dg_Zq4e7gY"
      },
      "outputs": [],
      "source": [
        "input_channels = 1\n",
        "hidden_channels = 64"
      ]
    },
    {
      "cell_type": "code",
      "execution_count": 18,
      "metadata": {
        "id": "9CljFAzIMMEW"
      },
      "outputs": [],
      "source": [
        "class ConvEncoder(nn.Module):\n",
        "  #28x28 -> hidden -> hidden_out\n",
        "  def __init__(self, input_ch, hidden_ch):\n",
        "    super().__init__()\n",
        "    #TODO try to use other layers\n",
        "    self.conv1 = nn.Conv2d(input_ch, hidden_ch, kernel_size=5, stride=1,\n",
        "                           padding=2)\n",
        "    self.do1 = nn.Dropout(0.1)\n",
        "    self.pool1 = nn.MaxPool2d((2, 2)) # 14 x 14\n",
        "\n",
        "    self.conv2 = nn.Conv2d(hidden_ch, hidden_ch, kernel_size=3, stride=1,\n",
        "                           padding=1)\n",
        "    self.do2 = nn.Dropout(0.1)\n",
        "    self.pool2 = nn.MaxPool2d((2, 2)) # 7 x 7 = 49\n",
        "    self.conv3 = nn.Conv2d(hidden_ch, 1, kernel_size=3, stride=1,\n",
        "                           padding=1)\n",
        "    self.activ = nn.ReLU()\n",
        "\n",
        "  def forward(self, x):\n",
        "    x = self.pool1(self.do1(self.activ(self.conv1(x))))\n",
        "    x = self.pool2(self.do2(self.activ(self.conv2(x))))\n",
        "\n",
        "    return self.conv3(x)\n",
        "\n",
        "class ConvDecoder(nn.Module):\n",
        "  #hidden_out-> hidden -> 28*28\n",
        "  def __init__(self, input_ch, hidden_ch, ):\n",
        "    super().__init__()\n",
        "    #TODO try to use other layers\n",
        "    self.conv1 = nn.Conv2d(1, hidden_ch, kernel_size=3, stride=1,\n",
        "                           padding=1)\n",
        "    self.do1 = nn.Dropout(0.1)\n",
        "    self.upsample1 = nn.UpsamplingNearest2d(scale_factor=2) # 14 x 14\n",
        "\n",
        "    self.conv2 = nn.Conv2d(hidden_ch, hidden_ch, kernel_size=3, stride=1,\n",
        "                           padding=1)\n",
        "    self.do2 = nn.Dropout(0.1)\n",
        "    self.upsample2 = nn.UpsamplingNearest2d(scale_factor=2) # 28 x 28\n",
        "    self.conv3 = nn.Conv2d(hidden_ch, input_ch, kernel_size=5, stride=1,\n",
        "                           padding=2)\n",
        "    self.activ = nn.ReLU()\n",
        "\n",
        "  def forward(self, x):\n",
        "    x = self.upsample1(self.do1(self.activ(self.conv1(x))))\n",
        "    x = self.upsample2(self.do2(self.activ(self.conv2(x))))\n",
        "\n",
        "    return self.conv3(x)\n",
        "\n",
        "class ConvAutoEncoder(nn.Module):\n",
        "  def __init__(self, input_ch, hidden_ch, ):\n",
        "    super().__init__()\n",
        "    self.encoder = ConvEncoder(input_ch, hidden_ch, )\n",
        "    self.decoder = ConvDecoder(input_ch, hidden_ch, )\n",
        "\n",
        "  def forward(self, x):\n",
        "    hidden = self.encoder(x)\n",
        "    x_ = self.decoder(hidden)\n",
        "\n",
        "    return x_\n"
      ]
    },
    {
      "cell_type": "code",
      "execution_count": 19,
      "metadata": {
        "id": "ARAK5EjZe3Ju"
      },
      "outputs": [],
      "source": [
        "model = ConvAutoEncoder(input_channels, hidden_channels)#.to(device)\n",
        "optim = torch.optim.Adam(model.parameters())\n",
        "loss_func = nn.MSELoss() #TODO try to use MAE\n"
      ]
    },
    {
      "cell_type": "code",
      "execution_count": 21,
      "metadata": {
        "colab": {
          "base_uri": "https://localhost:8080/",
          "height": 1000
        },
        "id": "gelNqCC2e3Wq",
        "outputId": "411e613c-a886-452d-eb1d-d65c5281cdd9"
      },
      "outputs": [
        {
          "name": "stdout",
          "output_type": "stream",
          "text": [
            "epoch: 0, step: 0, loss: 0.0645090788602829\n",
            "epoch: 0, step: 200, loss: 0.05327409505844116\n",
            "epoch: 0, step: 400, loss: 0.05043953284621239\n"
          ]
        },
        {
          "data": {
            "image/png": "[encoded data removed]",
            "text/plain": [
              "<Figure size 640x480 with 1 Axes>"
            ]
          },
          "metadata": {},
          "output_type": "display_data"
        },
        {
          "data": {
            "image/png": "[encoded data removed]",
            "text/plain": [
              "<Figure size 640x480 with 1 Axes>"
            ]
          },
          "metadata": {},
          "output_type": "display_data"
        },
        {
          "name": "stdout",
          "output_type": "stream",
          "text": [
            "epoch: 1, step: 0, loss: 0.05281755328178406\n",
            "epoch: 1, step: 200, loss: 0.04819974675774574\n",
            "epoch: 1, step: 400, loss: 0.04560285806655884\n"
          ]
        },
        {
          "data": {
            "image/png": "[encoded data removed]",
            "text/plain": [
              "<Figure size 640x480 with 1 Axes>"
            ]
          },
          "metadata": {},
          "output_type": "display_data"
        },
        {
          "data": {
            "image/png": "[encoded data removed]",
            "text/plain": [
              "<Figure size 640x480 with 1 Axes>"
            ]
          },
          "metadata": {},
          "output_type": "display_data"
        },
        {
          "name": "stdout",
          "output_type": "stream",
          "text": [
            "epoch: 2, step: 0, loss: 0.04662761837244034\n",
            "epoch: 2, step: 200, loss: 0.04464544728398323\n",
            "epoch: 2, step: 400, loss: 0.04330800846219063\n"
          ]
        },
        {
          "data": {
            "image/png": "[encoded data removed]",
            "text/plain": [
              "<Figure size 640x480 with 1 Axes>"
            ]
          },
          "metadata": {},
          "output_type": "display_data"
        },
        {
          "data": {
            "image/png": "[encoded data removed]",
            "text/plain": [
              "<Figure size 640x480 with 1 Axes>"
            ]
          },
          "metadata": {},
          "output_type": "display_data"
        }
      ],
      "source": [
        "for epoch in range(n_epochs):\n",
        "    for i, batch in enumerate(trainloader):\n",
        "        inputs, labels = batch\n",
        "        optim.zero_grad()\n",
        "\n",
        "        predict = model(inputs)#.to(device))\n",
        "        loss = loss_func(inputs, predict)#.to(device), predict)\n",
        "        loss.backward()\n",
        "        optim.step()\n",
        "        if i % 200 == 0:\n",
        "            print(f'epoch: {epoch}, step: {i}, loss: {loss.item()}')\n",
        "    item = dataset_test[555][0].unsqueeze(0).float()#.to(device)\n",
        "    plt.imshow(dataset_test[555][0].squeeze().detach().numpy())\n",
        "    plt.show()\n",
        "    plt.imshow(model(item).squeeze().squeeze().cpu().detach().numpy())\n",
        "    plt.show()\n",
        "    torch.save(model.state_dict(), f'./conv_ae_chkpt_{epoch}.pth')"
      ]
    },
    {
      "cell_type": "code",
      "execution_count": null,
      "metadata": {
        "colab": {
          "base_uri": "https://localhost:8080/",
          "height": 1000
        },
        "id": "Krp05-y4e3hl",
        "outputId": "ab54f85e-08b5-4a93-9456-d6452c951b5a"
      },
      "outputs": [],
      "source": [
        "model = ConvAutoEncoder(input_channels, hidden_channels).to(device)\n",
        "optim = torch.optim.Adam(model.parameters())\n",
        "loss_func = nn.MSELoss() #TODO try to use MAE\n",
        "\n",
        "for epoch in range(n_epochs):\n",
        "    for i, batch in enumerate(trainloader):\n",
        "        inputs, labels = batch\n",
        "        optim.zero_grad()\n",
        "        inputs = inputs.to(device)\n",
        "        noise_inputs = inputs + \\\n",
        "        torch.normal(torch.zeros_like(inputs), torch.ones_like(inputs)) * 0.7\n",
        "        predict = model(noise_inputs)\n",
        "        loss = loss_func(inputs, predict)\n",
        "        loss.backward()\n",
        "        optim.step()\n",
        "        if i % 200 == 0:\n",
        "            print(f'epoch: {epoch}, step: {i}, loss: {loss.item()}')\n",
        "    item = dataset_test[555][0].unsqueeze(0).to(device).float()\n",
        "    item = item + torch.normal(torch.zeros_like(item), torch.ones_like(item)) * 0.7\n",
        "    plt.imshow(item.squeeze().squeeze().cpu().detach().numpy())\n",
        "    plt.show()\n",
        "    plt.imshow(model(item).squeeze().squeeze().cpu().detach().numpy())\n",
        "    plt.show()\n",
        "    torch.save(model.state_dict(), f'./conv_ae_chkpt_{epoch}.pth')"
      ]
    },
    {
      "cell_type": "code",
      "execution_count": null,
      "metadata": {
        "id": "BkTVkKl1hkYn"
      },
      "outputs": [],
      "source": [
        "class ConvVAEncoder(nn.Module):\n",
        "  #28*28 -> hidden -> hidden_out\n",
        "  def __init__(self, input_ch, hidden_ch):\n",
        "    super().__init__()\n",
        "    #TODO try to use other layers\n",
        "    self.conv1 = nn.Conv2d(input_ch, hidden_ch, kernel_size=5, stride=1,\n",
        "                           padding=2) # 28x28\n",
        "    self.do1 = nn.Dropout(0.1)\n",
        "    self.pool1 = nn.MaxPool2d(2, 2) # 14x14\n",
        "    self.conv2 = nn.Conv2d(hidden_ch, hidden_ch, kernel_size=3, stride=1,\n",
        "                           padding=1) # 14x14\n",
        "    self.do2 = nn.Dropout(0.1)\n",
        "    self.pool2 = nn.MaxPool2d(2, 2) # 7x7\n",
        "    self.conv3_mu = nn.Conv2d(hidden_ch, 1, kernel_size=3, stride=1,\n",
        "                           padding=1) # 7x7\n",
        "    self.conv3_sigma = nn.Conv2d(hidden_ch, 1, kernel_size=3, stride=1,\n",
        "                           padding=1) # 7x7\n",
        "    self.activ = nn.ReLU()\n",
        "\n",
        "  def forward(self, x):\n",
        "    x = self.pool1(self.do1(self.activ(self.conv1(x))))\n",
        "    x = self.pool2(self.do2(self.activ(self.conv2(x))))\n",
        "    mu = self.conv3_mu(x)\n",
        "    sigma = torch.exp(self.conv3_sigma(x))\n",
        "\n",
        "    return mu, sigma\n",
        "\n",
        "class ConvDecoder(nn.Module):\n",
        "  #hidden_out-> hidden -> 28*28\n",
        "  def __init__(self, input_ch, hidden_ch, ):\n",
        "    super().__init__()\n",
        "    #TODO try to use other layers\n",
        "    self.conv1 = nn.Conv2d(1, hidden_ch, kernel_size=3, stride=1,\n",
        "                           padding=1) # 7x7\n",
        "    self.do1 = nn.Dropout(0.1)\n",
        "    self.upsample1 = nn.UpsamplingNearest2d(scale_factor=2) # 14x14\n",
        "    self.conv2 = nn.Conv2d(hidden_ch, hidden_ch, kernel_size=3, stride=1,\n",
        "                           padding=1) # 14x14\n",
        "    self.do2 = nn.Dropout(0.1)\n",
        "    self.upsample2 = nn.UpsamplingNearest2d(scale_factor=2) # 28x28\n",
        "    self.conv3 = nn.Conv2d(hidden_ch, input_ch, kernel_size=5, stride=1,\n",
        "                           padding=2) # 28x28\n",
        "    self.activ = nn.ReLU()\n",
        "    self.emb = nn.Embedding(10, 49)\n",
        "\n",
        "  def forward(self, x, digit):\n",
        "    x = x + self.emb(digit)\n",
        "    x = self.upsample1(self.do1(self.activ(self.conv1(x))))\n",
        "    x = self.upsample2(self.do2(self.activ(self.conv2(x))))\n",
        "    x = self.conv3(x)\n",
        "\n",
        "\n",
        "    return x\n",
        "\n",
        "def sampling(mu, sigma):\n",
        "    return torch.normal(torch.zeros_like(mu), torch.ones_like(mu)) * sigma + mu\n",
        "\n",
        "class ConvVAE(nn.Module):\n",
        "  def __init__(self, input_ch, hidden_ch, ):\n",
        "    super().__init__()\n",
        "    self.encoder = ConvVAEncoder(input_ch, hidden_ch, )\n",
        "    self.decoder = ConvDecoder(input_ch, hidden_ch, )\n",
        "\n",
        "  def forward(self, x):\n",
        "    mu, sigma = self.encoder(x)\n",
        "    hidden = sampling(mu, sigma)\n",
        "    x_ = self.decoder(hidden)\n",
        "\n",
        "    return x_, mu, sigma"
      ]
    },
    {
      "cell_type": "code",
      "execution_count": null,
      "metadata": {
        "colab": {
          "base_uri": "https://localhost:8080/",
          "height": 1000
        },
        "id": "zC_TvIhon6n4",
        "outputId": "852b6a68-f317-4c29-f8ce-4d481dc76521"
      },
      "outputs": [],
      "source": [
        "def kl_loss(mu, sigma):\n",
        "    p = torch.distributions.Normal(mu, sigma)\n",
        "    q = torch.distributions.Normal(torch.zeros_like(mu), torch.ones_like(mu))\n",
        "    return torch.distributions.kl_divergence(p, q).mean()\n",
        "\n",
        "model = ConvVAE(input_channels, hidden_channels).to(device)\n",
        "optim = torch.optim.Adam(model.parameters())\n",
        "loss_func = nn.MSELoss() #TODO try to use MAE\n",
        "\n",
        "for epoch in range(n_epochs):\n",
        "    for i, batch in enumerate(trainloader):\n",
        "        inputs, labels = batch\n",
        "        optim.zero_grad()\n",
        "        inputs = inputs.to(device)\n",
        "        noise_inputs = inputs + \\\n",
        "        torch.normal(torch.zeros_like(inputs), torch.ones_like(inputs)) * 0.7\n",
        "        predict, mu, sigma = model(inputs)\n",
        "        loss = loss_func(inputs, predict) + 0.1 * kl_loss(mu, sigma)\n",
        "        loss.backward()\n",
        "        optim.step()\n",
        "        if i % 200 == 0:\n",
        "            print(f'epoch: {epoch}, step: {i}, loss: {loss.item()}')\n",
        "    item = dataset_test[77][0].unsqueeze(0).to(device).float()\n",
        "    item = item + torch.normal(torch.zeros_like(item), torch.ones_like(item)) * 0.7\n",
        "    plt.imshow(item.squeeze().squeeze().cpu().detach().numpy())\n",
        "    plt.show()\n",
        "    plt.imshow(model(item)[0].squeeze().squeeze().cpu().detach().numpy())\n",
        "    plt.show()\n",
        "    torch.save(model.state_dict(), f'./conv_ae_chkpt_{epoch}.pth')"
      ]
    },
    {
      "cell_type": "code",
      "execution_count": null,
      "metadata": {
        "colab": {
          "base_uri": "https://localhost:8080/"
        },
        "id": "_BacD0jKphn0",
        "outputId": "9e98c1b8-13d4-4b85-8b99-c40c771d3dfa"
      },
      "outputs": [],
      "source": [
        "item = dataset_test[77][0].unsqueeze(0).to(device).float()\n",
        "mu, sigma = model.encoder(item)\n",
        "print(mu, sigma)"
      ]
    },
    {
      "cell_type": "code",
      "execution_count": null,
      "metadata": {
        "colab": {
          "base_uri": "https://localhost:8080/",
          "height": 1000
        },
        "id": "HhH8O9eypgoj",
        "outputId": "ed246fb1-0408-4753-c265-75f62fab5017"
      },
      "outputs": [],
      "source": [
        "\n",
        "for _ in range(4):\n",
        "    hid = torch.normal(mu.cpu(), sigma.cpu()*0.1).to(device)\n",
        "\n",
        "    plt.imshow(model.decoder(hid).squeeze().squeeze().cpu().detach().numpy())\n",
        "    plt.show()"
      ]
    },
    {
      "cell_type": "markdown",
      "metadata": {
        "id": "-57Jq-CW8NmD"
      },
      "source": []
    }
  ],
  "metadata": {
    "accelerator": "GPU",
    "colab": {
      "gpuType": "T4",
      "provenance": []
    },
    "kernelspec": {
      "display_name": "Python 3",
      "name": "python3"
    },
    "language_info": {
      "codemirror_mode": {
        "name": "ipython",
        "version": 3
      },
      "file_extension": ".py",
      "mimetype": "text/x-python",
      "name": "python",
      "nbconvert_exporter": "python",
      "pygments_lexer": "ipython3",
      "version": "3.12.0"
    }
  },
  "nbformat": 4,
  "nbformat_minor": 0
}
