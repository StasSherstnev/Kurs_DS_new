{
 "cells": [
  {
   "cell_type": "markdown",
   "metadata": {},
   "source": [
    "#### Задание\n",
    "Собрать информацию о всех строящихся объектах на сайте \"наш.дом.рф\" и сохранить результаты в pandas dataframe. Либо загрузите из pickle-файла df_nashdomrf.pkl, если не получается скачать.\n",
    "Проверить состояние датафрейма и привести его в формат, позволяющий дальнейшее исследование данных:\n",
    "1. Привести колонки датафрейма к одному типу данных. \n",
    "2. Проверить индекс, чтобы он соответствовал порядку строк. \n",
    "3. Проверить наличие пропусков и в случае обнаружения, определить стратегию их обработки (например, заменить медианой, 0, -99999, удалить наблюдения с пропусками).\n",
    "\n",
    "4. Провести мини-исследование рынка строящейся недвижимости в одном или нескольких регионах с помощью pandas, matplotlib, seaborn, plotly и других инструментов.\n",
    "5. Рассчитать средние цены за квадратный метр по регионам. Важно чтобы пропуски не учитывались при расчете средней цены. \n",
    "6. Рассчитать объемы вводимого жилья по регионам и по годам. \n",
    "7. Сравнить этажность домов, количество квартир, жилую площадь, количество парковочных мест и цену за квадратный метр в разных регионах. \n",
    "8. Визуализировать разброс, связь и распределение этих показателей по регионам. \n",
    "9. Сделать выводы по каждому из расчетов и графиков"
   ]
  },
  {
   "cell_type": "code",
   "execution_count": 1,
   "metadata": {},
   "outputs": [],
   "source": [
    "import requests\n",
    "import pandas as pd\n",
    "import pickle\n",
    "import numpy as np\n"
   ]
  },
  {
   "cell_type": "code",
   "execution_count": 2,
   "metadata": {},
   "outputs": [
    {
     "ename": "JSONDecodeError",
     "evalue": "Expecting value: line 1 column 1 (char 0)",
     "output_type": "error",
     "traceback": [
      "\u001b[1;31m---------------------------------------------------------------------------\u001b[0m",
      "\u001b[1;31mJSONDecodeError\u001b[0m                           Traceback (most recent call last)",
      "File \u001b[1;32mc:\\Users\\Stas\\AppData\\Local\\Programs\\Python\\Python312\\Lib\\site-packages\\requests\\models.py:971\u001b[0m, in \u001b[0;36mResponse.json\u001b[1;34m(self, **kwargs)\u001b[0m\n\u001b[0;32m    970\u001b[0m \u001b[39mtry\u001b[39;00m:\n\u001b[1;32m--> 971\u001b[0m     \u001b[39mreturn\u001b[39;00m complexjson\u001b[39m.\u001b[39;49mloads(\u001b[39mself\u001b[39;49m\u001b[39m.\u001b[39;49mtext, \u001b[39m*\u001b[39;49m\u001b[39m*\u001b[39;49mkwargs)\n\u001b[0;32m    972\u001b[0m \u001b[39mexcept\u001b[39;00m JSONDecodeError \u001b[39mas\u001b[39;00m e:\n\u001b[0;32m    973\u001b[0m     \u001b[39m# Catch JSON-related errors and raise as requests.JSONDecodeError\u001b[39;00m\n\u001b[0;32m    974\u001b[0m     \u001b[39m# This aliases json.JSONDecodeError and simplejson.JSONDecodeError\u001b[39;00m\n",
      "File \u001b[1;32mc:\\Users\\Stas\\AppData\\Local\\Programs\\Python\\Python312\\Lib\\json\\__init__.py:346\u001b[0m, in \u001b[0;36mloads\u001b[1;34m(s, cls, object_hook, parse_float, parse_int, parse_constant, object_pairs_hook, **kw)\u001b[0m\n\u001b[0;32m    343\u001b[0m \u001b[39mif\u001b[39;00m (\u001b[39mcls\u001b[39m \u001b[39mis\u001b[39;00m \u001b[39mNone\u001b[39;00m \u001b[39mand\u001b[39;00m object_hook \u001b[39mis\u001b[39;00m \u001b[39mNone\u001b[39;00m \u001b[39mand\u001b[39;00m\n\u001b[0;32m    344\u001b[0m         parse_int \u001b[39mis\u001b[39;00m \u001b[39mNone\u001b[39;00m \u001b[39mand\u001b[39;00m parse_float \u001b[39mis\u001b[39;00m \u001b[39mNone\u001b[39;00m \u001b[39mand\u001b[39;00m\n\u001b[0;32m    345\u001b[0m         parse_constant \u001b[39mis\u001b[39;00m \u001b[39mNone\u001b[39;00m \u001b[39mand\u001b[39;00m object_pairs_hook \u001b[39mis\u001b[39;00m \u001b[39mNone\u001b[39;00m \u001b[39mand\u001b[39;00m \u001b[39mnot\u001b[39;00m kw):\n\u001b[1;32m--> 346\u001b[0m     \u001b[39mreturn\u001b[39;00m _default_decoder\u001b[39m.\u001b[39;49mdecode(s)\n\u001b[0;32m    347\u001b[0m \u001b[39mif\u001b[39;00m \u001b[39mcls\u001b[39m \u001b[39mis\u001b[39;00m \u001b[39mNone\u001b[39;00m:\n",
      "File \u001b[1;32mc:\\Users\\Stas\\AppData\\Local\\Programs\\Python\\Python312\\Lib\\json\\decoder.py:337\u001b[0m, in \u001b[0;36mJSONDecoder.decode\u001b[1;34m(self, s, _w)\u001b[0m\n\u001b[0;32m    333\u001b[0m \u001b[39m\u001b[39m\u001b[39m\"\"\"Return the Python representation of ``s`` (a ``str`` instance\u001b[39;00m\n\u001b[0;32m    334\u001b[0m \u001b[39mcontaining a JSON document).\u001b[39;00m\n\u001b[0;32m    335\u001b[0m \n\u001b[0;32m    336\u001b[0m \u001b[39m\"\"\"\u001b[39;00m\n\u001b[1;32m--> 337\u001b[0m obj, end \u001b[39m=\u001b[39m \u001b[39mself\u001b[39;49m\u001b[39m.\u001b[39;49mraw_decode(s, idx\u001b[39m=\u001b[39;49m_w(s, \u001b[39m0\u001b[39;49m)\u001b[39m.\u001b[39;49mend())\n\u001b[0;32m    338\u001b[0m end \u001b[39m=\u001b[39m _w(s, end)\u001b[39m.\u001b[39mend()\n",
      "File \u001b[1;32mc:\\Users\\Stas\\AppData\\Local\\Programs\\Python\\Python312\\Lib\\json\\decoder.py:355\u001b[0m, in \u001b[0;36mJSONDecoder.raw_decode\u001b[1;34m(self, s, idx)\u001b[0m\n\u001b[0;32m    354\u001b[0m \u001b[39mexcept\u001b[39;00m \u001b[39mStopIteration\u001b[39;00m \u001b[39mas\u001b[39;00m err:\n\u001b[1;32m--> 355\u001b[0m     \u001b[39mraise\u001b[39;00m JSONDecodeError(\u001b[39m\"\u001b[39m\u001b[39mExpecting value\u001b[39m\u001b[39m\"\u001b[39m, s, err\u001b[39m.\u001b[39mvalue) \u001b[39mfrom\u001b[39;00m \u001b[39mNone\u001b[39;00m\n\u001b[0;32m    356\u001b[0m \u001b[39mreturn\u001b[39;00m obj, end\n",
      "\u001b[1;31mJSONDecodeError\u001b[0m: Expecting value: line 1 column 1 (char 0)",
      "\nDuring handling of the above exception, another exception occurred:\n",
      "\u001b[1;31mJSONDecodeError\u001b[0m                           Traceback (most recent call last)",
      "\u001b[1;32mStasSherstnev\\Kurs_DS_new\\Kurs_DS\\3_lesson\\HW_2\\dom_NN_task2.ipynb Cell 3\u001b[0m line \u001b[0;36m1\n\u001b[0;32m      <a href='vscode-notebook-cell://github/StasSherstnev/Kurs_DS_new/Kurs_DS/3_lesson/HW_2/dom_NN_task2.ipynb#W2sdnNjb2RlLXZmcw%3D%3D?line=3'>4</a>\u001b[0m \u001b[39m# url = f'https://xn--80az8a.xn--d1aqf.xn--p1ai/%D1%81%D0%B5%D1%80%D0%B2%D0%B8%D1%81%D1%8B/api/kn/object?offset={offset_}&limit={limit_}&sortField=devId.devShortCleanNm&sortType=asc&objStatus=0'\u001b[39;00m\n\u001b[0;32m      <a href='vscode-notebook-cell://github/StasSherstnev/Kurs_DS_new/Kurs_DS/3_lesson/HW_2/dom_NN_task2.ipynb#W2sdnNjb2RlLXZmcw%3D%3D?line=4'>5</a>\u001b[0m \u001b[39m# зашел на сайт наш дом.рф нажал на на инструменты разработчика, на вкладке -сеть при нажатии на следующую страницу\u001b[39;00m\n\u001b[0;32m      <a href='vscode-notebook-cell://github/StasSherstnev/Kurs_DS_new/Kurs_DS/3_lesson/HW_2/dom_NN_task2.ipynb#W2sdnNjb2RlLXZmcw%3D%3D?line=5'>6</a>\u001b[0m \u001b[39m# появилась данная ссылка, стандартно выводит по 10 объектов\u001b[39;00m\n\u001b[0;32m      <a href='vscode-notebook-cell://github/StasSherstnev/Kurs_DS_new/Kurs_DS/3_lesson/HW_2/dom_NN_task2.ipynb#W2sdnNjb2RlLXZmcw%3D%3D?line=6'>7</a>\u001b[0m \u001b[39m# url =f'https://xn--80az8a.xn--d1aqf.xn--p1ai/%D1%81%D0%B5%D1%80%D0%B2%D0%B8%D1%81%D1%8B/api/erz/main/filter?offset={offset_}&limit={limit_}&sortField=devShortNm&sortType=asc'\u001b[39;00m\n\u001b[0;32m      <a href='vscode-notebook-cell://github/StasSherstnev/Kurs_DS_new/Kurs_DS/3_lesson/HW_2/dom_NN_task2.ipynb#W2sdnNjb2RlLXZmcw%3D%3D?line=7'>8</a>\u001b[0m \u001b[39m# offset при переходе на следующую страницу увеличивается на 10, 10.20.30, а Limit на 10\u001b[39;00m\n\u001b[0;32m      <a href='vscode-notebook-cell://github/StasSherstnev/Kurs_DS_new/Kurs_DS/3_lesson/HW_2/dom_NN_task2.ipynb#W2sdnNjb2RlLXZmcw%3D%3D?line=8'>9</a>\u001b[0m res \u001b[39m=\u001b[39m requests\u001b[39m.\u001b[39mget(url)\n\u001b[1;32m---> <a href='vscode-notebook-cell://github/StasSherstnev/Kurs_DS_new/Kurs_DS/3_lesson/HW_2/dom_NN_task2.ipynb#W2sdnNjb2RlLXZmcw%3D%3D?line=10'>11</a>\u001b[0m objects_data \u001b[39m=\u001b[39m res\u001b[39m.\u001b[39;49mjson()\n\u001b[0;32m     <a href='vscode-notebook-cell://github/StasSherstnev/Kurs_DS_new/Kurs_DS/3_lesson/HW_2/dom_NN_task2.ipynb#W2sdnNjb2RlLXZmcw%3D%3D?line=11'>12</a>\u001b[0m objects_data\u001b[39m.\u001b[39mget(\u001b[39m'\u001b[39m\u001b[39mdata\u001b[39m\u001b[39m'\u001b[39m)\u001b[39m.\u001b[39mget(\u001b[39m'\u001b[39m\u001b[39mlist\u001b[39m\u001b[39m'\u001b[39m)[\u001b[39m0\u001b[39m]\n",
      "File \u001b[1;32mc:\\Users\\Stas\\AppData\\Local\\Programs\\Python\\Python312\\Lib\\site-packages\\requests\\models.py:975\u001b[0m, in \u001b[0;36mResponse.json\u001b[1;34m(self, **kwargs)\u001b[0m\n\u001b[0;32m    971\u001b[0m     \u001b[39mreturn\u001b[39;00m complexjson\u001b[39m.\u001b[39mloads(\u001b[39mself\u001b[39m\u001b[39m.\u001b[39mtext, \u001b[39m*\u001b[39m\u001b[39m*\u001b[39mkwargs)\n\u001b[0;32m    972\u001b[0m \u001b[39mexcept\u001b[39;00m JSONDecodeError \u001b[39mas\u001b[39;00m e:\n\u001b[0;32m    973\u001b[0m     \u001b[39m# Catch JSON-related errors and raise as requests.JSONDecodeError\u001b[39;00m\n\u001b[0;32m    974\u001b[0m     \u001b[39m# This aliases json.JSONDecodeError and simplejson.JSONDecodeError\u001b[39;00m\n\u001b[1;32m--> 975\u001b[0m     \u001b[39mraise\u001b[39;00m RequestsJSONDecodeError(e\u001b[39m.\u001b[39mmsg, e\u001b[39m.\u001b[39mdoc, e\u001b[39m.\u001b[39mpos)\n",
      "\u001b[1;31mJSONDecodeError\u001b[0m: Expecting value: line 1 column 1 (char 0)"
     ]
    }
   ],
   "source": [
    "offset_ = 1 # сколько элементов спарсить\n",
    "limit_ = 1000 # количество объектов в на странице\n",
    "url = f'https://xn--80az8a.xn--d1aqf.xn--p1ai/%D1%81%D0%B5%D1%80%D0%B2%D0%B8%D1%81%D1%8B/api/kn/places?offset={offset_}&limit={limit_}&searchValue='\n",
    "# url = f'https://xn--80az8a.xn--d1aqf.xn--p1ai/%D1%81%D0%B5%D1%80%D0%B2%D0%B8%D1%81%D1%8B/api/kn/object?offset={offset_}&limit={limit_}&sortField=devId.devShortCleanNm&sortType=asc&objStatus=0'\n",
    "# зашел на сайт наш дом.рф нажал на на инструменты разработчика, на вкладке -сеть при нажатии на следующую страницу\n",
    "# появилась данная ссылка, стандартно выводит по 10 объектов\n",
    "# url =f'https://xn--80az8a.xn--d1aqf.xn--p1ai/%D1%81%D0%B5%D1%80%D0%B2%D0%B8%D1%81%D1%8B/api/erz/main/filter?offset={offset_}&limit={limit_}&sortField=devShortNm&sortType=asc'\n",
    "# offset при переходе на следующую страницу увеличивается на 10, 10.20.30, а Limit на 10\n",
    "res = requests.get(url)\n",
    "\n",
    "objects_data = res.json()\n",
    "objects_data.get('data').get('list')[0]"
   ]
  },
  {
   "cell_type": "code",
   "execution_count": 3,
   "metadata": {},
   "outputs": [
    {
     "data": {
      "text/plain": [
       "<Response [200]>"
      ]
     },
     "execution_count": 3,
     "metadata": {},
     "output_type": "execute_result"
    }
   ],
   "source": [
    "res"
   ]
  },
  {
   "cell_type": "code",
   "execution_count": 4,
   "metadata": {},
   "outputs": [
    {
     "ename": "FileNotFoundError",
     "evalue": "[Errno 2] No such file or directory: 'df_nashdomrf.pkl'",
     "output_type": "error",
     "traceback": [
      "\u001b[1;31m---------------------------------------------------------------------------\u001b[0m",
      "\u001b[1;31mFileNotFoundError\u001b[0m                         Traceback (most recent call last)",
      "\u001b[1;32mStasSherstnev\\Kurs_DS_new\\Kurs_DS\\3_lesson\\HW_2\\dom_NN_task2.ipynb Cell 5\u001b[0m line \u001b[0;36m1\n\u001b[1;32m----> <a href='vscode-notebook-cell://github/StasSherstnev/Kurs_DS_new/Kurs_DS/3_lesson/HW_2/dom_NN_task2.ipynb#W4sdnNjb2RlLXZmcw%3D%3D?line=0'>1</a>\u001b[0m \u001b[39mwith\u001b[39;00m \u001b[39mopen\u001b[39;49m(\u001b[39m'\u001b[39;49m\u001b[39mdf_nashdomrf.pkl\u001b[39;49m\u001b[39m'\u001b[39;49m, \u001b[39m'\u001b[39;49m\u001b[39mrb\u001b[39;49m\u001b[39m'\u001b[39;49m) \u001b[39mas\u001b[39;00m f:\n\u001b[0;32m      <a href='vscode-notebook-cell://github/StasSherstnev/Kurs_DS_new/Kurs_DS/3_lesson/HW_2/dom_NN_task2.ipynb#W4sdnNjb2RlLXZmcw%3D%3D?line=1'>2</a>\u001b[0m     df_cop \u001b[39m=\u001b[39m pickle\u001b[39m.\u001b[39mload(f)\n\u001b[0;32m      <a href='vscode-notebook-cell://github/StasSherstnev/Kurs_DS_new/Kurs_DS/3_lesson/HW_2/dom_NN_task2.ipynb#W4sdnNjb2RlLXZmcw%3D%3D?line=2'>3</a>\u001b[0m df_cop\u001b[39m.\u001b[39mhead()\n",
      "File \u001b[1;32m~\\AppData\\Roaming\\Python\\Python312\\site-packages\\IPython\\core\\interactiveshell.py:310\u001b[0m, in \u001b[0;36m_modified_open\u001b[1;34m(file, *args, **kwargs)\u001b[0m\n\u001b[0;32m    303\u001b[0m \u001b[39mif\u001b[39;00m file \u001b[39min\u001b[39;00m {\u001b[39m0\u001b[39m, \u001b[39m1\u001b[39m, \u001b[39m2\u001b[39m}:\n\u001b[0;32m    304\u001b[0m     \u001b[39mraise\u001b[39;00m \u001b[39mValueError\u001b[39;00m(\n\u001b[0;32m    305\u001b[0m         \u001b[39mf\u001b[39m\u001b[39m\"\u001b[39m\u001b[39mIPython won\u001b[39m\u001b[39m'\u001b[39m\u001b[39mt let you open fd=\u001b[39m\u001b[39m{\u001b[39;00mfile\u001b[39m}\u001b[39;00m\u001b[39m by default \u001b[39m\u001b[39m\"\u001b[39m\n\u001b[0;32m    306\u001b[0m         \u001b[39m\"\u001b[39m\u001b[39mas it is likely to crash IPython. If you know what you are doing, \u001b[39m\u001b[39m\"\u001b[39m\n\u001b[0;32m    307\u001b[0m         \u001b[39m\"\u001b[39m\u001b[39myou can use builtins\u001b[39m\u001b[39m'\u001b[39m\u001b[39m open.\u001b[39m\u001b[39m\"\u001b[39m\n\u001b[0;32m    308\u001b[0m     )\n\u001b[1;32m--> 310\u001b[0m \u001b[39mreturn\u001b[39;00m io_open(file, \u001b[39m*\u001b[39;49margs, \u001b[39m*\u001b[39;49m\u001b[39m*\u001b[39;49mkwargs)\n",
      "\u001b[1;31mFileNotFoundError\u001b[0m: [Errno 2] No such file or directory: 'df_nashdomrf.pkl'"
     ]
    }
   ],
   "source": [
    "with open('df_nashdomrf.pkl', 'rb') as f:\n",
    "    df_cop = pickle.load(f)\n",
    "df_cop.head()"
   ]
  },
  {
   "cell_type": "code",
   "execution_count": null,
   "metadata": {},
   "outputs": [],
   "source": [
    "pd.set_option('display.max_columns', None)\n",
    "df_cop.head(3)"
   ]
  },
  {
   "cell_type": "code",
   "execution_count": null,
   "metadata": {},
   "outputs": [],
   "source": [
    "#Удаляем ненужные столбцы\n",
    "df=df_cop.drop(['hobjId',\n",
    "                 'pdId',\n",
    "                  'objLkFreePlanDesc',\n",
    "                  'objSquareLiving',\n",
    "                  'rpdNum',\n",
    "                  'rpdPdfLink',\n",
    "                  'rpdIssueDttm',\n",
    "                  'objLkLatitude',\n",
    "                  'objLkLongitude',\n",
    "                  'objCompensFundFlg',\n",
    "                  'objProblemFlg',\n",
    "                  'loadDttm',\n",
    "                  'photoRenderDTO',\n",
    "                  'objGuarantyEscrowFlg',\n",
    "                  'objectType',\n",
    "                  'miniUrl',\n",
    "                  'residentialBuildings',\n",
    "                  'newBuildingId',\n",
    "                  'objFloorCnt',\n",
    "                  'objFlatSq',\n",
    "                  'objNonlivElemCnt',\n",
    "                  'isAvailableWantLiveHere',\n",
    "                  'objInfrstrBicycleLaneFlg',\n",
    "                  'objInfrstrPlaygrndCnt',\n",
    "                  'objInfrstrTrashAreaCnt',\n",
    "                  'objInfrstrObjPrkngCnt',\n",
    "                  'objInfrstrNotObjPrkngCnt',\n",
    "                  'objInfrstrRampFlg',\n",
    "                  'objInfrstrCurbLoweringFlg',\n",
    "                  'objElevatorWheelchairCnt',\n",
    "                  'objElevatorCargoCnt',\n",
    "                  'soldOutPerc',\n",
    "                  'nonlivFirstFloor',\n",
    "                  'objectTransportInfo',\n",
    "                  'conclusion',\n",
    "                  'objLkSaleDepEmail',\n",
    "                  'objGreenHouseFlg',\n",
    "                  'objEnergyEffShortDesc',\n",
    "                  'infrastructureIndexValue',\n",
    "                  'developer.devId',\n",
    "                  'generalContractorNm',\n",
    "                  'developer.devShortNm',\n",
    "                  'developer.devFullCleanNm',\n",
    "                  'developer.problObjCnt',\n",
    "                  'developer.buildObjCnt',\n",
    "                  'developer.comissObjCnt',\n",
    "                  'developer.regRegionDesc',\n",
    "                  'developer.devSite',\n",
    "                  'developer.devEmail',\n",
    "                  'developer.devOgrn',\n",
    "                  'developer.devKpp',\n",
    "                  'developer.devLegalAddr',\n",
    "                  'developer.devFactAddr',\n",
    "                  'developer.lastRpdId',\n",
    "                  'developer.fundGuarantyFlg',\n",
    "                  'developer.devOrgRegRegionCd',\n",
    "                  'developer.devEmplMainFullNm',\n",
    "                  'developer.developerGroupName',\n",
    "                  'developer.orgForm.id',\n",
    "                  'developer.orgForm.fullForm',\n",
    "                  'developer.orgForm.shortForm',\n",
    "                  'developer.companyGroupId',\n",
    "                  'developer.objGuarantyEscrowFlg',\n",
    "                  'developer.govFundFlg',\n",
    "                  'objLivCeilingHeight',\n",
    "                  'quartography.objLivElem1KCnt',\n",
    "                  'quartography.objLivElem2KCnt',\n",
    "                  'quartography.objLivElem3KCnt',\n",
    "                  'quartography.objLivElem4KCnt',\n",
    "                  'quartography.objLivElemCnt',\n",
    "                  'quartography.objLivElemEntrCnt',\n",
    "                  'quartography.objLivElemEntrFloorAvg',\n",
    "                  'nameObj',\n",
    "                  'transportDistIndex',\n",
    "                  'transportDistIndexValue',\n",
    "                  'metro.id',\n",
    "                  'metro.name',\n",
    "                  'metro.line',\n",
    "                  'metro.color',\n",
    "                  'metro.time',\n",
    "                  'metro.isWalk',\n",
    "                  'metro.colors',\n",
    "                  'complexShortNm',\n",
    "                  'airQualityIndexValue',\n",
    "                  'greenAreaIndexValue',\n",
    "                  'developer.bankruptStage.bankruptStageCd',\n",
    "                  'developer.bankruptStage.bankruptStageDesc',\n",
    "                  'developer.bankruptStage.bankruptLawUrl',\n",
    "                  'developer.orgBankruptMsgDttm'], axis=1)\n",
    "df=df.rename(columns={'objElemLivingCnt':'Kol_kvart',\n",
    "                      'objReady100PercDt':'SdachaDoma',\n",
    "                      'objElemParkingCnt':'Parking',\n",
    "                      'objLkClassDesc':'ClassDom',\n",
    "                      'objFlatCnt':'KolKvartir',\n",
    "                      'objInfrstrSportGroundCnt':'SportPlochadka',\n",
    "                      'objPriceAvg':'AvgPrice'})\n",
    "df.head(3)"
   ]
  },
  {
   "cell_type": "code",
   "execution_count": null,
   "metadata": {},
   "outputs": [],
   "source": [
    "df.info()"
   ]
  },
  {
   "cell_type": "code",
   "execution_count": null,
   "metadata": {},
   "outputs": [],
   "source": [
    "df['DatVidachKlyuch'] = df['DatVidachKlyuch'].replace(np.nan, 0)\n",
    "df['SportPlochadka'] = df['SportPlochadka'].replace(np.nan, 0)\n",
    "df['LiftPassagir'] = df['LiftPassagir'].replace(np.nan, 0)\n",
    "df['AvgPrice'] = df['AvgPrice'].replace(np.nan, 0)\n",
    "df['TelZastr'] = df['TelZastr'].replace(np.nan, 0)\n"
   ]
  },
  {
   "cell_type": "code",
   "execution_count": null,
   "metadata": {},
   "outputs": [],
   "source": [
    "df.info()"
   ]
  },
  {
   "cell_type": "code",
   "execution_count": null,
   "metadata": {},
   "outputs": [],
   "source": [
    "df['TelZastr'].count()"
   ]
  },
  {
   "cell_type": "code",
   "execution_count": null,
   "metadata": {},
   "outputs": [],
   "source": [
    "\n",
    "df = df.astype({'address':'string'})"
   ]
  },
  {
   "cell_type": "code",
   "execution_count": null,
   "metadata": {},
   "outputs": [],
   "source": [
    "df.dtypes"
   ]
  }
 ],
 "metadata": {
  "kernelspec": {
   "display_name": "Python 3",
   "language": "python",
   "name": "python3"
  },
  "language_info": {
   "codemirror_mode": {
    "name": "ipython",
    "version": 3
   },
   "file_extension": ".py",
   "mimetype": "text/x-python",
   "name": "python",
   "nbconvert_exporter": "python",
   "pygments_lexer": "ipython3",
   "version": "3.12.0"
  }
 },
 "nbformat": 4,
 "nbformat_minor": 2
}
