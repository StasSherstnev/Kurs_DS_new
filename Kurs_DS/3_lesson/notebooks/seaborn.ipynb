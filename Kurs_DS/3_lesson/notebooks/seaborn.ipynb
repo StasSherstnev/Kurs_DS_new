{
 "cells": [
  {
   "cell_type": "markdown",
   "metadata": {},
   "source": [
    "### Exploratory Data Analysis & Seaborn"
   ]
  },
  {
   "cell_type": "code",
   "execution_count": null,
   "metadata": {},
   "outputs": [],
   "source": [
    "# Colab Version\n",
    "# !pip install wget\n",
    "# !mkdir data\n",
    "# !wget -P data/ https://raw.githubusercontent.com/pytosha/new-python-repo/main/Lesson3/data/Snacks_Data.csv\n",
    "# !wget -P data/ https://raw.githubusercontent.com/pytosha/new-python-repo/main/Lesson3/data/winequality.csv"
   ]
  },
  {
   "cell_type": "code",
   "execution_count": 1,
   "metadata": {},
   "outputs": [],
   "source": [
    "# Эта команда позволяет вывыводить результаты друг за другом без вызова print\n",
    "from IPython.core.interactiveshell import InteractiveShell\n",
    "InteractiveShell.ast_node_interactivity = \"all\""
   ]
  }
 ],
 "metadata": {
  "kernelspec": {
   "display_name": "Python 3",
   "language": "python",
   "name": "python3"
  },
  "language_info": {
   "codemirror_mode": {
    "name": "ipython",
    "version": 3
   },
   "file_extension": ".py",
   "mimetype": "text/x-python",
   "name": "python",
   "nbconvert_exporter": "python",
   "pygments_lexer": "ipython3",
   "version": "3.12.0"
  }
 },
 "nbformat": 4,
 "nbformat_minor": 2
}
