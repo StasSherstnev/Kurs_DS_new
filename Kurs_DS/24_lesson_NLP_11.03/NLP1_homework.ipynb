{
  "cells": [
    {
      "cell_type": "markdown",
      "metadata": {
        "id": "dH7qx_irU4Y8"
      },
      "source": [
        "###ML1_1: \n",
        "https://www.hackerrank.com/challenges/capturing-non-capturing-groups/problem?isFullScreen=true\n",
        "\n"
      ]
    },
    {
      "cell_type": "code",
      "execution_count": null,
      "metadata": {
        "id": "xJfkstKpqsXp"
      },
      "outputs": [],
      "source": [
        "Regex_Pattern = r'(ok){3,}'\t# Do not delete 'r'."
      ]
    },
    {
      "cell_type": "markdown",
      "metadata": {},
      "source": [
        "###ML1_2: \n",
        "https://www.hackerrank.com/challenges/branch-reset-groups/problem?isFullScreen=true\n",
        "\n"
      ]
    },
    {
      "cell_type": "code",
      "execution_count": null,
      "metadata": {},
      "outputs": [],
      "source": [
        "Python 3 нет"
      ]
    },
    {
      "cell_type": "markdown",
      "metadata": {},
      "source": [
        "###ML1_3: \n",
        "https://www.hackerrank.com/challenges/detect-html-links/problem?isFullScreen=true\n",
        "\n"
      ]
    },
    {
      "cell_type": "code",
      "execution_count": 1,
      "metadata": {},
      "outputs": [
        {
          "data": {
            "text/plain": [
              "' Вывод\\n/wiki/Main_Page,Main page\\n/wiki/Portal:Contents,Contents\\n/wiki/Portal:Featured_content,Featured content\\n/wiki/Portal:Current_events,Current events\\n/wiki/Special:Random,Random article\\n//donate.wikimedia.org/wiki/Special:FundraiserRedirector?utm_source=donate&utm_medium=sidebar&utm_campaign=C13_en.wikipedia.org&uselang=en,Donate to Wikipedia\\n'"
            ]
          },
          "execution_count": 1,
          "metadata": {},
          "output_type": "execute_result"
        }
      ],
      "source": [
        "#Пример ввод\n",
        "text_1 = '''2\n",
        "<p><a href=\"http://www.quackit.com/html/tutorial/html_links.cfm\">Example Link</a></p>\n",
        "<div class=\"more-info\"><a href=\"http://www.quackit.com/html/examples/html_links_examples.cfm\">More Link Examples...</a></div>\n",
        "'''\n",
        "\n",
        "'''Вывод\n",
        "http://www.quackit.com/html/tutorial/html_links.cfm,Example Link\n",
        "http://www.quackit.com/html/examples/html_links_examples.cfm,More Link Examples...\n",
        "'''\n",
        "\n",
        "'''Пример ввод\n",
        "13\n",
        "<div class=\"portal\" role=\"navigation\" id='p-navigation'>\n",
        "<h3>Navigation</h3>\n",
        "<div class=\"body\">\n",
        "<ul>\n",
        " <li id=\"n-mainpage-description\"><a href=\"/wiki/Main_Page\" title=\"Visit the main page [z]\" accesskey=\"z\">Main page</a></li>\n",
        " <li id=\"n-contents\"><a href=\"/wiki/Portal:Contents\" title=\"Guides to browsing Wikipedia\">Contents</a></li>\n",
        " <li id=\"n-featuredcontent\"><a href=\"/wiki/Portal:Featured_content\" title=\"Featured content  the best of Wikipedia\">Featured content</a></li>\n",
        "<li id=\"n-currentevents\"><a href=\"/wiki/Portal:Current_events\" title=\"Find background information on current events\">Current events</a></li>\n",
        "<li id=\"n-randompage\"><a href=\"/wiki/Special:Random\" title=\"Load a random article [x]\" accesskey=\"x\">Random article</a></li>\n",
        "<li id=\"n-sitesupport\"><a href=\"//donate.wikimedia.org/wiki/Special:FundraiserRedirector?utm_source=donate&utm_medium=sidebar&utm_campaign=C13_en.wikipedia.org&uselang=en\" title=\"Support us\">Donate to Wikipedia</a></li>\n",
        "</ul>\n",
        "</div>\n",
        "</div>    \n",
        "'''\n",
        "\n",
        "''' Вывод\n",
        "/wiki/Main_Page,Main page\n",
        "/wiki/Portal:Contents,Contents\n",
        "/wiki/Portal:Featured_content,Featured content\n",
        "/wiki/Portal:Current_events,Current events\n",
        "/wiki/Special:Random,Random article\n",
        "//donate.wikimedia.org/wiki/Special:FundraiserRedirector?utm_source=donate&utm_medium=sidebar&utm_campaign=C13_en.wikipedia.org&uselang=en,Donate to Wikipedia\n",
        "'''"
      ]
    },
    {
      "cell_type": "code",
      "execution_count": 39,
      "metadata": {},
      "outputs": [
        {
          "name": "stdout",
          "output_type": "stream",
          "text": [
            "http://www.quackit.com/html/tutorial/html_links.cfm,Example Link\n",
            "http://www.quackit.com/html/tutorial/html_links.cfm,Example Link\n",
            "http://www.quackit.com/html/tutorial/html_links.cfm,Example Link\n",
            "http://www.quackit.com/html/tutorial/html_links.cfm,Example Link\n",
            "http://www.quackit.com/html/tutorial/html_links.cfm,Example Link\n",
            "http://www.quackit.com/html/tutorial/html_links.cfm,Example Link\n",
            "http://www.quackit.com/html/tutorial/html_links.cfm,Example Link\n",
            "http://www.quackit.com/html/tutorial/html_links.cfm,Example Link\n",
            "http://www.quackit.com/html/tutorial/html_links.cfm,Example Link\n",
            ",Example Link\n",
            ",Example Link\n",
            ",Example Link\n",
            ",Example Link\n",
            ",Example Link\n",
            ",Example Link\n",
            ",Example Link\n",
            ",Example Link\n",
            ",Example Link\n",
            ",Example Link\n",
            ",Example Link\n",
            ",Example Link\n",
            ",Example Link\n",
            ",Example Link\n",
            ",Example Link\n",
            ",Example Link\n",
            ",Example Link\n",
            ",Example Link\n",
            ",Example Link\n",
            ",Example Link\n",
            ",Example Link\n",
            ",Example Link\n",
            ",Example Link\n",
            ",Example Link\n",
            ",Example Link\n",
            ",Example Link\n",
            ",Example Link\n",
            ",Example Link\n",
            ",Example Link\n",
            ",Example Link\n",
            ",Example Link\n",
            ",Example Link\n",
            ",Example Link\n",
            ",Example Link\n",
            ",Example Link\n",
            ",Example Link\n",
            ",Example Link\n",
            ",Example Link\n",
            ",Example Link\n",
            ",Example Link\n",
            ",Example Link\n",
            ",Example Link\n",
            ",Example Link\n",
            ",Example Link\n",
            ",Example Link\n",
            ",Example Link\n",
            ",Example Link\n",
            ",Example Link\n",
            ",Example Link\n",
            ",Example Link\n",
            ",Example Link\n",
            ",Example Link\n",
            ",Example Link\n",
            ",Example Link\n",
            ",Example Link\n",
            ",Example Link\n",
            ",Example Link\n",
            ",\n",
            ",\n",
            ",\n",
            ",\n",
            ",\n",
            ",\n",
            ",\n",
            ",\n",
            ",\n",
            ",\n",
            ",\n",
            ",\n",
            ",\n",
            ",\n",
            ",<a href=\"http://www.quackit.com/html/examples/html_links_examples.cfm\">More Link Examples...\n",
            ",<a href=\"http://www.quackit.com/html/examples/html_links_examples.cfm\">More Link Examples...\n",
            ",<a href=\"http://www.quackit.com/html/examples/html_links_examples.cfm\">More Link Examples...\n",
            ",<a href=\"http://www.quackit.com/html/examples/html_links_examples.cfm\">More Link Examples...\n",
            ",<a href=\"http://www.quackit.com/html/examples/html_links_examples.cfm\">More Link Examples...\n",
            ",<a href=\"http://www.quackit.com/html/examples/html_links_examples.cfm\">More Link Examples...\n",
            ",<a href=\"http://www.quackit.com/html/examples/html_links_examples.cfm\">More Link Examples...\n",
            ",<a href=\"http://www.quackit.com/html/examples/html_links_examples.cfm\">More Link Examples...\n",
            ",<a href=\"http://www.quackit.com/html/examples/html_links_examples.cfm\">More Link Examples...\n",
            ",<a href=\"http://www.quackit.com/html/examples/html_links_examples.cfm\">More Link Examples...\n",
            ",<a href=\"http://www.quackit.com/html/examples/html_links_examples.cfm\">More Link Examples...\n",
            ",<a href=\"http://www.quackit.com/html/examples/html_links_examples.cfm\">More Link Examples...\n",
            ",<a href=\"http://www.quackit.com/html/examples/html_links_examples.cfm\">More Link Examples...\n",
            ",<a href=\"http://www.quackit.com/html/examples/html_links_examples.cfm\">More Link Examples...\n",
            ",<a href=\"http://www.quackit.com/html/examples/html_links_examples.cfm\">More Link Examples...\n",
            ",<a href=\"http://www.quackit.com/html/examples/html_links_examples.cfm\">More Link Examples...\n",
            ",<a href=\"http://www.quackit.com/html/examples/html_links_examples.cfm\">More Link Examples...\n",
            ",<a href=\"http://www.quackit.com/html/examples/html_links_examples.cfm\">More Link Examples...\n",
            ",<a href=\"http://www.quackit.com/html/examples/html_links_examples.cfm\">More Link Examples...\n",
            ",<a href=\"http://www.quackit.com/html/examples/html_links_examples.cfm\">More Link Examples...\n",
            ",<a href=\"http://www.quackit.com/html/examples/html_links_examples.cfm\">More Link Examples...\n",
            ",<a href=\"http://www.quackit.com/html/examples/html_links_examples.cfm\">More Link Examples...\n",
            ",<a href=\"http://www.quackit.com/html/examples/html_links_examples.cfm\">More Link Examples...\n",
            ",<a href=\"http://www.quackit.com/html/examples/html_links_examples.cfm\">More Link Examples...\n",
            ",<a href=\"http://www.quackit.com/html/examples/html_links_examples.cfm\">More Link Examples...\n",
            ",<a href=\"http://www.quackit.com/html/examples/html_links_examples.cfm\">More Link Examples...\n",
            ",<a href=\"http://www.quackit.com/html/examples/html_links_examples.cfm\">More Link Examples...\n",
            ",<a href=\"http://www.quackit.com/html/examples/html_links_examples.cfm\">More Link Examples...\n",
            ",<a href=\"http://www.quackit.com/html/examples/html_links_examples.cfm\">More Link Examples...\n",
            ",<a href=\"http://www.quackit.com/html/examples/html_links_examples.cfm\">More Link Examples...\n",
            "http://www.quackit.com/html/examples/html_links_examples.cfm,More Link Examples...\n",
            "http://www.quackit.com/html/examples/html_links_examples.cfm,More Link Examples...\n",
            "http://www.quackit.com/html/examples/html_links_examples.cfm,More Link Examples...\n",
            "http://www.quackit.com/html/examples/html_links_examples.cfm,More Link Examples...\n",
            "http://www.quackit.com/html/examples/html_links_examples.cfm,More Link Examples...\n"
          ]
        },
        {
          "ename": "AttributeError",
          "evalue": "'NoneType' object has no attribute 'end'",
          "output_type": "error",
          "traceback": [
            "\u001b[1;31m---------------------------------------------------------------------------\u001b[0m",
            "\u001b[1;31mAttributeError\u001b[0m                            Traceback (most recent call last)",
            "Cell \u001b[1;32mIn[39], line 9\u001b[0m\n\u001b[0;32m      7\u001b[0m e \u001b[38;5;241m=\u001b[39m end\u001b[38;5;241m.\u001b[39msearch(text_1,i)\n\u001b[0;32m      8\u001b[0m e_1 \u001b[38;5;241m=\u001b[39m end_1\u001b[38;5;241m.\u001b[39msearch(text_1,i)\n\u001b[1;32m----> 9\u001b[0m \u001b[38;5;28mprint\u001b[39m(text_1[\u001b[43ms\u001b[49m\u001b[38;5;241;43m.\u001b[39;49m\u001b[43mend\u001b[49m():e\u001b[38;5;241m.\u001b[39mstart()]\u001b[38;5;241m+\u001b[39m\u001b[38;5;124m\"\u001b[39m\u001b[38;5;124m,\u001b[39m\u001b[38;5;124m\"\u001b[39m\u001b[38;5;241m+\u001b[39mtext_1[e\u001b[38;5;241m.\u001b[39mend():e_1\u001b[38;5;241m.\u001b[39mstart()])\n\u001b[0;32m     10\u001b[0m i \u001b[38;5;241m+\u001b[39m\u001b[38;5;241m=\u001b[39m i\u001b[38;5;241m+\u001b[39me_1\u001b[38;5;241m.\u001b[39mstart()\n",
            "\u001b[1;31mAttributeError\u001b[0m: 'NoneType' object has no attribute 'end'"
          ]
        }
      ],
      "source": [
        "import re\n",
        "for i in range(len(text_1)):\n",
        "    nach = re.compile('href=\"')\n",
        "    end  = re.compile('\">')\n",
        "    end_1 = re.compile('</a>')\n",
        "    s = nach.search(text_1,i)\n",
        "    e = end.search(text_1,i)\n",
        "    e_1 = end_1.search(text_1,i)\n",
        "    print(text_1[s.end():e.start()]+\",\"+text_1[e.end():e_1.start()])\n",
        "    i += i+e_1.start()"
      ]
    },
    {
      "cell_type": "code",
      "execution_count": 32,
      "metadata": {},
      "outputs": [],
      "source": [
        "import re\n",
        "\n",
        "pattern = 'http'\n",
        "test_string = 'abyss'\n",
        "re.match('http', text_1)"
      ]
    },
    {
      "cell_type": "markdown",
      "metadata": {},
      "source": [
        "###ML1_4: Реализовать stemming, lemmatization & BoW на следующем датасете: https://cloud.mail.ru/public/Z4L3/vB8GcgTtK (Russian Toxic-abuse comments)"
      ]
    }
  ],
  "metadata": {
    "colab": {
      "name": "NLP1_homework",
      "provenance": [],
      "toc_visible": true
    },
    "kernelspec": {
      "display_name": "Python 3",
      "name": "python3"
    },
    "language_info": {
      "codemirror_mode": {
        "name": "ipython",
        "version": 3
      },
      "file_extension": ".py",
      "mimetype": "text/x-python",
      "name": "python",
      "nbconvert_exporter": "python",
      "pygments_lexer": "ipython3",
      "version": "3.12.0"
    }
  },
  "nbformat": 4,
  "nbformat_minor": 0
}
