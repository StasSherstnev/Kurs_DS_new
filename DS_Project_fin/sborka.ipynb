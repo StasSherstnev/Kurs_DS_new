{
 "cells": [
  {
   "cell_type": "code",
   "execution_count": null,
   "metadata": {},
   "outputs": [],
   "source": [
    "#button = st.button('предсказать')\n",
    "#if button:\n",
    "#    st.write(data_X['price_doc'].mean())"
   ]
  }
 ],
 "metadata": {
  "language_info": {
   "name": "python"
  }
 },
 "nbformat": 4,
 "nbformat_minor": 2
}
